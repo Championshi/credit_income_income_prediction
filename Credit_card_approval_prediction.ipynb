{
 "cells": [
  {
   "cell_type": "markdown",
   "id": "f4ac461a",
   "metadata": {},
   "source": [
    "# 0. import the necessary packages"
   ]
  },
  {
   "cell_type": "code",
   "execution_count": 71,
   "id": "46deb3b2",
   "metadata": {
    "hidden": true,
    "id": "46deb3b2"
   },
   "outputs": [],
   "source": [
    "import numpy as np\n",
    "import pandas as pd\n",
    "import missingno as msno\n",
    "import matplotlib\n",
    "import matplotlib.pyplot as plt\n",
    "import seaborn as sns\n",
    "import datetime\n",
    "import warnings\n",
    "from pandas.core.common import SettingWithCopyWarning\n",
    "from pandas_profiling import ProfileReport\n",
    "from pathlib import Path\n",
    "from scipy.stats import probplot, chi2_contingency, chi2\n",
    "from sklearn.model_selection import train_test_split, GridSearchCV, RandomizedSearchCV, cross_val_score, cross_val_predict\n",
    "from sklearn.base import BaseEstimator, TransformerMixin\n",
    "from sklearn.pipeline import Pipeline\n",
    "from sklearn.compose import ColumnTransformer\n",
    "from sklearn.preprocessing import OneHotEncoder, MinMaxScaler, OrdinalEncoder\n",
    "from sklearn.inspection import permutation_importance\n",
    "from sklearn.metrics import ConfusionMatrixDisplay, classification_report, roc_curve, roc_auc_score\n",
    "from sklearn.linear_model import SGDClassifier, LogisticRegression\n",
    "from sklearn.svm import SVC\n",
    "from sklearn.tree import DecisionTreeClassifier\n",
    "from sklearn.ensemble import RandomForestClassifier, GradientBoostingClassifier, BaggingClassifier, AdaBoostClassifier, VotingClassifier, ExtraTreesClassifier, StackingClassifier\n",
    "from sklearn.naive_bayes import GaussianNB\n",
    "from sklearn.neighbors import KNeighborsClassifier\n",
    "from sklearn.discriminant_analysis import LinearDiscriminantAnalysis\n",
    "from sklearn.neural_network import MLPClassifier\n",
    "from sklearn.gaussian_process import GaussianProcessClassifier\n",
    "from imblearn.over_sampling import SMOTE\n",
    "import joblib\n",
    "%matplotlib inline"
   ]
  },
  {
   "cell_type": "markdown",
   "id": "1441097c",
   "metadata": {},
   "source": [
    "# 1. Get the data"
   ]
  },
  {
   "cell_type": "code",
   "execution_count": 72,
   "id": "08b89053",
   "metadata": {
    "colab": {
     "base_uri": "https://localhost:8080/"
    },
    "id": "08b89053",
    "outputId": "00881095-43c8-4dbb-c660-f031ef0c5873"
   },
   "outputs": [],
   "source": [
    "#import csv file\n",
    "cc_data_full_data = pd.read_csv('dataset/application_record.csv')\n",
    "credit_status = pd.read_csv('dataset/credit_record.csv')"
   ]
  },
  {
   "cell_type": "code",
   "execution_count": 73,
   "id": "1efea0f1",
   "metadata": {
    "id": "1efea0f1"
   },
   "outputs": [
    {
     "name": "stderr",
     "output_type": "stream",
     "text": [
      "/var/folders/bb/dzx22n7n1t1gkqfhhky4j2ch0000gn/T/ipykernel_52027/2110769735.py:6: SettingWithCopyWarning: \n",
      "A value is trying to be set on a copy of a slice from a DataFrame\n",
      "\n",
      "See the caveats in the documentation: https://pandas.pydata.org/pandas-docs/stable/user_guide/indexing.html#returning-a-view-versus-a-copy\n",
      "  credit_status['dep_value'][credit_status['STATUS'] =='2']='Yes'\n",
      "/var/folders/bb/dzx22n7n1t1gkqfhhky4j2ch0000gn/T/ipykernel_52027/2110769735.py:7: SettingWithCopyWarning: \n",
      "A value is trying to be set on a copy of a slice from a DataFrame\n",
      "\n",
      "See the caveats in the documentation: https://pandas.pydata.org/pandas-docs/stable/user_guide/indexing.html#returning-a-view-versus-a-copy\n",
      "  credit_status['dep_value'][credit_status['STATUS'] =='3']='Yes'\n",
      "/var/folders/bb/dzx22n7n1t1gkqfhhky4j2ch0000gn/T/ipykernel_52027/2110769735.py:8: SettingWithCopyWarning: \n",
      "A value is trying to be set on a copy of a slice from a DataFrame\n",
      "\n",
      "See the caveats in the documentation: https://pandas.pydata.org/pandas-docs/stable/user_guide/indexing.html#returning-a-view-versus-a-copy\n",
      "  credit_status['dep_value'][credit_status['STATUS'] =='4']='Yes'\n",
      "/var/folders/bb/dzx22n7n1t1gkqfhhky4j2ch0000gn/T/ipykernel_52027/2110769735.py:9: SettingWithCopyWarning: \n",
      "A value is trying to be set on a copy of a slice from a DataFrame\n",
      "\n",
      "See the caveats in the documentation: https://pandas.pydata.org/pandas-docs/stable/user_guide/indexing.html#returning-a-view-versus-a-copy\n",
      "  credit_status['dep_value'][credit_status['STATUS'] =='5']='Yes'\n",
      "/var/folders/bb/dzx22n7n1t1gkqfhhky4j2ch0000gn/T/ipykernel_52027/2110769735.py:12: SettingWithCopyWarning: \n",
      "A value is trying to be set on a copy of a slice from a DataFrame\n",
      "\n",
      "See the caveats in the documentation: https://pandas.pydata.org/pandas-docs/stable/user_guide/indexing.html#returning-a-view-versus-a-copy\n",
      "  cpunt['dep_value'][cpunt['dep_value'] == 0]='No'\n"
     ]
    }
   ],
   "source": [
    "# creating the target variable\n",
    "begin_month=pd.DataFrame(credit_status.groupby(['ID'])['MONTHS_BALANCE'].agg(min))\n",
    "begin_month=begin_month.rename(columns={'MONTHS_BALANCE':'Account age'})\n",
    "cc_data_full_data=pd.merge(cc_data_full_data,begin_month,how='left',on='ID')\n",
    "credit_status['dep_value'] = None\n",
    "credit_status['dep_value'][credit_status['STATUS'] =='2']='Yes'\n",
    "credit_status['dep_value'][credit_status['STATUS'] =='3']='Yes'\n",
    "credit_status['dep_value'][credit_status['STATUS'] =='4']='Yes'\n",
    "credit_status['dep_value'][credit_status['STATUS'] =='5']='Yes'\n",
    "cpunt=credit_status.groupby('ID').count()\n",
    "cpunt['dep_value'][cpunt['dep_value'] > 0]='Yes'\n",
    "cpunt['dep_value'][cpunt['dep_value'] == 0]='No'\n",
    "cpunt = cpunt[['dep_value']]\n",
    "cc_data_full_data = pd.merge(cc_data_full_data,cpunt,how='inner',on='ID')\n",
    "cc_data_full_data['Is high risk']=cc_data_full_data['dep_value']\n",
    "cc_data_full_data.loc[cc_data_full_data['Is high risk']=='Yes','Is high risk']=1\n",
    "cc_data_full_data.loc[cc_data_full_data['Is high risk']=='No','Is high risk']=0\n",
    "cc_data_full_data.drop('dep_value',axis=1,inplace=True)\n",
    "warnings.simplefilter(action='always', category=SettingWithCopyWarning)"
   ]
  },
  {
   "cell_type": "code",
   "execution_count": 74,
   "id": "09865ddc",
   "metadata": {},
   "outputs": [],
   "source": [
    "# change the account in months\n",
    "cc_data_full_data['Account age'] = np.abs(cc_data_full_data['Account age']).astype('int32')"
   ]
  },
  {
   "cell_type": "code",
   "execution_count": 75,
   "id": "f0f2df32",
   "metadata": {
    "id": "f0f2df32"
   },
   "outputs": [],
   "source": [
    "# rename the columns to a more readable format\n",
    "cc_data_full_data = cc_data_full_data.rename(columns={\n",
    "    'CODE_GENDER':'Gender',\n",
    "    'FLAG_OWN_CAR':'Has a car',\n",
    "    'FLAG_OWN_REALTY':'Has a property',\n",
    "    'CNT_CHILDREN':'Children count',\n",
    "    'AMT_INCOME_TOTAL':'Income',\n",
    "    'NAME_INCOME_TYPE':'Employment type',\n",
    "    'NAME_EDUCATION_TYPE':'Education level',\n",
    "    'NAME_FAMILY_STATUS':'Marital status',\n",
    "    'NAME_HOUSING_TYPE':'Dwelling',\n",
    "    'DAYS_BIRTH':'Age in days',\n",
    "    'DAYS_EMPLOYED': 'Employment length in days',\n",
    "    'FLAG_MOBIL': 'Has a mobile phone',\n",
    "    'FLAG_WORK_PHONE': 'Has a work phone',\n",
    "    'FLAG_PHONE': 'Has a phone',\n",
    "    'FLAG_EMAIL': 'Has an email',\n",
    "    'OCCUPATION_TYPE': 'Job title',\n",
    "    'CNT_FAM_MEMBERS': 'Family member count',\n",
    "    'Account age': 'Account age in months'\n",
    "})"
   ]
  },
  {
   "cell_type": "code",
   "execution_count": 76,
   "id": "d9ed66b5",
   "metadata": {
    "id": "d9ed66b5"
   },
   "outputs": [],
   "source": [
    "# split the data into train and test\n",
    "def data_split(df, test_size):\n",
    "    train_df, test_df = train_test_split(df, test_size=test_size, random_state=42)\n",
    "    return train_df.reset_index(drop=True), test_df.reset_index(drop=True)"
   ]
  },
  {
   "cell_type": "code",
   "execution_count": 77,
   "id": "2a3579a8",
   "metadata": {},
   "outputs": [],
   "source": [
    "cc_train_original, cc_test_original = data_split(cc_data_full_data, 0.2)"
   ]
  },
  {
   "cell_type": "code",
   "execution_count": 78,
   "id": "ceba7729",
   "metadata": {},
   "outputs": [
    {
     "data": {
      "text/plain": [
       "(29165, 20)"
      ]
     },
     "execution_count": 78,
     "metadata": {},
     "output_type": "execute_result"
    }
   ],
   "source": [
    "cc_train_original.shape"
   ]
  },
  {
   "cell_type": "code",
   "execution_count": 79,
   "id": "b94df2f9",
   "metadata": {},
   "outputs": [
    {
     "data": {
      "text/plain": [
       "(7292, 20)"
      ]
     },
     "execution_count": 79,
     "metadata": {},
     "output_type": "execute_result"
    }
   ],
   "source": [
    "cc_test_original.shape"
   ]
  },
  {
   "cell_type": "code",
   "execution_count": 80,
   "id": "1857ec11",
   "metadata": {},
   "outputs": [],
   "source": [
    "# creating a copy of the dataset so that the original stays untouched\n",
    "cc_train_copy = cc_train_original.copy()\n",
    "cc_test_copy = cc_test_original.copy()"
   ]
  },
  {
   "cell_type": "markdown",
   "id": "715b8321",
   "metadata": {
    "id": "715b8321"
   },
   "source": [
    "# Explore the Data"
   ]
  },
  {
   "cell_type": "code",
   "execution_count": 81,
   "id": "0NDJvJIk4DnC",
   "metadata": {
    "id": "0NDJvJIk4DnC"
   },
   "outputs": [
    {
     "data": {
      "text/html": [
       "<div>\n",
       "<style scoped>\n",
       "    .dataframe tbody tr th:only-of-type {\n",
       "        vertical-align: middle;\n",
       "    }\n",
       "\n",
       "    .dataframe tbody tr th {\n",
       "        vertical-align: top;\n",
       "    }\n",
       "\n",
       "    .dataframe thead th {\n",
       "        text-align: right;\n",
       "    }\n",
       "</style>\n",
       "<table border=\"1\" class=\"dataframe\">\n",
       "  <thead>\n",
       "    <tr style=\"text-align: right;\">\n",
       "      <th></th>\n",
       "      <th>ID</th>\n",
       "      <th>Gender</th>\n",
       "      <th>Has a car</th>\n",
       "      <th>Has a property</th>\n",
       "      <th>Children count</th>\n",
       "      <th>Income</th>\n",
       "      <th>Employment type</th>\n",
       "      <th>Education level</th>\n",
       "      <th>Marital status</th>\n",
       "      <th>Dwelling</th>\n",
       "      <th>Age in days</th>\n",
       "      <th>Employment length in days</th>\n",
       "      <th>Has a mobile phone</th>\n",
       "      <th>Has a work phone</th>\n",
       "      <th>Has a phone</th>\n",
       "      <th>Has an email</th>\n",
       "      <th>Job title</th>\n",
       "      <th>Family member count</th>\n",
       "      <th>Account age in months</th>\n",
       "      <th>Is high risk</th>\n",
       "    </tr>\n",
       "  </thead>\n",
       "  <tbody>\n",
       "    <tr>\n",
       "      <th>0</th>\n",
       "      <td>5008804</td>\n",
       "      <td>M</td>\n",
       "      <td>Y</td>\n",
       "      <td>Y</td>\n",
       "      <td>0</td>\n",
       "      <td>427500.00</td>\n",
       "      <td>Working</td>\n",
       "      <td>Higher education</td>\n",
       "      <td>Civil marriage</td>\n",
       "      <td>Rented apartment</td>\n",
       "      <td>-12005</td>\n",
       "      <td>-4542</td>\n",
       "      <td>1</td>\n",
       "      <td>1</td>\n",
       "      <td>0</td>\n",
       "      <td>0</td>\n",
       "      <td>NaN</td>\n",
       "      <td>2.00</td>\n",
       "      <td>15</td>\n",
       "      <td>0</td>\n",
       "    </tr>\n",
       "    <tr>\n",
       "      <th>1</th>\n",
       "      <td>5008805</td>\n",
       "      <td>M</td>\n",
       "      <td>Y</td>\n",
       "      <td>Y</td>\n",
       "      <td>0</td>\n",
       "      <td>427500.00</td>\n",
       "      <td>Working</td>\n",
       "      <td>Higher education</td>\n",
       "      <td>Civil marriage</td>\n",
       "      <td>Rented apartment</td>\n",
       "      <td>-12005</td>\n",
       "      <td>-4542</td>\n",
       "      <td>1</td>\n",
       "      <td>1</td>\n",
       "      <td>0</td>\n",
       "      <td>0</td>\n",
       "      <td>NaN</td>\n",
       "      <td>2.00</td>\n",
       "      <td>14</td>\n",
       "      <td>0</td>\n",
       "    </tr>\n",
       "    <tr>\n",
       "      <th>2</th>\n",
       "      <td>5008806</td>\n",
       "      <td>M</td>\n",
       "      <td>Y</td>\n",
       "      <td>Y</td>\n",
       "      <td>0</td>\n",
       "      <td>112500.00</td>\n",
       "      <td>Working</td>\n",
       "      <td>Secondary / secondary special</td>\n",
       "      <td>Married</td>\n",
       "      <td>House / apartment</td>\n",
       "      <td>-21474</td>\n",
       "      <td>-1134</td>\n",
       "      <td>1</td>\n",
       "      <td>0</td>\n",
       "      <td>0</td>\n",
       "      <td>0</td>\n",
       "      <td>Security staff</td>\n",
       "      <td>2.00</td>\n",
       "      <td>29</td>\n",
       "      <td>0</td>\n",
       "    </tr>\n",
       "    <tr>\n",
       "      <th>3</th>\n",
       "      <td>5008808</td>\n",
       "      <td>F</td>\n",
       "      <td>N</td>\n",
       "      <td>Y</td>\n",
       "      <td>0</td>\n",
       "      <td>270000.00</td>\n",
       "      <td>Commercial associate</td>\n",
       "      <td>Secondary / secondary special</td>\n",
       "      <td>Single / not married</td>\n",
       "      <td>House / apartment</td>\n",
       "      <td>-19110</td>\n",
       "      <td>-3051</td>\n",
       "      <td>1</td>\n",
       "      <td>0</td>\n",
       "      <td>1</td>\n",
       "      <td>1</td>\n",
       "      <td>Sales staff</td>\n",
       "      <td>1.00</td>\n",
       "      <td>4</td>\n",
       "      <td>0</td>\n",
       "    </tr>\n",
       "    <tr>\n",
       "      <th>4</th>\n",
       "      <td>5008809</td>\n",
       "      <td>F</td>\n",
       "      <td>N</td>\n",
       "      <td>Y</td>\n",
       "      <td>0</td>\n",
       "      <td>270000.00</td>\n",
       "      <td>Commercial associate</td>\n",
       "      <td>Secondary / secondary special</td>\n",
       "      <td>Single / not married</td>\n",
       "      <td>House / apartment</td>\n",
       "      <td>-19110</td>\n",
       "      <td>-3051</td>\n",
       "      <td>1</td>\n",
       "      <td>0</td>\n",
       "      <td>1</td>\n",
       "      <td>1</td>\n",
       "      <td>Sales staff</td>\n",
       "      <td>1.00</td>\n",
       "      <td>26</td>\n",
       "      <td>0</td>\n",
       "    </tr>\n",
       "  </tbody>\n",
       "</table>\n",
       "</div>"
      ],
      "text/plain": [
       "        ID Gender Has a car Has a property  Children count    Income  \\\n",
       "0  5008804      M         Y              Y               0 427500.00   \n",
       "1  5008805      M         Y              Y               0 427500.00   \n",
       "2  5008806      M         Y              Y               0 112500.00   \n",
       "3  5008808      F         N              Y               0 270000.00   \n",
       "4  5008809      F         N              Y               0 270000.00   \n",
       "\n",
       "        Employment type                Education level        Marital status  \\\n",
       "0               Working               Higher education        Civil marriage   \n",
       "1               Working               Higher education        Civil marriage   \n",
       "2               Working  Secondary / secondary special               Married   \n",
       "3  Commercial associate  Secondary / secondary special  Single / not married   \n",
       "4  Commercial associate  Secondary / secondary special  Single / not married   \n",
       "\n",
       "            Dwelling  Age in days  Employment length in days  \\\n",
       "0   Rented apartment       -12005                      -4542   \n",
       "1   Rented apartment       -12005                      -4542   \n",
       "2  House / apartment       -21474                      -1134   \n",
       "3  House / apartment       -19110                      -3051   \n",
       "4  House / apartment       -19110                      -3051   \n",
       "\n",
       "   Has a mobile phone  Has a work phone  Has a phone  Has an email  \\\n",
       "0                   1                 1            0             0   \n",
       "1                   1                 1            0             0   \n",
       "2                   1                 0            0             0   \n",
       "3                   1                 0            1             1   \n",
       "4                   1                 0            1             1   \n",
       "\n",
       "        Job title  Family member count  Account age in months Is high risk  \n",
       "0             NaN                 2.00                     15            0  \n",
       "1             NaN                 2.00                     14            0  \n",
       "2  Security staff                 2.00                     29            0  \n",
       "3     Sales staff                 1.00                      4            0  \n",
       "4     Sales staff                 1.00                     26            0  "
      ]
     },
     "execution_count": 81,
     "metadata": {},
     "output_type": "execute_result"
    }
   ],
   "source": [
    "cc_data_full_data.head()"
   ]
  },
  {
   "cell_type": "code",
   "execution_count": 82,
   "id": "Tsy-_XPMz4dm",
   "metadata": {
    "colab": {
     "base_uri": "https://localhost:8080/"
    },
    "id": "Tsy-_XPMz4dm",
    "outputId": "06a46cef-223d-42a5-f344-014512c5897c"
   },
   "outputs": [
    {
     "name": "stdout",
     "output_type": "stream",
     "text": [
      "<class 'pandas.core.frame.DataFrame'>\n",
      "Int64Index: 36457 entries, 0 to 36456\n",
      "Data columns (total 20 columns):\n",
      " #   Column                     Non-Null Count  Dtype  \n",
      "---  ------                     --------------  -----  \n",
      " 0   ID                         36457 non-null  int64  \n",
      " 1   Gender                     36457 non-null  object \n",
      " 2   Has a car                  36457 non-null  object \n",
      " 3   Has a property             36457 non-null  object \n",
      " 4   Children count             36457 non-null  int64  \n",
      " 5   Income                     36457 non-null  float64\n",
      " 6   Employment type            36457 non-null  object \n",
      " 7   Education level            36457 non-null  object \n",
      " 8   Marital status             36457 non-null  object \n",
      " 9   Dwelling                   36457 non-null  object \n",
      " 10  Age in days                36457 non-null  int64  \n",
      " 11  Employment length in days  36457 non-null  int64  \n",
      " 12  Has a mobile phone         36457 non-null  int64  \n",
      " 13  Has a work phone           36457 non-null  int64  \n",
      " 14  Has a phone                36457 non-null  int64  \n",
      " 15  Has an email               36457 non-null  int64  \n",
      " 16  Job title                  25134 non-null  object \n",
      " 17  Family member count        36457 non-null  float64\n",
      " 18  Account age in months      36457 non-null  int32  \n",
      " 19  Is high risk               36457 non-null  object \n",
      "dtypes: float64(2), int32(1), int64(8), object(9)\n",
      "memory usage: 5.7+ MB\n"
     ]
    }
   ],
   "source": [
    "cc_data_full_data.info()"
   ]
  },
  {
   "cell_type": "code",
   "execution_count": 83,
   "id": "8baf6713",
   "metadata": {
    "id": "8baf6713"
   },
   "outputs": [
    {
     "data": {
      "text/html": [
       "<div>\n",
       "<style scoped>\n",
       "    .dataframe tbody tr th:only-of-type {\n",
       "        vertical-align: middle;\n",
       "    }\n",
       "\n",
       "    .dataframe tbody tr th {\n",
       "        vertical-align: top;\n",
       "    }\n",
       "\n",
       "    .dataframe thead th {\n",
       "        text-align: right;\n",
       "    }\n",
       "</style>\n",
       "<table border=\"1\" class=\"dataframe\">\n",
       "  <thead>\n",
       "    <tr style=\"text-align: right;\">\n",
       "      <th></th>\n",
       "      <th>ID</th>\n",
       "      <th>Children count</th>\n",
       "      <th>Income</th>\n",
       "      <th>Age in days</th>\n",
       "      <th>Employment length in days</th>\n",
       "      <th>Has a mobile phone</th>\n",
       "      <th>Has a work phone</th>\n",
       "      <th>Has a phone</th>\n",
       "      <th>Has an email</th>\n",
       "      <th>Family member count</th>\n",
       "      <th>Account age in months</th>\n",
       "    </tr>\n",
       "  </thead>\n",
       "  <tbody>\n",
       "    <tr>\n",
       "      <th>count</th>\n",
       "      <td>36457.00</td>\n",
       "      <td>36457.00</td>\n",
       "      <td>36457.00</td>\n",
       "      <td>36457.00</td>\n",
       "      <td>36457.00</td>\n",
       "      <td>36457.00</td>\n",
       "      <td>36457.00</td>\n",
       "      <td>36457.00</td>\n",
       "      <td>36457.00</td>\n",
       "      <td>36457.00</td>\n",
       "      <td>36457.00</td>\n",
       "    </tr>\n",
       "    <tr>\n",
       "      <th>mean</th>\n",
       "      <td>5078227.00</td>\n",
       "      <td>0.43</td>\n",
       "      <td>186685.74</td>\n",
       "      <td>-15975.17</td>\n",
       "      <td>59262.94</td>\n",
       "      <td>1.00</td>\n",
       "      <td>0.23</td>\n",
       "      <td>0.29</td>\n",
       "      <td>0.09</td>\n",
       "      <td>2.20</td>\n",
       "      <td>26.16</td>\n",
       "    </tr>\n",
       "    <tr>\n",
       "      <th>std</th>\n",
       "      <td>41875.24</td>\n",
       "      <td>0.74</td>\n",
       "      <td>101789.23</td>\n",
       "      <td>4200.55</td>\n",
       "      <td>137651.33</td>\n",
       "      <td>0.00</td>\n",
       "      <td>0.42</td>\n",
       "      <td>0.46</td>\n",
       "      <td>0.29</td>\n",
       "      <td>0.91</td>\n",
       "      <td>16.50</td>\n",
       "    </tr>\n",
       "    <tr>\n",
       "      <th>min</th>\n",
       "      <td>5008804.00</td>\n",
       "      <td>0.00</td>\n",
       "      <td>27000.00</td>\n",
       "      <td>-25152.00</td>\n",
       "      <td>-15713.00</td>\n",
       "      <td>1.00</td>\n",
       "      <td>0.00</td>\n",
       "      <td>0.00</td>\n",
       "      <td>0.00</td>\n",
       "      <td>1.00</td>\n",
       "      <td>0.00</td>\n",
       "    </tr>\n",
       "    <tr>\n",
       "      <th>25%</th>\n",
       "      <td>5042028.00</td>\n",
       "      <td>0.00</td>\n",
       "      <td>121500.00</td>\n",
       "      <td>-19438.00</td>\n",
       "      <td>-3153.00</td>\n",
       "      <td>1.00</td>\n",
       "      <td>0.00</td>\n",
       "      <td>0.00</td>\n",
       "      <td>0.00</td>\n",
       "      <td>2.00</td>\n",
       "      <td>12.00</td>\n",
       "    </tr>\n",
       "    <tr>\n",
       "      <th>50%</th>\n",
       "      <td>5074614.00</td>\n",
       "      <td>0.00</td>\n",
       "      <td>157500.00</td>\n",
       "      <td>-15563.00</td>\n",
       "      <td>-1552.00</td>\n",
       "      <td>1.00</td>\n",
       "      <td>0.00</td>\n",
       "      <td>0.00</td>\n",
       "      <td>0.00</td>\n",
       "      <td>2.00</td>\n",
       "      <td>24.00</td>\n",
       "    </tr>\n",
       "    <tr>\n",
       "      <th>75%</th>\n",
       "      <td>5115396.00</td>\n",
       "      <td>1.00</td>\n",
       "      <td>225000.00</td>\n",
       "      <td>-12462.00</td>\n",
       "      <td>-408.00</td>\n",
       "      <td>1.00</td>\n",
       "      <td>0.00</td>\n",
       "      <td>1.00</td>\n",
       "      <td>0.00</td>\n",
       "      <td>3.00</td>\n",
       "      <td>39.00</td>\n",
       "    </tr>\n",
       "    <tr>\n",
       "      <th>max</th>\n",
       "      <td>5150487.00</td>\n",
       "      <td>19.00</td>\n",
       "      <td>1575000.00</td>\n",
       "      <td>-7489.00</td>\n",
       "      <td>365243.00</td>\n",
       "      <td>1.00</td>\n",
       "      <td>1.00</td>\n",
       "      <td>1.00</td>\n",
       "      <td>1.00</td>\n",
       "      <td>20.00</td>\n",
       "      <td>60.00</td>\n",
       "    </tr>\n",
       "  </tbody>\n",
       "</table>\n",
       "</div>"
      ],
      "text/plain": [
       "              ID  Children count     Income  Age in days  \\\n",
       "count   36457.00        36457.00   36457.00     36457.00   \n",
       "mean  5078227.00            0.43  186685.74    -15975.17   \n",
       "std     41875.24            0.74  101789.23      4200.55   \n",
       "min   5008804.00            0.00   27000.00    -25152.00   \n",
       "25%   5042028.00            0.00  121500.00    -19438.00   \n",
       "50%   5074614.00            0.00  157500.00    -15563.00   \n",
       "75%   5115396.00            1.00  225000.00    -12462.00   \n",
       "max   5150487.00           19.00 1575000.00     -7489.00   \n",
       "\n",
       "       Employment length in days  Has a mobile phone  Has a work phone  \\\n",
       "count                   36457.00            36457.00          36457.00   \n",
       "mean                    59262.94                1.00              0.23   \n",
       "std                    137651.33                0.00              0.42   \n",
       "min                    -15713.00                1.00              0.00   \n",
       "25%                     -3153.00                1.00              0.00   \n",
       "50%                     -1552.00                1.00              0.00   \n",
       "75%                      -408.00                1.00              0.00   \n",
       "max                    365243.00                1.00              1.00   \n",
       "\n",
       "       Has a phone  Has an email  Family member count  Account age in months  \n",
       "count     36457.00      36457.00             36457.00               36457.00  \n",
       "mean          0.29          0.09                 2.20                  26.16  \n",
       "std           0.46          0.29                 0.91                  16.50  \n",
       "min           0.00          0.00                 1.00                   0.00  \n",
       "25%           0.00          0.00                 2.00                  12.00  \n",
       "50%           0.00          0.00                 2.00                  24.00  \n",
       "75%           1.00          0.00                 3.00                  39.00  \n",
       "max           1.00          1.00                20.00                  60.00  "
      ]
     },
     "execution_count": 83,
     "metadata": {},
     "output_type": "execute_result"
    }
   ],
   "source": [
    "cc_data_full_data.describe()"
   ]
  },
  {
   "cell_type": "code",
   "execution_count": 84,
   "id": "b4a38813",
   "metadata": {},
   "outputs": [
    {
     "data": {
      "image/png": "[encoded data removed]",
      "text/plain": [
       "<Figure size 1800x720 with 2 Axes>"
      ]
     },
     "metadata": {
      "needs_background": "light"
     },
     "output_type": "display_data"
    }
   ],
   "source": [
    "msno.matrix(cc_data_full_data)\n",
    "plt.show()"
   ]
  },
  {
   "cell_type": "code",
   "execution_count": 85,
   "id": "7508e03a",
   "metadata": {},
   "outputs": [
    {
     "data": {
      "image/png": "[encoded data removed]",
      "text/plain": [
       "<Figure size 1728x720 with 3 Axes>"
      ]
     },
     "metadata": {
      "needs_background": "light"
     },
     "output_type": "display_data"
    }
   ],
   "source": [
    "msno.bar(cc_data_full_data)\n",
    "plt.show()"
   ]
  },
  {
   "cell_type": "code",
   "execution_count": 86,
   "id": "X2DnChyC8DmH",
   "metadata": {
    "colab": {
     "base_uri": "https://localhost:8080/"
    },
    "id": "X2DnChyC8DmH",
    "outputId": "94024136-79d7-4d2b-b771-c0e52a51f734"
   },
   "outputs": [],
   "source": [
    "#Function that will return the value count and frequency of each observation within a column\n",
    "def value_cnt_norm_cal(df,feature):\n",
    "    ftr_value_cnt = df[feature].value_counts()\n",
    "    ftr_value_cnt_norm = df[feature].value_counts(normalize=True) * 100\n",
    "    ftr_value_cnt_concat = pd.concat([ftr_value_cnt, ftr_value_cnt_norm], axis=1)\n",
    "    ftr_value_cnt_concat.columns = ['Count', 'Frequency (%)']\n",
    "    return ftr_value_cnt_concat"
   ]
  },
  {
   "cell_type": "code",
   "execution_count": 87,
   "id": "a25f8e70",
   "metadata": {},
   "outputs": [],
   "source": [
    "# function to create display general information about the feature\n",
    "def gen_info_feat(df,feature):\n",
    "    match feature:\n",
    "        case 'Age in days':\n",
    "            print('Description:\\n{}'.format((np.abs(df[feature])/365.25).describe()))\n",
    "            print('*'*50)\n",
    "            print('Object type:{}'.format(df[feature].dtype))\n",
    "        case _:\n",
    "            print('Description:\\n{}'.format(df[feature].describe()))\n",
    "            print('*'*50)\n",
    "            print('Object type:\\n{}'.format(df[feature].dtype))\n",
    "            print('*'*50)\n",
    "            value_cnt = value_cnt_norm_cal(df,feature)\n",
    "            print('Value count:\\n{}'.format(value_cnt))\n"
   ]
  },
  {
   "cell_type": "code",
   "execution_count": 88,
   "id": "399707b3",
   "metadata": {},
   "outputs": [],
   "source": [
    "# function to create a pie chart plot\n",
    "def create_pie_plot(df,feature):\n",
    "    ratio_size = value_cnt_norm_cal(df, feature)\n",
    "    ratio_size_len = len(ratio_size.index)\n",
    "    ratio_list = []\n",
    "    for i in range(ratio_size_len):\n",
    "        ratio_list.append(ratio_size.iloc[i]['Frequency (%)'])\n",
    "    fig, ax = plt.subplots(figsize=(10,10))\n",
    "    plt.pie(ratio_list, labels=ratio_size.index, autopct='%1.2f%%', startangle=90)\n",
    "    plt.title('Pie chart of {}'.format(feature))\n",
    "    plt.legend(loc='best')\n",
    "    plt.axis('equal')\n",
    "    return plt.show()"
   ]
  },
  {
   "cell_type": "code",
   "execution_count": 128,
   "id": "4dff4698",
   "metadata": {},
   "outputs": [],
   "source": [
    "# function to create a bar chart plot\n",
    "def create_bar_plot(df,feature):\n",
    "    match feature:\n",
    "        case 'Marital status' | 'Dwelling' | 'Job title' | 'Employment type':\n",
    "            fig, ax = plt.subplots(figsize=(6,10))\n",
    "            sns.barplot(x=value_cnt_norm_cal(df,feature).index,y=value_cnt_norm_cal(df,feature).values[:,0])\n",
    "            ax.set_xticklabels(labels=value_cnt_norm_cal(df,feature).index,rotation=45,ha='right')\n",
    "            plt.xlabel('{}'.format(feature))\n",
    "            plt.ylabel('Count')\n",
    "            plt.title('{} count'.format(feature))\n",
    "            return plt.show()\n",
    "        case _:\n",
    "            fig, ax = plt.subplots(figsize=(6,10))\n",
    "            sns.barplot(x=value_cnt_norm_cal(df,feature).index,y=value_cnt_norm_cal(df,feature).values[:,0])\n",
    "            plt.xlabel('{}'.format(feature))\n",
    "            plt.ylabel('Count')\n",
    "            plt.title('{} count'.format(feature))\n",
    "            return plt.show()"
   ]
  },
  {
   "cell_type": "code",
   "execution_count": 90,
   "id": "01eb3f99",
   "metadata": {},
   "outputs": [],
   "source": [
    "# function to create a box plot\n",
    "def create_box_plot(df,feature):\n",
    "    match feature:\n",
    "        case 'Age in days':\n",
    "            fig, ax = plt.subplots(figsize=(2,8))\n",
    "            sns.boxplot(y=np.abs(df[feature])/365.25)\n",
    "            plt.title('{} distribution(Boxplot)'.format(feature))\n",
    "            return plt.show()\n",
    "        case 'Children count':\n",
    "            fig, ax = plt.subplots(figsize=(2,8))\n",
    "            sns.boxplot(y=df[feature])\n",
    "            plt.title('{} distribution(Boxplot)'.format(feature))\n",
    "            plt.yticks(np.arange(0,21,1))\n",
    "            return plt.show()\n",
    "        case 'Income':\n",
    "            fig, ax = plt.subplots(figsize=(2,8))\n",
    "            sns.boxplot(y=df[feature])\n",
    "            plt.title('{} distribution(Boxplot)'.format(feature))\n",
    "            # suppress scientific notation\n",
    "            ax.get_yaxis().set_major_formatter(\n",
    "                matplotlib.ticker.FuncFormatter(lambda x, p: format(int(x), ',')))\n",
    "            return plt.show()\n",
    "        case _:\n",
    "            fig, ax = plt.subplots(figsize=(2,8))\n",
    "            sns.boxplot(y=df[feature])\n",
    "            plt.title('{} distribution(Boxplot)'.format(feature))\n",
    "            return plt.show()"
   ]
  },
  {
   "cell_type": "code",
   "execution_count": 91,
   "id": "bb7c51a0",
   "metadata": {},
   "outputs": [],
   "source": [
    "# function to create a histogram plot\n",
    "def create_hist_plot(df,feature):\n",
    "    match feature:\n",
    "        case 'Age in days':\n",
    "            fig, ax = plt.subplots(figsize=(18,10))\n",
    "            sns.histplot(np.abs(df[feature])/365.25,bins=50,kde=True)\n",
    "            plt.title('{} distribution'.format(feature))\n",
    "            return plt.show()\n",
    "        case 'Income':\n",
    "            fig, ax = plt.subplots(figsize=(18,10))\n",
    "            sns.histplot(df[feature],bins=50,kde=True)\n",
    "            # suppress scientific notation\n",
    "            ax.get_xaxis().set_major_formatter(\n",
    "                matplotlib.ticker.FuncFormatter(lambda x, p: format(int(x), ',')))\n",
    "            plt.title('{} distribution'.format(feature))\n",
    "            return plt.show()\n",
    "        case _:\n",
    "            fig, ax = plt.subplots(figsize=(18,10))\n",
    "            sns.histplot(df[feature],bins=50,kde=True)\n",
    "            plt.title('{} distribution'.format(feature))\n",
    "            return plt.show()"
   ]
  },
  {
   "cell_type": "code",
   "execution_count": 92,
   "id": "b722a0e3",
   "metadata": {},
   "outputs": [],
   "source": [
    "# High risk vs low risk applicants compared with the feature on a box plot\n",
    "def low_high_risk_box_plot(df,feature):\n",
    "    match feature:\n",
    "        case 'Age in days':\n",
    "            print(np.abs(df.groupby('Is high risk')[feature].mean()/365.25))\n",
    "            fig, ax = plt.subplots(figsize=(5,8))\n",
    "            sns.boxplot(y=np.abs(df[feature])/365.25,x=df['Is high risk'])\n",
    "            plt.xticks(ticks=[0,1],labels=['no','yes'])\n",
    "            plt.title('High risk individuals grouped by age')\n",
    "            return plt.show()\n",
    "        case 'Income':\n",
    "            print(np.abs(df.groupby('Is high risk')[feature].mean()))\n",
    "            fig, ax = plt.subplots(figsize=(5,8))\n",
    "            sns.boxplot(y=np.abs(df[feature]),x=df['Is high risk'])\n",
    "            plt.xticks(ticks=[0,1],labels=['no','yes'])\n",
    "            # suppress scientific notation\n",
    "            ax.get_yaxis().set_major_formatter(\n",
    "                matplotlib.ticker.FuncFormatter(lambda x, p: format(int(x), ',')))\n",
    "            plt.title('High risk individuals grouped by {}'.format(feature))\n",
    "            return plt.show()\n",
    "        case _:\n",
    "            print(np.abs(df.groupby('Is high risk')[feature].mean()))\n",
    "            fig, ax = plt.subplots(figsize=(5,8))\n",
    "            sns.boxplot(y=np.abs(df[feature]),x=df['Is high risk'])\n",
    "            plt.xticks(ticks=[0,1],labels=['no','yes'])\n",
    "            plt.title('High risk individuals grouped by {}'.format(feature))\n",
    "            return plt.show()"
   ]
  },
  {
   "cell_type": "code",
   "execution_count": 93,
   "id": "7ce57246",
   "metadata": {},
   "outputs": [],
   "source": [
    "# High risk vs low risk applicants compared with the feature on a bar plot\n",
    "def low_high_risk_bar_plot(df,feature):\n",
    "    is_high_risk_grp = df.groupby(feature)['Is high risk'].sum()\n",
    "    is_high_risk_grp_srt = is_high_risk_grp.sort_values(ascending=False)\n",
    "    print(dict(is_high_risk_grp_srt))\n",
    "    fig, ax = plt.subplots(figsize=(6,10))\n",
    "    sns.barplot(x=is_high_risk_grp_srt.index,y=is_high_risk_grp_srt.values)\n",
    "    ax.set_xticklabels(labels=is_high_risk_grp_srt.index,rotation=45, ha='right')\n",
    "    plt.ylabel('Count')\n",
    "    plt.title('High risk applicants count grouped by {}'.format(feature))\n",
    "    return plt.show()"
   ]
  },
  {
   "cell_type": "markdown",
   "id": "a192aab1",
   "metadata": {
    "id": "a192aab1"
   },
   "source": [
    "## 1. Gender"
   ]
  },
  {
   "cell_type": "code",
   "execution_count": 94,
   "id": "579a96d1",
   "metadata": {
    "colab": {
     "base_uri": "https://localhost:8080/"
    },
    "id": "579a96d1",
    "outputId": "e6c0e80f-38f9-4309-b435-9b821a159000"
   },
   "outputs": [
    {
     "name": "stdout",
     "output_type": "stream",
     "text": [
      "Description:\n",
      "count     29165\n",
      "unique        2\n",
      "top           F\n",
      "freq      19549\n",
      "Name: Gender, dtype: object\n",
      "**************************************************\n",
      "Object type:\n",
      "object\n",
      "**************************************************\n",
      "Value count:\n",
      "   Count  Frequency (%)\n",
      "F  19549          67.03\n",
      "M   9616          32.97\n"
     ]
    }
   ],
   "source": [
    "gen_info_feat(cc_train_copy,'Gender')"
   ]
  },
  {
   "cell_type": "code",
   "execution_count": 95,
   "id": "e7e5a3d7",
   "metadata": {},
   "outputs": [
    {
     "data": {
      "image/png": "[encoded data removed]",
      "text/plain": [
       "<Figure size 432x720 with 1 Axes>"
      ]
     },
     "metadata": {
      "needs_background": "light"
     },
     "output_type": "display_data"
    }
   ],
   "source": [
    "create_bar_plot(cc_train_copy,'Gender')"
   ]
  },
  {
   "cell_type": "code",
   "execution_count": 96,
   "id": "69982c46",
   "metadata": {},
   "outputs": [
    {
     "data": {
      "image/png": "[encoded data removed]",
      "text/plain": [
       "<Figure size 720x720 with 1 Axes>"
      ]
     },
     "metadata": {},
     "output_type": "display_data"
    }
   ],
   "source": [
    "create_pie_plot(cc_train_copy,'Gender')"
   ]
  },
  {
   "cell_type": "markdown",
   "id": "8c23e10e",
   "metadata": {
    "id": "8c23e10e"
   },
   "source": [
    "## 2. Age"
   ]
  },
  {
   "cell_type": "code",
   "execution_count": 97,
   "id": "96236415",
   "metadata": {},
   "outputs": [
    {
     "name": "stdout",
     "output_type": "stream",
     "text": [
      "Description:\n",
      "count   29165.00\n",
      "mean       43.75\n",
      "std        11.51\n",
      "min        21.10\n",
      "25%        34.15\n",
      "50%        42.61\n",
      "75%        53.23\n",
      "max        68.86\n",
      "Name: Age in days, dtype: float64\n",
      "**************************************************\n",
      "Object type:int64\n"
     ]
    }
   ],
   "source": [
    "gen_info_feat(cc_train_copy,'Age in days')"
   ]
  },
  {
   "cell_type": "code",
   "execution_count": 98,
   "id": "927742c9",
   "metadata": {},
   "outputs": [
    {
     "data": {
      "image/png": "[encoded data removed]",
      "text/plain": [
       "<Figure size 144x576 with 1 Axes>"
      ]
     },
     "metadata": {
      "needs_background": "light"
     },
     "output_type": "display_data"
    }
   ],
   "source": [
    "create_box_plot(cc_train_copy,'Age in days')"
   ]
  },
  {
   "cell_type": "code",
   "execution_count": 99,
   "id": "330ea2d2",
   "metadata": {
    "id": "330ea2d2",
    "outputId": "6cdc63ea-0af2-4580-aa11-9928c5443818"
   },
   "outputs": [
    {
     "data": {
      "image/png": "[encoded data removed]",
      "text/plain": [
       "<Figure size 1296x720 with 1 Axes>"
      ]
     },
     "metadata": {
      "needs_background": "light"
     },
     "output_type": "display_data"
    }
   ],
   "source": [
    "create_hist_plot(cc_train_copy,'Age in days')"
   ]
  },
  {
   "cell_type": "code",
   "execution_count": 100,
   "id": "6a66e5ac",
   "metadata": {
    "colab": {
     "base_uri": "https://localhost:8080/",
     "height": 294
    },
    "id": "6a66e5ac",
    "outputId": "b20f3c79-fa32-40bc-f0b9-2e4e49c7e59b",
    "scrolled": true
   },
   "outputs": [
    {
     "name": "stdout",
     "output_type": "stream",
     "text": [
      "Is high risk\n",
      "0   43.75\n",
      "1   43.54\n",
      "Name: Age in days, dtype: float64\n"
     ]
    },
    {
     "data": {
      "image/png": "[encoded data removed]",
      "text/plain": [
       "<Figure size 360x576 with 1 Axes>"
      ]
     },
     "metadata": {
      "needs_background": "light"
     },
     "output_type": "display_data"
    }
   ],
   "source": [
    "low_high_risk_box_plot(cc_train_copy,'Age in days')"
   ]
  },
  {
   "cell_type": "markdown",
   "id": "cb462915",
   "metadata": {
    "id": "cb462915"
   },
   "source": [
    "## 3. Marital status"
   ]
  },
  {
   "cell_type": "code",
   "execution_count": 101,
   "id": "db69f3c4",
   "metadata": {},
   "outputs": [
    {
     "name": "stdout",
     "output_type": "stream",
     "text": [
      "Description:\n",
      "count       29165\n",
      "unique          5\n",
      "top       Married\n",
      "freq        20044\n",
      "Name: Marital status, dtype: object\n",
      "**************************************************\n",
      "Object type:\n",
      "object\n",
      "**************************************************\n",
      "Value count:\n",
      "                      Count  Frequency (%)\n",
      "Married               20044          68.73\n",
      "Single / not married   3864          13.25\n",
      "Civil marriage         2312           7.93\n",
      "Separated              1712           5.87\n",
      "Widow                  1233           4.23\n"
     ]
    }
   ],
   "source": [
    "gen_info_feat(cc_train_copy,'Marital status')"
   ]
  },
  {
   "cell_type": "code",
   "execution_count": 102,
   "id": "f6732bdc",
   "metadata": {},
   "outputs": [
    {
     "data": {
      "image/png": "[encoded data removed]",
      "text/plain": [
       "<Figure size 720x720 with 1 Axes>"
      ]
     },
     "metadata": {},
     "output_type": "display_data"
    }
   ],
   "source": [
    "create_pie_plot(cc_train_copy,'Marital status')"
   ]
  },
  {
   "cell_type": "code",
   "execution_count": 103,
   "id": "6250932d",
   "metadata": {},
   "outputs": [
    {
     "data": {
      "image/png": "[encoded data removed]",
      "text/plain": [
       "<Figure size 432x720 with 1 Axes>"
      ]
     },
     "metadata": {
      "needs_background": "light"
     },
     "output_type": "display_data"
    }
   ],
   "source": [
    "create_bar_plot(cc_train_copy,'Marital status')"
   ]
  },
  {
   "cell_type": "code",
   "execution_count": 104,
   "id": "39587a19",
   "metadata": {
    "colab": {
     "base_uri": "https://localhost:8080/"
    },
    "id": "39587a19",
    "outputId": "3fb1f38d-bb38-4adc-e619-e5c00691288a"
   },
   "outputs": [
    {
     "name": "stdout",
     "output_type": "stream",
     "text": [
      "{'Married': 320, 'Single / not married': 87, 'Civil marriage': 34, 'Widow': 34, 'Separated': 24}\n"
     ]
    },
    {
     "data": {
      "image/png": "[encoded data removed]",
      "text/plain": [
       "<Figure size 432x720 with 1 Axes>"
      ]
     },
     "metadata": {
      "needs_background": "light"
     },
     "output_type": "display_data"
    }
   ],
   "source": [
    "low_high_risk_bar_plot(cc_train_copy,'Marital status')"
   ]
  },
  {
   "cell_type": "markdown",
   "id": "79a21789",
   "metadata": {
    "id": "79a21789"
   },
   "source": [
    "## 4. Family member count"
   ]
  },
  {
   "cell_type": "code",
   "execution_count": 105,
   "id": "40a70321",
   "metadata": {},
   "outputs": [
    {
     "name": "stdout",
     "output_type": "stream",
     "text": [
      "Description:\n",
      "count   29165.00\n",
      "mean        2.20\n",
      "std         0.91\n",
      "min         1.00\n",
      "25%         2.00\n",
      "50%         2.00\n",
      "75%         3.00\n",
      "max        20.00\n",
      "Name: Family member count, dtype: float64\n",
      "**************************************************\n",
      "Object type:\n",
      "float64\n",
      "**************************************************\n",
      "Value count:\n",
      "       Count  Frequency (%)\n",
      "2.00   15552          53.32\n",
      "1.00    5613          19.25\n",
      "3.00    5121          17.56\n",
      "4.00    2503           8.58\n",
      "5.00     309           1.06\n",
      "6.00      48           0.16\n",
      "7.00      14           0.05\n",
      "9.00       2           0.01\n",
      "15.00      2           0.01\n",
      "20.00      1           0.00\n"
     ]
    }
   ],
   "source": [
    "gen_info_feat(cc_train_copy,'Family member count')"
   ]
  },
  {
   "cell_type": "code",
   "execution_count": 106,
   "id": "5826626d",
   "metadata": {},
   "outputs": [
    {
     "data": {
      "image/png": "[encoded data removed]",
      "text/plain": [
       "<Figure size 144x576 with 1 Axes>"
      ]
     },
     "metadata": {
      "needs_background": "light"
     },
     "output_type": "display_data"
    }
   ],
   "source": [
    "create_box_plot(cc_train_copy,'Family member count')"
   ]
  },
  {
   "cell_type": "code",
   "execution_count": 107,
   "id": "3f4b1655",
   "metadata": {},
   "outputs": [
    {
     "data": {
      "image/png": "[encoded data removed]",
      "text/plain": [
       "<Figure size 432x720 with 1 Axes>"
      ]
     },
     "metadata": {
      "needs_background": "light"
     },
     "output_type": "display_data"
    }
   ],
   "source": [
    "create_bar_plot(cc_train_copy,'Family member count')"
   ]
  },
  {
   "cell_type": "markdown",
   "id": "8255ed45",
   "metadata": {
    "id": "8255ed45"
   },
   "source": [
    "## 5. Children count"
   ]
  },
  {
   "cell_type": "code",
   "execution_count": 108,
   "id": "dccff033",
   "metadata": {},
   "outputs": [
    {
     "name": "stdout",
     "output_type": "stream",
     "text": [
      "Description:\n",
      "count   29165.00\n",
      "mean        0.43\n",
      "std         0.74\n",
      "min         0.00\n",
      "25%         0.00\n",
      "50%         0.00\n",
      "75%         1.00\n",
      "max        19.00\n",
      "Name: Children count, dtype: float64\n",
      "**************************************************\n",
      "Object type:\n",
      "int64\n",
      "**************************************************\n",
      "Value count:\n",
      "    Count  Frequency (%)\n",
      "0   20143          69.07\n",
      "1    6003          20.58\n",
      "2    2624           9.00\n",
      "3     323           1.11\n",
      "4      52           0.18\n",
      "5      15           0.05\n",
      "7       2           0.01\n",
      "14      2           0.01\n",
      "19      1           0.00\n"
     ]
    }
   ],
   "source": [
    "gen_info_feat(cc_train_copy,'Children count')"
   ]
  },
  {
   "cell_type": "code",
   "execution_count": 109,
   "id": "fb82df7b",
   "metadata": {},
   "outputs": [
    {
     "data": {
      "image/png": "[encoded data removed]",
      "text/plain": [
       "<Figure size 144x576 with 1 Axes>"
      ]
     },
     "metadata": {
      "needs_background": "light"
     },
     "output_type": "display_data"
    }
   ],
   "source": [
    "create_box_plot(cc_train_copy,'Children count')"
   ]
  },
  {
   "cell_type": "code",
   "execution_count": 110,
   "id": "4937a1e3",
   "metadata": {},
   "outputs": [
    {
     "data": {
      "image/png": "[encoded data removed]",
      "text/plain": [
       "<Figure size 432x720 with 1 Axes>"
      ]
     },
     "metadata": {
      "needs_background": "light"
     },
     "output_type": "display_data"
    }
   ],
   "source": [
    "create_bar_plot(cc_train_copy,'Children count')"
   ]
  },
  {
   "cell_type": "markdown",
   "id": "5f676d23",
   "metadata": {
    "id": "5f676d23"
   },
   "source": [
    "## 6. Dwelling type"
   ]
  },
  {
   "cell_type": "code",
   "execution_count": 111,
   "id": "6f7e7cc0",
   "metadata": {},
   "outputs": [
    {
     "name": "stdout",
     "output_type": "stream",
     "text": [
      "Description:\n",
      "count                 29165\n",
      "unique                    6\n",
      "top       House / apartment\n",
      "freq                  26059\n",
      "Name: Dwelling, dtype: object\n",
      "**************************************************\n",
      "Object type:\n",
      "object\n",
      "**************************************************\n",
      "Value count:\n",
      "                     Count  Frequency (%)\n",
      "House / apartment    26059          89.35\n",
      "With parents          1406           4.82\n",
      "Municipal apartment    912           3.13\n",
      "Rented apartment       453           1.55\n",
      "Office apartment       208           0.71\n",
      "Co-op apartment        127           0.44\n"
     ]
    }
   ],
   "source": [
    "gen_info_feat(cc_train_copy,'Dwelling')"
   ]
  },
  {
   "cell_type": "code",
   "execution_count": 112,
   "id": "184bca5d",
   "metadata": {},
   "outputs": [
    {
     "data": {
      "image/png": "[encoded data removed]",
      "text/plain": [
       "<Figure size 432x720 with 1 Axes>"
      ]
     },
     "metadata": {
      "needs_background": "light"
     },
     "output_type": "display_data"
    }
   ],
   "source": [
    "create_bar_plot(cc_train_copy,'Dwelling')"
   ]
  },
  {
   "cell_type": "code",
   "execution_count": 113,
   "id": "094ae641",
   "metadata": {},
   "outputs": [
    {
     "data": {
      "image/png": "[encoded data removed]",
      "text/plain": [
       "<Figure size 720x720 with 1 Axes>"
      ]
     },
     "metadata": {},
     "output_type": "display_data"
    }
   ],
   "source": [
    "create_pie_plot(cc_train_copy,'Dwelling')"
   ]
  },
  {
   "cell_type": "markdown",
   "id": "6d0022c0",
   "metadata": {
    "id": "6d0022c0"
   },
   "source": [
    "## 7. Income"
   ]
  },
  {
   "cell_type": "code",
   "execution_count": 114,
   "id": "9969a488",
   "metadata": {},
   "outputs": [
    {
     "name": "stdout",
     "output_type": "stream",
     "text": [
      "Description:\n",
      "count     29165.00\n",
      "mean     186890.39\n",
      "std      101409.64\n",
      "min       27000.00\n",
      "25%      121500.00\n",
      "50%      157500.00\n",
      "75%      225000.00\n",
      "max     1575000.00\n",
      "Name: Income, dtype: float64\n",
      "**************************************************\n",
      "Object type:\n",
      "float64\n",
      "**************************************************\n",
      "Value count:\n",
      "           Count  Frequency (%)\n",
      "135000.00   3468          11.89\n",
      "180000.00   2487           8.53\n",
      "157500.00   2469           8.47\n",
      "225000.00   2373           8.14\n",
      "112500.00   2359           8.09\n",
      "...          ...            ...\n",
      "164250.00      1           0.00\n",
      "42300.00       1           0.00\n",
      "432000.00      1           0.00\n",
      "145350.00      1           0.00\n",
      "82350.00       1           0.00\n",
      "\n",
      "[259 rows x 2 columns]\n"
     ]
    }
   ],
   "source": [
    "pd.set_option('display.float_format', lambda x: '%.2f' % x)\n",
    "gen_info_feat(cc_train_copy,'Income')"
   ]
  },
  {
   "cell_type": "code",
   "execution_count": 115,
   "id": "eaf87d1c",
   "metadata": {},
   "outputs": [
    {
     "data": {
      "image/png": "[encoded data removed]",
      "text/plain": [
       "<Figure size 144x576 with 1 Axes>"
      ]
     },
     "metadata": {
      "needs_background": "light"
     },
     "output_type": "display_data"
    }
   ],
   "source": [
    "create_box_plot(cc_train_copy,'Income')"
   ]
  },
  {
   "cell_type": "code",
   "execution_count": 116,
   "id": "68155550",
   "metadata": {},
   "outputs": [
    {
     "data": {
      "image/png": "[encoded data removed]",
      "text/plain": [
       "<Figure size 1296x720 with 1 Axes>"
      ]
     },
     "metadata": {
      "needs_background": "light"
     },
     "output_type": "display_data"
    }
   ],
   "source": [
    "create_hist_plot(cc_train_copy,'Income')"
   ]
  },
  {
   "cell_type": "code",
   "execution_count": 117,
   "id": "bc275de5",
   "metadata": {},
   "outputs": [
    {
     "name": "stdout",
     "output_type": "stream",
     "text": [
      "Is high risk\n",
      "0   186913.94\n",
      "1   185537.26\n",
      "Name: Income, dtype: float64\n"
     ]
    },
    {
     "data": {
      "image/png": "[encoded data removed]",
      "text/plain": [
       "<Figure size 360x576 with 1 Axes>"
      ]
     },
     "metadata": {
      "needs_background": "light"
     },
     "output_type": "display_data"
    }
   ],
   "source": [
    "low_high_risk_box_plot(cc_train_copy,'Income')"
   ]
  },
  {
   "cell_type": "markdown",
   "id": "9530b925",
   "metadata": {
    "id": "9530b925"
   },
   "source": [
    "## 8. Job title"
   ]
  },
  {
   "cell_type": "code",
   "execution_count": 118,
   "id": "2fd92861",
   "metadata": {
    "colab": {
     "base_uri": "https://localhost:8080/"
    },
    "id": "2fd92861",
    "outputId": "cf041d66-374e-47c1-cca5-238e30295c21"
   },
   "outputs": [
    {
     "name": "stdout",
     "output_type": "stream",
     "text": [
      "Description:\n",
      "count        20138\n",
      "unique          18\n",
      "top       Laborers\n",
      "freq          5004\n",
      "Name: Job title, dtype: object\n",
      "**************************************************\n",
      "Object type:\n",
      "object\n",
      "**************************************************\n",
      "Value count:\n",
      "                       Count  Frequency (%)\n",
      "Laborers                5004          24.85\n",
      "Core staff              2866          14.23\n",
      "Sales staff             2773          13.77\n",
      "Managers                2422          12.03\n",
      "Drivers                 1722           8.55\n",
      "High skill tech staff   1133           5.63\n",
      "Accountants              998           4.96\n",
      "Medicine staff           956           4.75\n",
      "Cooking staff            521           2.59\n",
      "Security staff           464           2.30\n",
      "Cleaning staff           425           2.11\n",
      "Private service staff    287           1.43\n",
      "Low-skill Laborers       138           0.69\n",
      "Waiters/barmen staff     127           0.63\n",
      "Secretaries              122           0.61\n",
      "HR staff                  72           0.36\n",
      "Realty agents             60           0.30\n",
      "IT staff                  48           0.24\n"
     ]
    }
   ],
   "source": [
    "gen_info_feat(cc_train_copy,'Job title')"
   ]
  },
  {
   "cell_type": "code",
   "execution_count": 120,
   "id": "a08dd90c",
   "metadata": {},
   "outputs": [
    {
     "data": {
      "text/plain": [
       "9027"
      ]
     },
     "execution_count": 120,
     "metadata": {},
     "output_type": "execute_result"
    }
   ],
   "source": [
    "job_title_nan_count = cc_train_copy['Job title'].isna().sum()\n",
    "job_title_nan_count"
   ]
  },
  {
   "cell_type": "code",
   "execution_count": 121,
   "id": "0f1636d8",
   "metadata": {},
   "outputs": [],
   "source": [
    "rows_total_count = cc_train_copy.shape[0]"
   ]
  },
  {
   "cell_type": "code",
   "execution_count": 122,
   "id": "1bc2e764",
   "metadata": {},
   "outputs": [
    {
     "name": "stdout",
     "output_type": "stream",
     "text": [
      "The percentage of missing rows is 30.95 %\n"
     ]
    }
   ],
   "source": [
    "print('The percentage of missing rows is {:.2f} %'.format(job_title_nan_count * 100 / rows_total_count))"
   ]
  },
  {
   "cell_type": "code",
   "execution_count": 125,
   "id": "8796baeb",
   "metadata": {},
   "outputs": [
    {
     "data": {
      "image/png": "[encoded data removed]",
      "text/plain": [
       "<Figure size 432x720 with 1 Axes>"
      ]
     },
     "metadata": {
      "needs_background": "light"
     },
     "output_type": "display_data"
    }
   ],
   "source": [
    "create_bar_plot(cc_train_copy,'Job title')"
   ]
  },
  {
   "cell_type": "markdown",
   "id": "88b67bdf",
   "metadata": {
    "id": "88b67bdf"
   },
   "source": [
    "## 9. Employment type"
   ]
  },
  {
   "cell_type": "code",
   "execution_count": 126,
   "id": "c282165d",
   "metadata": {},
   "outputs": [
    {
     "name": "stdout",
     "output_type": "stream",
     "text": [
      "Description:\n",
      "count       29165\n",
      "unique          5\n",
      "top       Working\n",
      "freq        15056\n",
      "Name: Employment type, dtype: object\n",
      "**************************************************\n",
      "Object type:\n",
      "object\n",
      "**************************************************\n",
      "Value count:\n",
      "                      Count  Frequency (%)\n",
      "Working               15056          51.62\n",
      "Commercial associate   6801          23.32\n",
      "Pensioner              4920          16.87\n",
      "State servant          2381           8.16\n",
      "Student                   7           0.02\n"
     ]
    }
   ],
   "source": [
    "gen_info_feat(cc_train_copy,'Employment type')"
   ]
  },
  {
   "cell_type": "code",
   "execution_count": 129,
   "id": "15dce8ba",
   "metadata": {},
   "outputs": [
    {
     "data": {
      "image/png": "[encoded data removed]",
      "text/plain": [
       "<Figure size 432x720 with 1 Axes>"
      ]
     },
     "metadata": {
      "needs_background": "light"
     },
     "output_type": "display_data"
    }
   ],
   "source": [
    "create_bar_plot(cc_train_copy,'Employment type')"
   ]
  },
  {
   "cell_type": "code",
   "execution_count": 131,
   "id": "6ff0c3d3",
   "metadata": {},
   "outputs": [
    {
     "data": {
      "image/png": "[encoded data removed]",
      "text/plain": [
       "<Figure size 720x720 with 1 Axes>"
      ]
     },
     "metadata": {},
     "output_type": "display_data"
    }
   ],
   "source": [
    "create_pie_plot(cc_train_copy,'Employment type')"
   ]
  },
  {
   "cell_type": "markdown",
   "id": "0bef4551",
   "metadata": {
    "id": "0bef4551"
   },
   "source": [
    "## 10. Education level"
   ]
  },
  {
   "cell_type": "code",
   "execution_count": 214,
   "id": "e1602108",
   "metadata": {
    "colab": {
     "base_uri": "https://localhost:8080/"
    },
    "id": "e1602108",
    "outputId": "cc712302-2785-4db1-aab5-035303c9abcd"
   },
   "outputs": [
    {
     "data": {
      "text/plain": [
       "count                             29165\n",
       "unique                                5\n",
       "top       Secondary / secondary special\n",
       "freq                              19803\n",
       "Name: Education level, dtype: object"
      ]
     },
     "execution_count": 214,
     "metadata": {},
     "output_type": "execute_result"
    }
   ],
   "source": [
    "cc_train_copy['Education level'].describe()"
   ]
  },
  {
   "cell_type": "code",
   "execution_count": 215,
   "id": "ea427fc7",
   "metadata": {},
   "outputs": [
    {
     "data": {
      "text/plain": [
       "array(['Secondary / secondary special', 'Higher education',\n",
       "       'Lower secondary', 'Incomplete higher', 'Academic degree'],\n",
       "      dtype=object)"
      ]
     },
     "execution_count": 215,
     "metadata": {},
     "output_type": "execute_result"
    }
   ],
   "source": [
    "cc_train_copy['Education level'].unique()"
   ]
  },
  {
   "cell_type": "code",
   "execution_count": 216,
   "id": "e6859d8b",
   "metadata": {},
   "outputs": [
    {
     "data": {
      "text/plain": [
       "dtype('O')"
      ]
     },
     "execution_count": 216,
     "metadata": {},
     "output_type": "execute_result"
    }
   ],
   "source": [
    "cc_train_copy['Education level'].dtype"
   ]
  },
  {
   "cell_type": "code",
   "execution_count": 217,
   "id": "d644f70d",
   "metadata": {},
   "outputs": [
    {
     "data": {
      "text/html": [
       "<div>\n",
       "<style scoped>\n",
       "    .dataframe tbody tr th:only-of-type {\n",
       "        vertical-align: middle;\n",
       "    }\n",
       "\n",
       "    .dataframe tbody tr th {\n",
       "        vertical-align: top;\n",
       "    }\n",
       "\n",
       "    .dataframe thead th {\n",
       "        text-align: right;\n",
       "    }\n",
       "</style>\n",
       "<table border=\"1\" class=\"dataframe\">\n",
       "  <thead>\n",
       "    <tr style=\"text-align: right;\">\n",
       "      <th></th>\n",
       "      <th>Count</th>\n",
       "      <th>Frequency (%)</th>\n",
       "    </tr>\n",
       "  </thead>\n",
       "  <tbody>\n",
       "    <tr>\n",
       "      <th>Secondary / secondary special</th>\n",
       "      <td>19803</td>\n",
       "      <td>67.90</td>\n",
       "    </tr>\n",
       "    <tr>\n",
       "      <th>Higher education</th>\n",
       "      <td>7910</td>\n",
       "      <td>27.12</td>\n",
       "    </tr>\n",
       "    <tr>\n",
       "      <th>Incomplete higher</th>\n",
       "      <td>1129</td>\n",
       "      <td>3.87</td>\n",
       "    </tr>\n",
       "    <tr>\n",
       "      <th>Lower secondary</th>\n",
       "      <td>298</td>\n",
       "      <td>1.02</td>\n",
       "    </tr>\n",
       "    <tr>\n",
       "      <th>Academic degree</th>\n",
       "      <td>25</td>\n",
       "      <td>0.09</td>\n",
       "    </tr>\n",
       "  </tbody>\n",
       "</table>\n",
       "</div>"
      ],
      "text/plain": [
       "                               Count  Frequency (%)\n",
       "Secondary / secondary special  19803          67.90\n",
       "Higher education                7910          27.12\n",
       "Incomplete higher               1129           3.87\n",
       "Lower secondary                  298           1.02\n",
       "Academic degree                   25           0.09"
      ]
     },
     "execution_count": 217,
     "metadata": {},
     "output_type": "execute_result"
    }
   ],
   "source": [
    "value_cnt_norm_cal(cc_train_copy, 'Education level')"
   ]
  },
  {
   "cell_type": "code",
   "execution_count": 218,
   "id": "6327dee9",
   "metadata": {
    "colab": {
     "base_uri": "https://localhost:8080/"
    },
    "id": "6327dee9",
    "outputId": "cc4baded-1372-4c8e-dec2-51f6d6ee62b6"
   },
   "outputs": [
    {
     "data": {
      "image/png": "[encoded data removed]",
      "text/plain": [
       "<Figure size 1296x720 with 1 Axes>"
      ]
     },
     "metadata": {
      "needs_background": "light"
     },
     "output_type": "display_data"
    }
   ],
   "source": [
    "fig, ax = plt.subplots(figsize=(18,10))\n",
    "sns.barplot(x=cc_train_copy['Education level'].value_counts().index,y=cc_train_copy['Education level'].value_counts().values,palette=sns.color_palette('flare'))\n",
    "plt.xlabel('Education level')\n",
    "plt.ylabel('Count')\n",
    "plt.title('Education level count')\n",
    "plt.show()"
   ]
  },
  {
   "cell_type": "code",
   "execution_count": 247,
   "id": "10836b71",
   "metadata": {},
   "outputs": [
    {
     "data": {
      "image/png": "[encoded data removed]",
      "text/plain": [
       "<Figure size 720x720 with 1 Axes>"
      ]
     },
     "metadata": {},
     "output_type": "display_data"
    }
   ],
   "source": [
    "create_pie_plot(cc_train_copy, 'Education level')"
   ]
  },
  {
   "cell_type": "code",
   "execution_count": null,
   "id": "d6ccdccf",
   "metadata": {
    "colab": {
     "base_uri": "https://localhost:8080/"
    },
    "id": "d6ccdccf",
    "outputId": "159b3f18-ba24-4779-9da0-596ff5a92f38"
   },
   "outputs": [
    {
     "data": {
      "image/png": "[encoded data removed]",
      "text/plain": [
       "<Figure size 1296x720 with 1 Axes>"
      ]
     },
     "metadata": {},
     "output_type": "display_data"
    }
   ],
   "source": [
    "fig, ax = plt.subplots(figsize=(18,10))\n",
    "plt.pie(employment_ratio,labels=['Working','Commercial associate','Pensioner','State servant','Student'],autopct='%1.2f%%')\n",
    "plt.title('Employment type ratio')\n",
    "plt.legend(loc='upper right')\n",
    "plt.show()"
   ]
  },
  {
   "cell_type": "code",
   "execution_count": 245,
   "id": "8ddf4351",
   "metadata": {
    "colab": {
     "base_uri": "https://localhost:8080/",
     "height": 370
    },
    "id": "8ddf4351",
    "outputId": "c55fcade-5682-41e3-c2da-93d8b816e675"
   },
   "outputs": [
    {
     "data": {
      "image/png": "[encoded data removed]",
      "text/plain": [
       "<Figure size 1296x720 with 1 Axes>"
      ]
     },
     "metadata": {
      "needs_background": "light"
     },
     "output_type": "display_data"
    }
   ],
   "source": [
    "fig, ax = plt.subplots(figsize=(18,10))\n",
    "sns.barplot(x=cc_train_copy['Employment type'].value_counts().index,y=cc_train_copy['Employment type'].value_counts().values,palette=sns.color_palette('flare'))\n",
    "ax.set_xticklabels(labels=['Working','Commercial associate','Pensioner','State servant','Student'],rotation=45,ha='right')\n",
    "plt.xlabel('Employment type')\n",
    "plt.ylabel('Count')\n",
    "plt.title('Employment type count')\n",
    "plt.show()"
   ]
  },
  {
   "cell_type": "code",
   "execution_count": 206,
   "id": "47ebf9c3",
   "metadata": {
    "colab": {
     "base_uri": "https://localhost:8080/"
    },
    "id": "47ebf9c3",
    "outputId": "0bf7d503-bf5c-47de-c2ba-037ccb3a7905"
   },
   "outputs": [
    {
     "data": {
      "text/plain": [
       "count                             29165\n",
       "unique                                5\n",
       "top       Secondary / secondary special\n",
       "freq                              19803\n",
       "Name: Education level, dtype: object"
      ]
     },
     "execution_count": 206,
     "metadata": {},
     "output_type": "execute_result"
    }
   ],
   "source": [
    "cc_train_copy['Education level'].describe()"
   ]
  },
  {
   "cell_type": "code",
   "execution_count": 207,
   "id": "559945ef",
   "metadata": {
    "colab": {
     "base_uri": "https://localhost:8080/"
    },
    "id": "559945ef",
    "outputId": "8e4ccacb-db24-4f60-ed72-cdd548c9e55d"
   },
   "outputs": [
    {
     "data": {
      "text/plain": [
       "array(['Secondary / secondary special', 'Higher education',\n",
       "       'Lower secondary', 'Incomplete higher', 'Academic degree'],\n",
       "      dtype=object)"
      ]
     },
     "execution_count": 207,
     "metadata": {},
     "output_type": "execute_result"
    }
   ],
   "source": [
    "cc_train_copy['Education level'].unique()"
   ]
  },
  {
   "cell_type": "code",
   "execution_count": null,
   "id": "56b00050",
   "metadata": {
    "colab": {
     "base_uri": "https://localhost:8080/"
    },
    "id": "56b00050",
    "outputId": "21c75025-ed09-4c21-a371-1d554e759a62"
   },
   "outputs": [],
   "source": [
    "application_train_copy['Education level'].value_counts()"
   ]
  },
  {
   "cell_type": "code",
   "execution_count": null,
   "id": "9ca95390",
   "metadata": {
    "colab": {
     "base_uri": "https://localhost:8080/",
     "height": 400
    },
    "id": "9ca95390",
    "outputId": "48ba7262-9dca-4c6c-f131-791922691c3f"
   },
   "outputs": [],
   "source": [
    "fig, ax = plt.subplots()\n",
    "sns.barplot(x=application_train_copy['Education level'].value_counts().index,y=application_train_copy['Education level'].value_counts().values,palette=sns.color_palette('flare'))\n",
    "ax.set_xticklabels(labels=application_train_copy['Education level'].value_counts().index.to_list(),rotation=45,ha='right')\n",
    "plt.xlabel('Education level')\n",
    "plt.ylabel('Count')\n",
    "plt.title('Education level distribution')\n",
    "plt.show()"
   ]
  },
  {
   "cell_type": "markdown",
   "id": "3641315f",
   "metadata": {
    "id": "3641315f"
   },
   "source": [
    "#### 11. Days since employment (positive means unemployed)"
   ]
  },
  {
   "cell_type": "code",
   "execution_count": null,
   "id": "4692fa87",
   "metadata": {
    "colab": {
     "base_uri": "https://localhost:8080/"
    },
    "id": "4692fa87",
    "outputId": "fcad4254-7a57-44f5-bef4-0bdd3be9782d"
   },
   "outputs": [],
   "source": [
    "application_train_copy['Days since employment (positive means unemployed)'].describe()"
   ]
  },
  {
   "cell_type": "markdown",
   "id": "83f5d026",
   "metadata": {
    "id": "83f5d026"
   },
   "source": [
    "#### Days since employment distribution"
   ]
  },
  {
   "cell_type": "code",
   "execution_count": null,
   "id": "fe12962e",
   "metadata": {
    "colab": {
     "base_uri": "https://localhost:8080/",
     "height": 294
    },
    "id": "fe12962e",
    "outputId": "1f9da0c0-681d-4493-f060-817990828d35"
   },
   "outputs": [],
   "source": [
    "sns.histplot(data=application_train_copy['Days since employment (positive means unemployed)'],bins=50,kde=True)\n",
    "plt.title('Days since employment distribution')\n",
    "plt.show()"
   ]
  },
  {
   "cell_type": "code",
   "execution_count": null,
   "id": "fadf166d",
   "metadata": {
    "id": "fadf166d"
   },
   "outputs": [],
   "source": [
    "days_since_employment_no_ret = application_train_copy['Days since employment (positive means unemployed)'][application_train_copy['Days since employment (positive means unemployed)'] != 365243]"
   ]
  },
  {
   "cell_type": "code",
   "execution_count": null,
   "id": "5f1c5836",
   "metadata": {
    "colab": {
     "base_uri": "https://localhost:8080/",
     "height": 294
    },
    "id": "5f1c5836",
    "outputId": "f6bc4bb5-c380-4056-df03-46d72b069e9a"
   },
   "outputs": [],
   "source": [
    "sns.histplot(data=days_since_employment_no_ret,bins=50,kde=True)\n",
    "plt.title('Days since employment distribution (retirement not accounted)')\n",
    "plt.show()"
   ]
  },
  {
   "cell_type": "code",
   "execution_count": null,
   "id": "b11c3779",
   "metadata": {
    "colab": {
     "base_uri": "https://localhost:8080/",
     "height": 303
    },
    "id": "b11c3779",
    "outputId": "fc546b9f-a2df-4072-eecd-78d86c3f2c16"
   },
   "outputs": [],
   "source": [
    "sns.boxplot(y=days_since_employment_no_ret)\n",
    "plt.show()"
   ]
  },
  {
   "cell_type": "markdown",
   "id": "ea91a4b6",
   "metadata": {
    "id": "ea91a4b6"
   },
   "source": [
    "#### 12. Has a car"
   ]
  },
  {
   "cell_type": "code",
   "execution_count": null,
   "id": "16c5bb5f",
   "metadata": {
    "colab": {
     "base_uri": "https://localhost:8080/"
    },
    "id": "16c5bb5f",
    "outputId": "e75f6536-9194-4e72-cde1-eb90c7115395"
   },
   "outputs": [],
   "source": [
    "application_train_copy['Has a car'].describe()"
   ]
  },
  {
   "cell_type": "code",
   "execution_count": null,
   "id": "f94f15ac",
   "metadata": {
    "colab": {
     "base_uri": "https://localhost:8080/"
    },
    "id": "f94f15ac",
    "outputId": "f505acd8-42e3-4226-aa4c-cbb8bfd6222c"
   },
   "outputs": [],
   "source": [
    "application_train_copy['Has a car'].value_counts()"
   ]
  },
  {
   "cell_type": "code",
   "execution_count": null,
   "id": "71fc3577",
   "metadata": {
    "colab": {
     "base_uri": "https://localhost:8080/"
    },
    "id": "71fc3577",
    "outputId": "d74c0dec-cc95-4355-d6e2-40406d80b42d"
   },
   "outputs": [],
   "source": [
    "application_train_copy['Has a car'].value_counts(normalize=True) * 100"
   ]
  },
  {
   "cell_type": "markdown",
   "id": "480a9546",
   "metadata": {
    "id": "480a9546"
   },
   "source": [
    "#### Car ownership ratio"
   ]
  },
  {
   "cell_type": "code",
   "execution_count": null,
   "id": "0472554d",
   "metadata": {
    "colab": {
     "base_uri": "https://localhost:8080/"
    },
    "id": "0472554d",
    "outputId": "875b60e6-837f-4e61-fd84-16a21c48b374"
   },
   "outputs": [],
   "source": [
    "size_car_own = application_train_copy['Has a car'].value_counts().values\n",
    "size_car_own"
   ]
  },
  {
   "cell_type": "code",
   "execution_count": null,
   "id": "aaeadd03",
   "metadata": {
    "colab": {
     "base_uri": "https://localhost:8080/",
     "height": 264
    },
    "id": "aaeadd03",
    "outputId": "fe3a396e-058f-458d-d640-9fc88557ffc5"
   },
   "outputs": [],
   "source": [
    "plt.pie(size_car_own,labels=['Does not own a car','Own a car'],autopct='%1.0f%%')\n",
    "plt.title('Car owner ratio')\n",
    "plt.show()"
   ]
  },
  {
   "cell_type": "markdown",
   "id": "5ec8726a",
   "metadata": {
    "id": "5ec8726a"
   },
   "source": [
    "#### Car ownership count"
   ]
  },
  {
   "cell_type": "code",
   "execution_count": null,
   "id": "a8a4c73d",
   "metadata": {
    "colab": {
     "base_uri": "https://localhost:8080/",
     "height": 294
    },
    "id": "a8a4c73d",
    "outputId": "eee120d3-4b84-49ab-fe35-9433b937dab4"
   },
   "outputs": [],
   "source": [
    "sns.barplot(x=application_train_copy['Has a car'].value_counts().index,y=size_car_own)\n",
    "plt.xlabel('Have a car')\n",
    "plt.ylabel('Count')\n",
    "plt.title('Car owner count')\n",
    "plt.show()"
   ]
  },
  {
   "cell_type": "markdown",
   "id": "a53e3e40",
   "metadata": {
    "id": "a53e3e40"
   },
   "source": [
    "#### 13. Has a property"
   ]
  },
  {
   "cell_type": "code",
   "execution_count": null,
   "id": "75d6eea9",
   "metadata": {
    "colab": {
     "base_uri": "https://localhost:8080/"
    },
    "id": "75d6eea9",
    "outputId": "66b67fc4-cd04-48a9-bb49-29b40a01368d"
   },
   "outputs": [],
   "source": [
    "application_train_copy['Has a property'].describe()"
   ]
  },
  {
   "cell_type": "code",
   "execution_count": null,
   "id": "45e544e6",
   "metadata": {
    "colab": {
     "base_uri": "https://localhost:8080/"
    },
    "id": "45e544e6",
    "outputId": "762d7968-1c6c-466a-cd9f-08019d99e40b"
   },
   "outputs": [],
   "source": [
    "application_train_copy['Has a property'].value_counts()"
   ]
  },
  {
   "cell_type": "code",
   "execution_count": null,
   "id": "a27106ab",
   "metadata": {
    "colab": {
     "base_uri": "https://localhost:8080/"
    },
    "id": "a27106ab",
    "outputId": "9e962898-910e-43e2-cfa7-e8e3154646ef"
   },
   "outputs": [],
   "source": [
    "application_train_copy['Has a property'].value_counts(normalize=True) * 100"
   ]
  },
  {
   "cell_type": "markdown",
   "id": "d78d3dac",
   "metadata": {
    "id": "d78d3dac"
   },
   "source": [
    "#### Property ownership ratio"
   ]
  },
  {
   "cell_type": "code",
   "execution_count": null,
   "id": "798e09aa",
   "metadata": {
    "colab": {
     "base_uri": "https://localhost:8080/"
    },
    "id": "798e09aa",
    "outputId": "e599baa9-6b42-4b19-e0b4-73245b7e8d31"
   },
   "outputs": [],
   "source": [
    "size_prop_own = application_train_copy['Has a property'].value_counts().values\n",
    "size_prop_own"
   ]
  },
  {
   "cell_type": "code",
   "execution_count": null,
   "id": "02851e4d",
   "metadata": {
    "colab": {
     "base_uri": "https://localhost:8080/",
     "height": 264
    },
    "id": "02851e4d",
    "outputId": "29196ed9-78a6-4c58-e213-3e973928ba54"
   },
   "outputs": [],
   "source": [
    "plt.pie(size_prop_own,labels=['Own a property', 'Does not own a property'],autopct='%1.0f%%')\n",
    "plt.title('Property owner ratio')\n",
    "plt.show()"
   ]
  },
  {
   "cell_type": "markdown",
   "id": "67373c05",
   "metadata": {
    "id": "67373c05"
   },
   "source": [
    "#### Property ownership count"
   ]
  },
  {
   "cell_type": "code",
   "execution_count": null,
   "id": "e6a7c89f",
   "metadata": {
    "colab": {
     "base_uri": "https://localhost:8080/",
     "height": 294
    },
    "id": "e6a7c89f",
    "outputId": "40f1f62b-4a99-4be9-d2b3-132a9785df07"
   },
   "outputs": [],
   "source": [
    "sns.barplot(x=application_train_copy['Has a property'].value_counts().index,y=size_prop_own)\n",
    "plt.xlabel('Have a property')\n",
    "plt.ylabel('Count')\n",
    "plt.title('Property owner count')\n",
    "plt.show()"
   ]
  },
  {
   "cell_type": "markdown",
   "id": "6fba5bd2",
   "metadata": {
    "id": "6fba5bd2"
   },
   "source": [
    "#### 14. Has a work phone"
   ]
  },
  {
   "cell_type": "code",
   "execution_count": null,
   "id": "144512b4",
   "metadata": {
    "colab": {
     "base_uri": "https://localhost:8080/"
    },
    "id": "144512b4",
    "outputId": "1c66967c-ae61-4d8b-b166-4b390cec2d33"
   },
   "outputs": [],
   "source": [
    "application_train_copy['Has a work phone'].describe()"
   ]
  },
  {
   "cell_type": "code",
   "execution_count": null,
   "id": "4d5cc2a6",
   "metadata": {
    "colab": {
     "base_uri": "https://localhost:8080/"
    },
    "id": "4d5cc2a6",
    "outputId": "d47a2d7f-2de9-45ee-e758-3345b4930838"
   },
   "outputs": [],
   "source": [
    "application_train_copy['Has a work phone'].value_counts()"
   ]
  },
  {
   "cell_type": "code",
   "execution_count": null,
   "id": "8aa0e15e",
   "metadata": {
    "colab": {
     "base_uri": "https://localhost:8080/"
    },
    "id": "8aa0e15e",
    "outputId": "e2da754b-6bba-4b64-d3d9-349d91c85690"
   },
   "outputs": [],
   "source": [
    "application_train_copy['Has a work phone'].value_counts(normalize=True) * 100"
   ]
  },
  {
   "cell_type": "markdown",
   "id": "ed6e28a2",
   "metadata": {
    "id": "ed6e28a2"
   },
   "source": [
    "#### Work phone ownership ratio"
   ]
  },
  {
   "cell_type": "code",
   "execution_count": null,
   "id": "610a9223",
   "metadata": {
    "colab": {
     "base_uri": "https://localhost:8080/"
    },
    "id": "610a9223",
    "outputId": "787b76b9-1419-45bc-f8e1-4bb5b387ae35"
   },
   "outputs": [],
   "source": [
    "size_work_phone = application_train_copy['Has a work phone'].value_counts().values\n",
    "size_work_phone"
   ]
  },
  {
   "cell_type": "code",
   "execution_count": null,
   "id": "092786b7",
   "metadata": {
    "colab": {
     "base_uri": "https://localhost:8080/",
     "height": 264
    },
    "id": "092786b7",
    "outputId": "2722ca45-30c4-4bfa-e37a-5051c759b0b2"
   },
   "outputs": [],
   "source": [
    "plt.pie(size_work_phone,labels=['Does not own a work phone','Own a work phone'],autopct='%1.0f%%')\n",
    "plt.title('Work phone owner ratio')\n",
    "plt.show()"
   ]
  },
  {
   "cell_type": "markdown",
   "id": "ace76566",
   "metadata": {
    "id": "ace76566"
   },
   "source": [
    "#### Work phone  ownership count"
   ]
  },
  {
   "cell_type": "code",
   "execution_count": null,
   "id": "410a3275",
   "metadata": {
    "colab": {
     "base_uri": "https://localhost:8080/",
     "height": 294
    },
    "id": "410a3275",
    "outputId": "0283e20d-906a-4855-fafa-76ce175760ac"
   },
   "outputs": [],
   "source": [
    "sns.barplot(x=application_train_copy['Has a work phone'].value_counts().index,y=size_work_phone)\n",
    "plt.xlabel('Has a work phone')\n",
    "plt.ylabel('Count')\n",
    "plt.title('Work phone owner count')\n",
    "plt.show()"
   ]
  },
  {
   "cell_type": "markdown",
   "id": "cb1645b2",
   "metadata": {
    "id": "cb1645b2"
   },
   "source": [
    "#### 15. Has a mobile phone"
   ]
  },
  {
   "cell_type": "code",
   "execution_count": null,
   "id": "47945ebf",
   "metadata": {
    "colab": {
     "base_uri": "https://localhost:8080/"
    },
    "id": "47945ebf",
    "outputId": "8e82dbcc-b5cc-4c9a-c9fb-3c553e9eef94"
   },
   "outputs": [],
   "source": [
    "application_train_copy['Has a mobile phone']"
   ]
  },
  {
   "cell_type": "code",
   "execution_count": null,
   "id": "b1f78292",
   "metadata": {
    "colab": {
     "base_uri": "https://localhost:8080/"
    },
    "id": "b1f78292",
    "outputId": "5fe7ecd0-653f-45d8-c8b1-9e20e94f021d"
   },
   "outputs": [],
   "source": [
    "application_train_copy['Has a mobile phone'].unique()"
   ]
  },
  {
   "cell_type": "code",
   "execution_count": null,
   "id": "19f466eb",
   "metadata": {
    "colab": {
     "base_uri": "https://localhost:8080/"
    },
    "id": "19f466eb",
    "outputId": "2d864f8d-be7f-41af-fd7b-3f766565cfa2"
   },
   "outputs": [],
   "source": [
    "application_train_copy['Has a mobile phone'].value_counts()"
   ]
  },
  {
   "cell_type": "code",
   "execution_count": null,
   "id": "126743b9",
   "metadata": {
    "colab": {
     "base_uri": "https://localhost:8080/",
     "height": 264
    },
    "id": "126743b9",
    "outputId": "c5ca2a48-c07d-4777-fd27-8fdddedc671f"
   },
   "outputs": [],
   "source": [
    "size_mobile_own = application_train_copy['Has a mobile phone'].value_counts().values\n",
    "size_mobile_own\n",
    "plt.pie(size_mobile_own,labels=['Own a mobile phone'],autopct='%1.0f%%')\n",
    "plt.title('Mobile owner ratio')\n",
    "plt.show()"
   ]
  },
  {
   "cell_type": "markdown",
   "id": "9f450bf4",
   "metadata": {
    "id": "9f450bf4"
   },
   "source": [
    "#### 16. Has a phone"
   ]
  },
  {
   "cell_type": "code",
   "execution_count": null,
   "id": "e38bb77d",
   "metadata": {
    "colab": {
     "base_uri": "https://localhost:8080/"
    },
    "id": "e38bb77d",
    "outputId": "0b91a895-290f-4368-e3b2-ac8eac93bc14"
   },
   "outputs": [],
   "source": [
    "application_train_copy['Has a phone'].value_counts(normalize=True) * 100"
   ]
  },
  {
   "cell_type": "markdown",
   "id": "f555dc4e",
   "metadata": {
    "id": "f555dc4e"
   },
   "source": [
    "#### Phone ownership ratio"
   ]
  },
  {
   "cell_type": "code",
   "execution_count": null,
   "id": "936e3546",
   "metadata": {
    "colab": {
     "base_uri": "https://localhost:8080/"
    },
    "id": "936e3546",
    "outputId": "7d8c25c0-003a-4493-d394-d31f2d73efc7"
   },
   "outputs": [],
   "source": [
    "size_phone_own = application_train_copy['Has a phone'].value_counts().values\n",
    "size_phone_own"
   ]
  },
  {
   "cell_type": "code",
   "execution_count": null,
   "id": "68b6d19f",
   "metadata": {
    "colab": {
     "base_uri": "https://localhost:8080/",
     "height": 264
    },
    "id": "68b6d19f",
    "outputId": "1c36179c-3ee9-4be7-97ba-523a198b2776"
   },
   "outputs": [],
   "source": [
    "plt.pie(size_phone_own,labels=['Does not own a phone','Own a phone'],autopct='%1.0f%%')\n",
    "plt.title('Phone owner ratio')\n",
    "plt.show()"
   ]
  },
  {
   "cell_type": "markdown",
   "id": "eb806e61",
   "metadata": {
    "id": "eb806e61"
   },
   "source": [
    "#### Phone ownership count"
   ]
  },
  {
   "cell_type": "code",
   "execution_count": null,
   "id": "5dbb1a6e",
   "metadata": {
    "colab": {
     "base_uri": "https://localhost:8080/",
     "height": 294
    },
    "id": "5dbb1a6e",
    "outputId": "e8767bd7-4239-4f9c-8a34-d63a21368b0d"
   },
   "outputs": [],
   "source": [
    "sns.barplot(x=application_train_copy['Has a phone'].value_counts().index,y=size_phone_own)\n",
    "plt.xlabel('Has a phone')\n",
    "plt.ylabel('Count')\n",
    "plt.title('Phone owner count')\n",
    "plt.show()"
   ]
  },
  {
   "cell_type": "markdown",
   "id": "d1748834",
   "metadata": {
    "id": "d1748834",
    "scrolled": false
   },
   "source": [
    "#### 17. Has an email"
   ]
  },
  {
   "cell_type": "code",
   "execution_count": null,
   "id": "d109a1de",
   "metadata": {
    "colab": {
     "base_uri": "https://localhost:8080/"
    },
    "id": "d109a1de",
    "outputId": "aec84aa2-8029-4fca-ba8b-0c9f22e3c7e0"
   },
   "outputs": [],
   "source": [
    "application_train_copy['Has an email'].value_counts()"
   ]
  },
  {
   "cell_type": "code",
   "execution_count": null,
   "id": "63cf64ee",
   "metadata": {
    "colab": {
     "base_uri": "https://localhost:8080/"
    },
    "id": "63cf64ee",
    "outputId": "d4a1112c-9414-4220-a69b-80023f8eb7c8"
   },
   "outputs": [],
   "source": [
    "application_train_copy['Has an email'].value_counts()"
   ]
  },
  {
   "cell_type": "code",
   "execution_count": null,
   "id": "c2798a6e",
   "metadata": {
    "colab": {
     "base_uri": "https://localhost:8080/"
    },
    "id": "c2798a6e",
    "outputId": "4e3928db-5b7e-444f-cf3e-79957a88c0df"
   },
   "outputs": [],
   "source": [
    "application_train_copy['Has an email'].value_counts(normalize=True) * 100"
   ]
  },
  {
   "cell_type": "markdown",
   "id": "f63b875d",
   "metadata": {
    "id": "f63b875d"
   },
   "source": [
    "#### Email ownership ratio"
   ]
  },
  {
   "cell_type": "code",
   "execution_count": null,
   "id": "95f1ed5d",
   "metadata": {
    "colab": {
     "base_uri": "https://localhost:8080/"
    },
    "id": "95f1ed5d",
    "outputId": "48506733-34b4-4632-d67f-8a3812c227df"
   },
   "outputs": [],
   "source": [
    "size_email_own = application_train_copy['Has an email'].value_counts().values\n",
    "size_email_own"
   ]
  },
  {
   "cell_type": "code",
   "execution_count": null,
   "id": "ca0afc51",
   "metadata": {
    "colab": {
     "base_uri": "https://localhost:8080/",
     "height": 264
    },
    "id": "ca0afc51",
    "outputId": "cf136d71-06d2-4ea8-e7c8-13478da72d9b"
   },
   "outputs": [],
   "source": [
    "plt.pie(size_email_own,labels=['Does not have an email','Have an email'],autopct='%1.0f%%')\n",
    "plt.title('Email owner ratio')\n",
    "plt.show()"
   ]
  },
  {
   "cell_type": "markdown",
   "id": "6332ec87",
   "metadata": {
    "id": "6332ec87"
   },
   "source": [
    "#### Email ownership count"
   ]
  },
  {
   "cell_type": "code",
   "execution_count": null,
   "id": "bc6c8ecb",
   "metadata": {
    "colab": {
     "base_uri": "https://localhost:8080/",
     "height": 294
    },
    "id": "bc6c8ecb",
    "outputId": "eeeafc9c-c0a8-411a-d826-387cdc7bdc29"
   },
   "outputs": [],
   "source": [
    "sns.barplot(x=application_train_copy['Has an email'].value_counts().index,y=size_email_own)\n",
    "plt.xlabel('Has an email')\n",
    "plt.ylabel('Count')\n",
    "plt.title('Car owner count')\n",
    "plt.show()"
   ]
  },
  {
   "cell_type": "markdown",
   "id": "a0186619",
   "metadata": {},
   "source": [
    "## Key finds from the EDA"
   ]
  },
  {
   "cell_type": "code",
   "execution_count": null,
   "id": "b26d6c9e",
   "metadata": {},
   "outputs": [],
   "source": []
  },
  {
   "cell_type": "markdown",
   "id": "c0aa8747",
   "metadata": {
    "id": "c0aa8747"
   },
   "source": [
    "#### 4. For supervised learning tasks, identify the target attribute(s)."
   ]
  },
  {
   "cell_type": "markdown",
   "id": "cf156842",
   "metadata": {
    "id": "cf156842"
   },
   "source": [
    "The target 'Is high risk'"
   ]
  },
  {
   "cell_type": "markdown",
   "id": "8bb847e2",
   "metadata": {
    "id": "8bb847e2"
   },
   "source": [
    "#### Target analysis"
   ]
  },
  {
   "cell_type": "code",
   "execution_count": null,
   "id": "ad3ebc02",
   "metadata": {
    "colab": {
     "base_uri": "https://localhost:8080/"
    },
    "id": "ad3ebc02",
    "outputId": "5a071f1a-937d-4f23-a1a5-7bf56affc767"
   },
   "outputs": [],
   "source": [
    "high_risk_count = application_train_copy['Is high risk'].value_counts()\n",
    "high_risk_count "
   ]
  },
  {
   "cell_type": "code",
   "execution_count": null,
   "id": "0b7a59e8",
   "metadata": {
    "colab": {
     "base_uri": "https://localhost:8080/"
    },
    "id": "0b7a59e8",
    "outputId": "24340f01-4ce4-4542-9b5d-49765eea1b9b"
   },
   "outputs": [],
   "source": [
    "high_risk_ratio = application_train_copy['Is high risk'].value_counts(normalize=True) * 100\n",
    "high_risk_ratio "
   ]
  },
  {
   "cell_type": "code",
   "execution_count": null,
   "id": "e69670d9",
   "metadata": {
    "colab": {
     "base_uri": "https://localhost:8080/",
     "height": 264
    },
    "id": "e69670d9",
    "outputId": "223fb634-00e2-4ffd-867e-f9cbff2604f6"
   },
   "outputs": [],
   "source": [
    "plt.pie(high_risk_ratio,labels=['No','Yes'],autopct='%1.0f%%')\n",
    "plt.title('High risk ratio')\n",
    "plt.show()"
   ]
  },
  {
   "cell_type": "code",
   "execution_count": null,
   "id": "b0fc4bdf",
   "metadata": {
    "colab": {
     "base_uri": "https://localhost:8080/",
     "height": 294
    },
    "id": "b0fc4bdf",
    "outputId": "9ea7c383-8967-4449-e076-5d99aacbffc1"
   },
   "outputs": [],
   "source": [
    "fig, ax = plt.subplots()\n",
    "sns.barplot(x=high_risk_count.index,y=high_risk_count.values)\n",
    "ax.set_xticklabels(['No','Yes'])\n",
    "plt.xlabel('High risk')\n",
    "plt.ylabel('Count')\n",
    "plt.title('High risk count')\n",
    "plt.show()"
   ]
  },
  {
   "cell_type": "markdown",
   "id": "22d23e86",
   "metadata": {
    "id": "22d23e86"
   },
   "source": [
    "#### 5. Visualize the correlation within the data."
   ]
  },
  {
   "cell_type": "code",
   "execution_count": null,
   "id": "b105f54f",
   "metadata": {
    "colab": {
     "base_uri": "https://localhost:8080/",
     "height": 1000
    },
    "id": "b105f54f",
    "outputId": "7385ef0a-46f5-4d16-b66f-c43513b2225c"
   },
   "outputs": [],
   "source": [
    "sns.pairplot(application_train_copy[['Days since birth','Family size','Children count','Income','Days since employment (positive means unemployed)','Is high risk']],corner=True)\n",
    "plt.show()"
   ]
  },
  {
   "cell_type": "code",
   "execution_count": null,
   "id": "e44c0417",
   "metadata": {
    "colab": {
     "base_uri": "https://localhost:8080/",
     "height": 450
    },
    "id": "e44c0417",
    "outputId": "7b3be2fb-2568-4899-dc01-4b977cc074f2"
   },
   "outputs": [],
   "source": [
    "app_corr_matrix = application_train_copy.corr()\n",
    "app_corr_matrix"
   ]
  },
  {
   "cell_type": "code",
   "execution_count": null,
   "id": "082369a7",
   "metadata": {
    "colab": {
     "base_uri": "https://localhost:8080/",
     "height": 466
    },
    "id": "082369a7",
    "outputId": "da1206d2-5195-42ea-bb55-926cebc579e9"
   },
   "outputs": [],
   "source": [
    "mask = np.zeros_like(app_corr_matrix, dtype=bool)\n",
    "mask[np.triu_indices_from(mask)] = True\n",
    "app_corr_matrix[mask] = np.nan\n",
    "(app_corr_matrix\n",
    " .style\n",
    " .background_gradient(cmap='bwr', axis=None, vmin=-1, vmax=1)\n",
    " .highlight_null(null_color='#f1f1f1')  \n",
    ")"
   ]
  },
  {
   "cell_type": "markdown",
   "id": "b2f11d79",
   "metadata": {
    "id": "b2f11d79"
   },
   "source": [
    "#### 6. Study the correlations between attributes."
   ]
  },
  {
   "cell_type": "markdown",
   "id": "9f3b29fe",
   "metadata": {
    "id": "9f3b29fe"
   },
   "source": [
    "#### 6.1 Family size vs Children count"
   ]
  },
  {
   "cell_type": "code",
   "execution_count": null,
   "id": "6a901a29",
   "metadata": {
    "colab": {
     "base_uri": "https://localhost:8080/",
     "height": 278
    },
    "id": "6a901a29",
    "outputId": "1bf1ea26-e606-4556-cda6-1c214fa403c0"
   },
   "outputs": [],
   "source": [
    "sns.regplot(x=application_train_copy['Family size'],y=application_train_copy['Children count'],line_kws={'color': 'red'})\n",
    "plt.show()"
   ]
  },
  {
   "cell_type": "markdown",
   "id": "829c1a9c",
   "metadata": {
    "id": "829c1a9c"
   },
   "source": [
    "#### Days since birth vs Days since employment"
   ]
  },
  {
   "cell_type": "code",
   "execution_count": null,
   "id": "5030cd12",
   "metadata": {
    "colab": {
     "base_uri": "https://localhost:8080/",
     "height": 278
    },
    "id": "5030cd12",
    "outputId": "b8b22b3e-4e1c-4497-98ea-dc1aee2da16d"
   },
   "outputs": [],
   "source": [
    "sns.scatterplot(x=application_train_copy['Days since employment (positive means unemployed)'][application_train_copy['Days since employment (positive means unemployed)'] != 365243],y=application_train_copy['Days since birth'],alpha=.1)\n",
    "plt.show()"
   ]
  },
  {
   "cell_type": "markdown",
   "id": "2e536aa3",
   "metadata": {
    "id": "2e536aa3"
   },
   "source": [
    "#### 7. Study how you would solve the problem manually."
   ]
  },
  {
   "cell_type": "markdown",
   "id": "89f858c9",
   "metadata": {
    "id": "89f858c9"
   },
   "source": [
    "Consult expert subject matter in credit scoring"
   ]
  },
  {
   "cell_type": "markdown",
   "id": "fc69fb6a",
   "metadata": {
    "id": "fc69fb6a"
   },
   "source": [
    "#### 8. Identify the promising transformations you may want to apply."
   ]
  },
  {
   "cell_type": "markdown",
   "id": "d2dec737",
   "metadata": {
    "id": "d2dec737"
   },
   "source": [
    "Transformation to do:\n",
    "\n",
    "    - Encoding: Label encoding for sex\n",
    "    - Encoding: Label encoding for Marital Status\n",
    "    - Encoding: Label encoding for Way of living\n",
    "    - Encoding: Label encoding for Occupation\n",
    "    - Encoding: Label encoding for Has a car\n",
    "    - Encoding: Label encoding for Has a property\n",
    "    - Encoding: Label encoding for Income Category\n",
    "    - Encoding: Label encoding for Education\n",
    "    \n",
    "    - Custom Transformation: Detect and remove outliers\n",
    "    - Custom Transformation: Remove missing data\n",
    "    - Custom Transformation: Balance the data in pipeline\n",
    "    - Custom Transformation: Change to absolute value and divide the Days since birth by 365.25\n",
    "    - Custom Transformation: Change name Days since birth to Age\n",
    "    - Custom Transformation: Change to absolute value and divide the Days since employment by 365.25\n",
    "    - Custom Transformation: Change name Days since employment to Experience length\n",
    "    - Custom Transformation: Drop has mobile phone\n",
    "    - Customer Transformation: Balance the skewed data income column, age, experience length\n",
    "   \n",
    "        ** Toggle and check with model perfomance\n",
    "    - Custom Transformation: Keep Family size and drop Children count \n",
    "    - Custom Transformation: Keep Children count and drop Family size\n",
    "    - Custom Transformation: Keep/drop the occupation column\n",
    "    - Custom Transformation: Use Days of employment as part of the outliers column\n",
    "    \n",
    "    \n",
    "    - Scalling: Min-max for Age\n",
    "    - Scalling: Min-max for income\n",
    "    - Scalling: Min-max for Experience   \n",
    "    \n",
    "    \n",
    "    - Imputation: Impute Occupation\n",
    "   \n",
    "    - Oversample with SMOTE after encoding before modelling  "
   ]
  },
  {
   "cell_type": "markdown",
   "id": "adc52e6f",
   "metadata": {
    "id": "adc52e6f"
   },
   "source": [
    "#### 9. Identify extra data that would be useful (go back to “Get the Data”)."
   ]
  },
  {
   "cell_type": "markdown",
   "id": "8682e3a6",
   "metadata": {
    "id": "8682e3a6"
   },
   "source": [
    "Not applicable"
   ]
  },
  {
   "cell_type": "markdown",
   "id": "542165dc",
   "metadata": {
    "id": "542165dc"
   },
   "source": [
    "#### 10. Document what you have learned."
   ]
  },
  {
   "cell_type": "markdown",
   "id": "4e09be2f",
   "metadata": {
    "id": "4e09be2f"
   },
   "source": [
    "Refer to the report"
   ]
  },
  {
   "cell_type": "markdown",
   "id": "c68a5f50",
   "metadata": {
    "id": "c68a5f50"
   },
   "source": [
    "### Prepare the Data"
   ]
  },
  {
   "cell_type": "markdown",
   "id": "1820631d",
   "metadata": {
    "id": "1820631d"
   },
   "source": [
    "#### 1. Data Cleaning"
   ]
  },
  {
   "cell_type": "markdown",
   "id": "fa853213",
   "metadata": {
    "id": "fa853213"
   },
   "source": [
    "#### 1.1 Custom transformer to handle outliers"
   ]
  },
  {
   "cell_type": "code",
   "execution_count": null,
   "id": "0e2d1e14",
   "metadata": {
    "id": "0e2d1e14"
   },
   "outputs": [],
   "source": [
    "class OutlierExtractor(BaseEstimator, TransformerMixin):\n",
    "    def __init__(self,add_days_employed_to_col=False,outlier_col = ['Family size','Children count','Income']):\n",
    "        self.outlier_col = outlier_col\n",
    "        self.add_days_employed_to_col = add_days_employed_to_col\n",
    "    def fit(self,X,y=None):\n",
    "        return self\n",
    "    def transform(self,X,y=None):\n",
    "        outlier_col = []\n",
    "        def outlier_cal(outlier_col):\n",
    "            Q1 = X[self.outlier_col].quantile(.25)\n",
    "            Q3 = X[self.outlier_col].quantile(.75)\n",
    "            IQR = Q3 - Q1\n",
    "            outlier_condition = (X[self.outlier_col] < (Q1 - 1.5 * IQR)) | (X[self.outlier_col] > (Q3 + 1.5 * IQR))\n",
    "            index_to_keep = X[~outlier_condition.any(axis=1)].index\n",
    "            return X.loc[index_to_keep]\n",
    "        if self.add_days_employed_to_col:\n",
    "            self.outlier_col.append('Days since employment (positive means unemployed)')\n",
    "            return outlier_cal(self.outlier_col)\n",
    "        else:\n",
    "            if len(self.outlier_col) == 3:\n",
    "                return outlier_cal(self.outlier_col)\n",
    "            else:\n",
    "                self.outlier_col.remove('Days since employment (positive means unemployed)')\n",
    "                return outlier_cal(self.outlier_col)"
   ]
  },
  {
   "cell_type": "code",
   "execution_count": null,
   "id": "508b6a10",
   "metadata": {
    "id": "508b6a10"
   },
   "outputs": [],
   "source": [
    "outlier_remover = OutlierExtractor()"
   ]
  },
  {
   "cell_type": "markdown",
   "id": "4802cb32",
   "metadata": {
    "id": "4802cb32"
   },
   "source": [
    "#### 1.2 Custom transformer to handle missing value"
   ]
  },
  {
   "cell_type": "code",
   "execution_count": null,
   "id": "22322f27",
   "metadata": {
    "colab": {
     "base_uri": "https://localhost:8080/"
    },
    "id": "22322f27",
    "outputId": "4d763c83-304f-45fe-d5ec-7e56a01de9a7"
   },
   "outputs": [],
   "source": [
    "application_train_copy[application_train_copy['Days since employment (positive means unemployed)'] == 365243]['Occupation']"
   ]
  },
  {
   "cell_type": "code",
   "execution_count": null,
   "id": "25ca027d",
   "metadata": {
    "colab": {
     "base_uri": "https://localhost:8080/"
    },
    "id": "25ca027d",
    "outputId": "61dd5b8e-0383-43c7-f0e5-00c30eb01a38"
   },
   "outputs": [],
   "source": [
    "application_train['Occupation'].value_counts()"
   ]
  },
  {
   "cell_type": "code",
   "execution_count": null,
   "id": "5b8f387a",
   "metadata": {
    "id": "5b8f387a"
   },
   "outputs": [],
   "source": [
    "class MissingValHandler(BaseEstimator, TransformerMixin):\n",
    "    def __init__(self,drop_occupation=False):\n",
    "        self.drop_occupation = drop_occupation\n",
    "    def fit(self,X,y=None):\n",
    "        return self\n",
    "    def transform(self,X,y=None):\n",
    "        if self.drop_occupation:\n",
    "            X_no_occ = X.drop('Occupation',axis=1)\n",
    "            return X_no_occ\n",
    "        else:\n",
    "            nan_pensioner = X[X['Days since employment (positive means unemployed)'] == 365243]['Occupation']\n",
    "            nan_pensioner_idx = X.loc[nan_pensioner.index.to_list()]['Occupation'].index.to_list()\n",
    "            X.at[nan_pensioner_idx,'Occupation'] = 'Retired'\n",
    "            #rest of nan other than the ones related to the retiment situation\n",
    "            rest_nan_idx = X['Occupation'][X['Occupation'].isna()].index.to_list()\n",
    "            most_freq_occ = X['Occupation'].value_counts().index[0]\n",
    "            X['Occupation'].loc[rest_nan_idx] = most_freq_occ\n",
    "            return X"
   ]
  },
  {
   "cell_type": "markdown",
   "id": "1bdc73b4",
   "metadata": {
    "id": "1bdc73b4"
   },
   "source": [
    "#### 2. Feature selection"
   ]
  },
  {
   "cell_type": "code",
   "execution_count": null,
   "id": "ae90dd37",
   "metadata": {
    "id": "ae90dd37"
   },
   "outputs": [],
   "source": [
    "application_train_copy = application_train.copy()"
   ]
  },
  {
   "cell_type": "code",
   "execution_count": null,
   "id": "7fa64ed8",
   "metadata": {
    "id": "7fa64ed8"
   },
   "outputs": [],
   "source": [
    "class ColumnsToDrop(BaseEstimator,TransformerMixin):\n",
    "    def __init__(self,column_to_drop = []):\n",
    "        self.column_to_drop = column_to_drop\n",
    "    def fit(self,X,y=None):\n",
    "        return self\n",
    "    def transform(self,X,y=None):\n",
    "        if (set(self.column_to_drop).issubset(X.columns)):\n",
    "                self.column_to_drop.append('Has a mobile phone')\n",
    "                X.drop(self.column_to_drop,axis=1,inplace=True)\n",
    "                return X\n",
    "        else:\n",
    "            if (set('Has a mobile phone').issubset(X.columns)):\n",
    "                X.drop('Has a mobile phone',axis=1,inplace=True)\n",
    "                return X\n",
    "            else:\n",
    "                return X"
   ]
  },
  {
   "cell_type": "code",
   "execution_count": null,
   "id": "bb7a89a6",
   "metadata": {
    "id": "bb7a89a6"
   },
   "outputs": [],
   "source": [
    "feat_selector = ColumnsToDrop()"
   ]
  },
  {
   "cell_type": "markdown",
   "id": "59d18a0f",
   "metadata": {
    "id": "59d18a0f"
   },
   "source": [
    "#### 3. Feature engineering"
   ]
  },
  {
   "cell_type": "markdown",
   "id": "719010d1",
   "metadata": {
    "id": "719010d1"
   },
   "source": [
    "#### 3.1 Days transformation"
   ]
  },
  {
   "cell_type": "code",
   "execution_count": null,
   "id": "ab21b226",
   "metadata": {
    "id": "ab21b226"
   },
   "outputs": [],
   "source": [
    "class DaysTransformation(BaseEstimator,TransformerMixin):\n",
    "    def __init__(self):\n",
    "        self.days_col = ['Days since birth','Days since employment (positive means unemployed)']\n",
    "    def fit(self,X,y=None):\n",
    "        return self\n",
    "    def transform(self,X,y=None):\n",
    "        if (set(self.days_col).issubset(X.columns)):\n",
    "            for col in self.days_col:\n",
    "                if col == 'Days since birth':\n",
    "                    X['Age'] = np.abs(X[col])/365.25\n",
    "                    X.drop(col,axis=1,inplace=True)\n",
    "                elif col == 'Days since employment (positive means unemployed)':\n",
    "                    X[col] = np.abs(X[col])/365.25\n",
    "                    X[X[col] == 999.980][col] = -1\n",
    "                    X['Employment lenght (in years)'] = X[col]\n",
    "                    X.drop(col,axis=1,inplace=True)\n",
    "            return X\n",
    "        else:\n",
    "            return X"
   ]
  },
  {
   "cell_type": "code",
   "execution_count": null,
   "id": "4084aab8",
   "metadata": {
    "id": "4084aab8"
   },
   "outputs": [],
   "source": [
    "day_col_est = DaysTransformation()"
   ]
  },
  {
   "cell_type": "markdown",
   "id": "9bfabb3c",
   "metadata": {
    "id": "9bfabb3c"
   },
   "source": [
    "#### 3.2 Family children column drop"
   ]
  },
  {
   "cell_type": "code",
   "execution_count": null,
   "id": "7b83b6bb",
   "metadata": {
    "id": "7b83b6bb"
   },
   "outputs": [],
   "source": [
    "class FamilyChildrenColToggle(BaseEstimator,TransformerMixin):\n",
    "    def __init__(self, drop_family_col = False, drop_child_col = False):\n",
    "        self.drop_family_col = drop_family_col\n",
    "        self.drop_child_col = drop_child_col\n",
    "    def fit(self,X,y=None):\n",
    "        return self\n",
    "    def transform(self,X,y=None):\n",
    "        if self.drop_family_col & ('Family size' in X.columns):\n",
    "            X.drop('Family size',axis=1,inplace=True) \n",
    "            return X \n",
    "        elif self.drop_child_col & ('Children count' in X.columns):\n",
    "            X.drop('Children count',axis=1,inplace=True) \n",
    "            return X\n",
    "        else:\n",
    "            return X        "
   ]
  },
  {
   "cell_type": "markdown",
   "id": "f8688612",
   "metadata": {
    "id": "f8688612"
   },
   "source": [
    "#### 3.3 Oversampling with SMOTE"
   ]
  },
  {
   "cell_type": "code",
   "execution_count": null,
   "id": "007ecb0a",
   "metadata": {
    "id": "007ecb0a"
   },
   "outputs": [],
   "source": [
    "class OversampleSMOTE(BaseEstimator,TransformerMixin):\n",
    "    def __init__(self, perform_oversampling = True):\n",
    "        self.perform_oversampling = perform_oversampling\n",
    "    def fit(self,X,y=None):\n",
    "        return self\n",
    "    def transform(self,X,y=None):\n",
    "        if self.perform_oversampling:\n",
    "            smote = SMOTE()\n",
    "            X_bal, y_bal = smote.fit_resample(X[:,:-1],X[:,-1])\n",
    "            X_y_bal = np.concatenate((X_bal,y_bal[:,None]),axis=1)\n",
    "            return X_y_bal\n",
    "\n",
    "        else:\n",
    "            return X"
   ]
  },
  {
   "cell_type": "markdown",
   "id": "f03e31ec",
   "metadata": {
    "id": "f03e31ec"
   },
   "source": [
    "#### 3.4 Target transformation column "
   ]
  },
  {
   "cell_type": "code",
   "execution_count": null,
   "id": "00d3195c",
   "metadata": {
    "id": "00d3195c"
   },
   "outputs": [],
   "source": [
    "class TargetColTransformation(BaseEstimator,TransformerMixin):\n",
    "    def __init__(self,target_pos_change = False,target_drop = False):\n",
    "        self.target_pos_change = target_pos_change\n",
    "        self.target_drop = target_drop\n",
    "    def fit(self,X,y=None):\n",
    "        return self\n",
    "    def transform(self,X,y=None):\n",
    "        if self.target_drop:\n",
    "            if self.target_pos_change == False:\n",
    "                X_col_list = X.columns.to_list()\n",
    "                X_col_list.remove('Is high risk')\n",
    "                X = X[X_col_list]\n",
    "                return X\n",
    "            else:\n",
    "                print('Cant change the position of the target while it was dropped')\n",
    "                return X\n",
    "        else:\n",
    "            if self.target_pos_change:\n",
    "                X_col_list = X.columns.to_list()\n",
    "                X_col_list.remove('Is high risk')\n",
    "                X_col_list.append('Is high risk')\n",
    "                X = X[X_col_list]\n",
    "                return X\n",
    "            else:\n",
    "                return X"
   ]
  },
  {
   "cell_type": "markdown",
   "id": "a341a4d9",
   "metadata": {
    "id": "a341a4d9"
   },
   "source": [
    "#### 4. Feature scaling"
   ]
  },
  {
   "cell_type": "markdown",
   "id": "890c78f8",
   "metadata": {
    "id": "890c78f8"
   },
   "source": [
    "Implemented with Column Transformer, but we will create a feature selector for selection the column to be scaled"
   ]
  },
  {
   "cell_type": "markdown",
   "id": "bf224df0",
   "metadata": {
    "id": "bf224df0"
   },
   "source": [
    "#### 5. Put everything together in a column transformer/pipeline"
   ]
  },
  {
   "cell_type": "code",
   "execution_count": null,
   "id": "79d93251",
   "metadata": {
    "id": "79d93251"
   },
   "outputs": [],
   "source": [
    "application_train_copy = application_train.copy()\n",
    "application_test_copy = application_test.copy()"
   ]
  },
  {
   "cell_type": "code",
   "execution_count": null,
   "id": "5d8dbff9",
   "metadata": {
    "id": "5d8dbff9"
   },
   "outputs": [],
   "source": [
    "def full_pipeline(df,type_dataframe):\n",
    "    #columns to use in the column transformer\n",
    "    enc_columns = ['Sex','Marital status','Way of living','Occupation','Has a car','Has a property','Income category','Education level']\n",
    "    scale_columns = ['Age','Income','Employment lenght (in years)']\n",
    "\n",
    "    #pipeline \n",
    "    if type_dataframe == 'Train':\n",
    "        pipeline = Pipeline([\n",
    "        ('imputer_missing',MissingValHandler()), #Has toggle option\n",
    "         ('outlier',OutlierExtractor()), #Has toggle option\n",
    "         ('feat_select',ColumnsToDrop()), #Has toggle option\n",
    "         ('day_trans',DaysTransformation()),\n",
    "         ('family_chil_trans',FamilyChildrenColToggle()), #Has toggle option\n",
    "         ('y_trans',TargetColTransformation(target_pos_change = True))\n",
    "        ])\n",
    "        #Column transformer\n",
    "        col_transformer = ColumnTransformer([\n",
    "         ('encoder',OrdinalEncoder(),enc_columns),\n",
    "         ('scaler',MinMaxScaler(),scale_columns),], remainder='passthrough')\n",
    "\n",
    "    #     #pipeline for SMOTE\n",
    "        pipeline_smote = Pipeline([\n",
    "         ('smote',OversampleSMOTE())\n",
    "         ])\n",
    "    elif type_dataframe == 'Test':\n",
    "        pipeline = Pipeline([\n",
    "        ('imputer_missing',MissingValHandler()), #Has toggle option\n",
    "        ('outlier',OutlierExtractor()), #Has toggle option\n",
    "        ('feat_select',ColumnsToDrop()), #Has toggle option\n",
    "        ('day_trans',DaysTransformation()),\n",
    "        ('family_chil_trans',FamilyChildrenColToggle()), #Has toggle option\n",
    "        # drop the target to avoid data snooping\n",
    "        ('y_trans',TargetColTransformation(target_drop=True))\n",
    "        ])\n",
    "              #Column transformer\n",
    "        col_transformer = ColumnTransformer([\n",
    "        ('encoder',OrdinalEncoder(),enc_columns),\n",
    "        ('scaler',MinMaxScaler(),scale_columns),], remainder='passthrough')\n",
    "\n",
    "        #pipeline for SMOTE\n",
    "        pipeline_smote = Pipeline([\n",
    "        ('smote',OversampleSMOTE())\n",
    "        ])\n",
    "\n",
    "    \n",
    "    \n",
    "    if type_dataframe == 'Train':\n",
    "        df_pip = pipeline.fit_transform(df)\n",
    "        df_prepared = col_transformer.fit_transform(df_pip)\n",
    "        df_bal = pipeline_smote.fit_transform(df_prepared)\n",
    "        X_prep = df_bal[:,:-1]\n",
    "        y_prep = df_bal[:,-1]\n",
    "        return X_prep, y_prep\n",
    "    # ToDo: Finish the test \n",
    "    elif type_dataframe == 'Test':\n",
    "        df_pip = pipeline.transform(df)\n",
    "        print(df_pip.columns)\n",
    "        df_prepared = col_transformer.transform(df_pip)\n",
    "        print(df_prepared.shape)\n",
    "#         df_bal = pipeline_smote.transform(df_prepared)\n",
    "#         print(df_bal.shape)\n",
    "    else:\n",
    "        print('Please select 'Train' or 'Test' for type_dataframe')"
   ]
  },
  {
   "cell_type": "code",
   "execution_count": null,
   "id": "6c1af9e4",
   "metadata": {
    "colab": {
     "base_uri": "https://localhost:8080/"
    },
    "id": "6c1af9e4",
    "outputId": "9a1dd706-c934-403b-aff6-ffd6b8248a0e"
   },
   "outputs": [],
   "source": [
    "X_train_prep, y_train_prep = full_pipeline(application_train_copy, 'Train')"
   ]
  },
  {
   "cell_type": "code",
   "execution_count": null,
   "id": "3f0fc946",
   "metadata": {
    "colab": {
     "base_uri": "https://localhost:8080/"
    },
    "id": "3f0fc946",
    "outputId": "e29c1f8d-4d14-4f0b-9372-ba04a108a258"
   },
   "outputs": [],
   "source": [
    "X_train_prep.shape"
   ]
  },
  {
   "cell_type": "code",
   "execution_count": null,
   "id": "8ed7eded",
   "metadata": {
    "colab": {
     "base_uri": "https://localhost:8080/"
    },
    "id": "8ed7eded",
    "outputId": "c81509f5-c973-4861-bb8b-f2fbbee5e758"
   },
   "outputs": [],
   "source": [
    "y_train_prep.shape"
   ]
  },
  {
   "cell_type": "markdown",
   "id": "a58cd98a",
   "metadata": {
    "id": "a58cd98a"
   },
   "source": [
    "### Shortlist Promising Models"
   ]
  },
  {
   "cell_type": "code",
   "execution_count": null,
   "id": "5decc47a",
   "metadata": {
    "code_folding": [],
    "id": "5decc47a"
   },
   "outputs": [],
   "source": [
    "def fit_evaluate_model(model,X_train_prep,y_train_prep,cross_val = False):\n",
    "    \n",
    "    if cross_val:\n",
    "        score_list = ['precision','recall','f1','accuracy','roc_auc']\n",
    "        for score in score_list:\n",
    "            scores = cross_val_score(model,X_train_prep,y_train_prep,scoring=score,cv=10)\n",
    "            print('\\n                        {} Score\\n'.format(score))\n",
    "            print('All the scores: {}'.format(scores))\n",
    "            print('Mean of the scores: {}'.format(scores.mean()))\n",
    "            print('Standard deviation: {}'.format(scores.std()))\n",
    "            print('\\n*****************************************************\\n')\n",
    "        \n",
    "    else:\n",
    "        model.fit(X_train_prep, y_train_prep)\n",
    "        y_train_prediction = model.predict(X_train_prep)\n",
    "\n",
    "        print('                        Classification Report')\n",
    "        print(classification_report(y_train_prep,y_train_prediction))\n",
    "        print('*****************************************************')\n",
    "\n",
    "        print('Accuracy score {}'.format(accuracy_score(y_train_prep,y_train_prediction)))\n",
    "        print('Confusion Matrix')\n",
    "        plot_confusion_matrix(model,X_train_prep,y_train_prep)\n",
    "        plt.show()\n",
    "        print('*****************************************************')\n",
    "\n",
    "        no_risk_probs = [0 for _ in range(len(y_train_prep))]\n",
    "        risk_probs = model.predict_proba(X_train_prep)\n",
    "        risk_probs_pos_outcome = risk_probs[:,1]\n",
    "        no_risk_auc = roc_auc_score(y_train_prep,no_risk_probs)\n",
    "        risk_auc = roc_auc_score(y_train_prep,risk_probs_pos_outcome)\n",
    "        print('No risk: ROC AUC=%.3f' % (no_risk_auc))\n",
    "        print('High risk: ROC AUC=%.3f' % (risk_auc))\n",
    "        no_risk_false_pos_rate, no_risk_true_pos_rate, _ = roc_curve(y_train_prep,no_risk_probs)\n",
    "        risk_false_pos_rate, risk_true_pos_rate, _ = roc_curve(y_train_prep,risk_probs_pos_outcome)\n",
    "        plt.plot(no_risk_false_pos_rate, no_risk_true_pos_rate, linestyle='--', label='No risk')\n",
    "        plt.plot(risk_false_pos_rate, risk_true_pos_rate, marker='.', label='High risk')\n",
    "        # axis labels\n",
    "        plt.xlabel('False Positive Rate')\n",
    "        plt.ylabel('True Positive Rate')\n",
    "        plt.title('ROC curve')\n",
    "        # show the legend\n",
    "        plt.legend()\n",
    "        # show the plot\n",
    "        plt.show()"
   ]
  },
  {
   "cell_type": "markdown",
   "id": "e3ef0138",
   "metadata": {
    "id": "e3ef0138"
   },
   "source": [
    "#### 1. Quick models comparison"
   ]
  },
  {
   "cell_type": "markdown",
   "id": "53427e88",
   "metadata": {
    "id": "53427e88"
   },
   "source": [
    "#### 1.1 Logistic Regression"
   ]
  },
  {
   "cell_type": "code",
   "execution_count": null,
   "id": "951d165f",
   "metadata": {
    "id": "951d165f"
   },
   "outputs": [],
   "source": [
    "log_reg = LogisticRegression(max_iter=1000)"
   ]
  },
  {
   "cell_type": "code",
   "execution_count": null,
   "id": "c4683466",
   "metadata": {
    "colab": {
     "base_uri": "https://localhost:8080/",
     "height": 852
    },
    "id": "c4683466",
    "outputId": "abc6ec59-9650-4292-b404-9076607482a0"
   },
   "outputs": [],
   "source": [
    "fit_evaluate_model(log_reg,X_train_prep,y_train_prep)\n",
    "warnings.filterwarnings('ignore', category=DeprecationWarning) "
   ]
  },
  {
   "cell_type": "markdown",
   "id": "b56f934f",
   "metadata": {
    "id": "b56f934f"
   },
   "source": [
    "#### 1.2. Support Vector Machines"
   ]
  },
  {
   "cell_type": "code",
   "execution_count": null,
   "id": "501364c5",
   "metadata": {
    "id": "501364c5"
   },
   "outputs": [],
   "source": [
    "svc_model = SVC(probability=True)"
   ]
  },
  {
   "cell_type": "code",
   "execution_count": null,
   "id": "4fc20d69",
   "metadata": {
    "colab": {
     "base_uri": "https://localhost:8080/",
     "height": 852
    },
    "id": "4fc20d69",
    "outputId": "9849e0bf-2927-415f-f208-e2b54ff458c8"
   },
   "outputs": [],
   "source": [
    "fit_evaluate_model(svc_model,X_train_prep,y_train_prep)"
   ]
  },
  {
   "cell_type": "markdown",
   "id": "DFC_XDwiKC6-",
   "metadata": {
    "id": "DFC_XDwiKC6-"
   },
   "source": [
    "#### Hyperparameter tuning SVM"
   ]
  },
  {
   "cell_type": "code",
   "execution_count": null,
   "id": "8ec01a54",
   "metadata": {
    "id": "8ec01a54"
   },
   "outputs": [],
   "source": [
    "param_grid = {'C': [0.1,1, 10, 100,1000], 'gamma': [1,0.1,0.01,0.001,0.0001],'kernel': ['rbf', 'poly', 'sigmoid']}"
   ]
  },
  {
   "cell_type": "code",
   "execution_count": null,
   "id": "e5d388fe",
   "metadata": {
    "id": "e5d388fe"
   },
   "outputs": [],
   "source": [
    "rand_search = RandomizedSearchCV(svc_model,param_grid, refit=True,cv=5,scoring='accuracy',n_jobs=-1,return_train_score=True,verbose=2)"
   ]
  },
  {
   "cell_type": "code",
   "execution_count": null,
   "id": "75b705de",
   "metadata": {
    "colab": {
     "base_uri": "https://localhost:8080/"
    },
    "id": "75b705de",
    "outputId": "6061e8db-1fde-4fab-a75d-07f227689eef"
   },
   "outputs": [],
   "source": [
    "rand_search.fit(X_train_prep,y_train_prep)"
   ]
  },
  {
   "cell_type": "code",
   "execution_count": null,
   "id": "kRhs9xdHVLEo",
   "metadata": {
    "colab": {
     "base_uri": "https://localhost:8080/"
    },
    "id": "kRhs9xdHVLEo",
    "outputId": "5485ef27-5fad-40fe-b103-0f278c41a90e"
   },
   "outputs": [],
   "source": [
    "rand_search.best_estimator_"
   ]
  },
  {
   "cell_type": "code",
   "execution_count": null,
   "id": "Ll4qX82aVUg0",
   "metadata": {
    "colab": {
     "base_uri": "https://localhost:8080/"
    },
    "id": "Ll4qX82aVUg0",
    "outputId": "3254a382-a2ed-49ac-dd30-bf9224409052"
   },
   "outputs": [],
   "source": [
    "rand_search.best_params_"
   ]
  },
  {
   "cell_type": "markdown",
   "id": "bd228d2c",
   "metadata": {
    "id": "bd228d2c"
   },
   "source": [
    "#### 1.3. Decision Tree"
   ]
  },
  {
   "cell_type": "code",
   "execution_count": null,
   "id": "994b3fec",
   "metadata": {
    "id": "994b3fec"
   },
   "outputs": [],
   "source": [
    "dt_clf = DecisionTreeClassifier()"
   ]
  },
  {
   "cell_type": "code",
   "execution_count": null,
   "id": "24c836aa",
   "metadata": {
    "colab": {
     "base_uri": "https://localhost:8080/",
     "height": 852
    },
    "id": "24c836aa",
    "outputId": "133311b4-c8f6-4685-a45c-3d1cd70f3512"
   },
   "outputs": [],
   "source": [
    "fit_evaluate_model(dt_clf,X_train_prep,y_train_prep)"
   ]
  },
  {
   "cell_type": "markdown",
   "id": "d1bf7741",
   "metadata": {
    "id": "d1bf7741"
   },
   "source": [
    "#### * K-fold cross-validation "
   ]
  },
  {
   "cell_type": "code",
   "execution_count": null,
   "id": "c7b1a71c",
   "metadata": {
    "id": "c7b1a71c",
    "outputId": "f9eda65e-1cb3-4c32-9953-623624921482"
   },
   "outputs": [],
   "source": [
    "fit_evaluate_model(dt_clf,X_train_prep,y_train_prep,has_overfitted=True)"
   ]
  },
  {
   "cell_type": "markdown",
   "id": "bb580e40",
   "metadata": {
    "id": "bb580e40"
   },
   "source": [
    "#### * Hyperparameters tuning"
   ]
  },
  {
   "cell_type": "code",
   "execution_count": null,
   "id": "9b9902f4",
   "metadata": {
    "id": "9b9902f4"
   },
   "outputs": [],
   "source": [
    "param_grid = [\n",
    "    {\n",
    "    'max_depth':[2,3,4,6,8,10,12,15,20], \n",
    "    'min_samples_leaf':[1,2,4,6,8,10,20,30],\n",
    "    'min_samples_split':[1,2,3,4,5,6,8,10]\n",
    "    }\n",
    "]"
   ]
  },
  {
   "cell_type": "code",
   "execution_count": null,
   "id": "3f8ed6ae",
   "metadata": {
    "id": "3f8ed6ae"
   },
   "outputs": [],
   "source": [
    "grid_search = GridSearchCV(dt_clf,param_grid,cv=10,scoring='accuracy',n_jobs=-1,return_train_score=True)"
   ]
  },
  {
   "cell_type": "markdown",
   "id": "392a66c6",
   "metadata": {
    "id": "392a66c6"
   },
   "source": [
    "#### * Cost-complexity pruning"
   ]
  },
  {
   "cell_type": "code",
   "execution_count": null,
   "id": "d9f561db",
   "metadata": {
    "id": "d9f561db",
    "outputId": "776e821e-10dc-4a3e-d76f-44fa5ee8ae7d"
   },
   "outputs": [],
   "source": [
    "path = dt_clf.cost_complexity_pruning_path(X_train_prep, y_train_prep)\n",
    "ccp_alphas = path.ccp_alphas\n",
    "ccp_alphas"
   ]
  },
  {
   "cell_type": "code",
   "execution_count": null,
   "id": "a2215bb7",
   "metadata": {
    "id": "a2215bb7"
   },
   "outputs": [],
   "source": [
    "acc_train = []\n",
    "acc_test = []\n",
    "\n",
    "for val in ccp_alphas:\n",
    "  dt_clf = DecisionTreeClassifier(ccp_alpha=val, random_state=42)\n",
    "  dt_clf.fit(X_train_prep, y_train_prep)\n",
    "  y_train_pred = dt_clf.predict(X_train_prep) # Predictions\n",
    "  y_true = y_test # True values\n",
    "  acc_train.append(accuracy_score(y_train, dtclf.predict(X_train)))\n",
    "  acc_test.append(accuracy_score(y_true, y_pred))"
   ]
  },
  {
   "cell_type": "markdown",
   "id": "afa27246",
   "metadata": {
    "id": "afa27246"
   },
   "source": [
    "#### 1.4. Random Forests"
   ]
  },
  {
   "cell_type": "code",
   "execution_count": null,
   "id": "ddc0a6af",
   "metadata": {
    "id": "ddc0a6af"
   },
   "outputs": [],
   "source": [
    "rf_clf = RandomForestClassifier()"
   ]
  },
  {
   "cell_type": "code",
   "execution_count": null,
   "id": "45590e84",
   "metadata": {
    "colab": {
     "base_uri": "https://localhost:8080/",
     "height": 852
    },
    "id": "45590e84",
    "outputId": "40fd1d61-1451-4139-db08-3a9595a9ca73"
   },
   "outputs": [],
   "source": [
    "fit_evaluate_model(rf_clf,X_train_prep,y_train_prep)"
   ]
  },
  {
   "cell_type": "markdown",
   "id": "f3dd9af0",
   "metadata": {
    "id": "f3dd9af0"
   },
   "source": [
    "#### * K-fold cross validation"
   ]
  },
  {
   "cell_type": "code",
   "execution_count": null,
   "id": "2ef7f835",
   "metadata": {
    "id": "2ef7f835",
    "outputId": "93af9823-2b23-45c5-e9bb-3238588eedd9"
   },
   "outputs": [],
   "source": [
    "fit_evaluate_model(rf_clf,X_train_prep,y_train_prep,has_overfitted=True)"
   ]
  },
  {
   "cell_type": "markdown",
   "id": "2b4750da",
   "metadata": {
    "id": "2b4750da"
   },
   "source": [
    "#### 1.5. Gaussian Naive Bayes"
   ]
  },
  {
   "cell_type": "code",
   "execution_count": null,
   "id": "6519090d",
   "metadata": {
    "id": "6519090d"
   },
   "outputs": [],
   "source": [
    "GaussianNB_clf = GaussianNB()"
   ]
  },
  {
   "cell_type": "code",
   "execution_count": null,
   "id": "23cc5174",
   "metadata": {
    "colab": {
     "base_uri": "https://localhost:8080/",
     "height": 852
    },
    "id": "23cc5174",
    "outputId": "00137bf5-60b9-40aa-ae72-ffaf4d63c81e"
   },
   "outputs": [],
   "source": [
    "fit_evaluate_model(GaussianNB_clf,X_train_prep,y_train_prep)"
   ]
  },
  {
   "cell_type": "markdown",
   "id": "0d3e8cac",
   "metadata": {
    "id": "0d3e8cac"
   },
   "source": [
    "#### * K-fold cross-validation "
   ]
  },
  {
   "cell_type": "code",
   "execution_count": null,
   "id": "69673c32",
   "metadata": {
    "id": "69673c32",
    "outputId": "5619103b-846e-4be5-fadc-9546b6e056e8"
   },
   "outputs": [],
   "source": [
    "fit_evaluate_model(GaussianNB_clf,X_train_prep,y_train_prep,cross_val=True)"
   ]
  },
  {
   "cell_type": "markdown",
   "id": "f8f3ae43",
   "metadata": {
    "id": "f8f3ae43"
   },
   "source": [
    "#### 1.6. KNN"
   ]
  },
  {
   "cell_type": "code",
   "execution_count": null,
   "id": "39699f69",
   "metadata": {
    "id": "39699f69"
   },
   "outputs": [],
   "source": [
    "knn_clf = KNeighborsClassifier()"
   ]
  },
  {
   "cell_type": "code",
   "execution_count": null,
   "id": "c706fe27",
   "metadata": {
    "colab": {
     "base_uri": "https://localhost:8080/",
     "height": 852
    },
    "id": "c706fe27",
    "outputId": "bb293009-63f5-4b2d-adda-57a292566ecf"
   },
   "outputs": [],
   "source": [
    "fit_evaluate_model(knn_clf,X_train_prep,y_train_prep)"
   ]
  },
  {
   "cell_type": "markdown",
   "id": "7e9e0265",
   "metadata": {
    "id": "7e9e0265"
   },
   "source": [
    "#### * K-fold cross-validation "
   ]
  },
  {
   "cell_type": "code",
   "execution_count": null,
   "id": "c4376b99",
   "metadata": {
    "id": "c4376b99",
    "outputId": "6fb37640-4552-4e1f-86d9-66123b14051a"
   },
   "outputs": [],
   "source": [
    "fit_evaluate_model(knn_clf,X_train_prep,y_train_prep,cross_val=True)"
   ]
  },
  {
   "cell_type": "markdown",
   "id": "bf36a844",
   "metadata": {
    "id": "bf36a844"
   },
   "source": [
    "#### 1.7. Gradient Boosting"
   ]
  },
  {
   "cell_type": "code",
   "execution_count": null,
   "id": "e0ff20fe",
   "metadata": {
    "id": "e0ff20fe"
   },
   "outputs": [],
   "source": [
    "gboost_clf = GradientBoostingClassifier()"
   ]
  },
  {
   "cell_type": "code",
   "execution_count": null,
   "id": "c812a9c5",
   "metadata": {
    "colab": {
     "base_uri": "https://localhost:8080/",
     "height": 852
    },
    "id": "c812a9c5",
    "outputId": "9936fb32-9fc0-47d4-dc69-1bf288b80afe"
   },
   "outputs": [],
   "source": [
    "fit_evaluate_model(gboost_clf,X_train_prep,y_train_prep)"
   ]
  },
  {
   "cell_type": "markdown",
   "id": "e1323b10",
   "metadata": {
    "id": "e1323b10"
   },
   "source": [
    "#### * K-fold cross validation"
   ]
  },
  {
   "cell_type": "code",
   "execution_count": null,
   "id": "81200b17",
   "metadata": {
    "id": "81200b17",
    "outputId": "bf3b7ab3-dd73-46ca-fc25-795ca2732d89"
   },
   "outputs": [],
   "source": [
    "fit_evaluate_model(gboost_clf,X_train_prep,y_train_prep,has_overfitted=True)"
   ]
  },
  {
   "cell_type": "markdown",
   "id": "e8cdac8a",
   "metadata": {
    "id": "e8cdac8a"
   },
   "source": [
    "#### 1.8. Linear Discriminant Analysis"
   ]
  },
  {
   "cell_type": "code",
   "execution_count": null,
   "id": "f0cc01ed",
   "metadata": {
    "id": "f0cc01ed"
   },
   "outputs": [],
   "source": [
    "lda_clf = LinearDiscriminantAnalysis()"
   ]
  },
  {
   "cell_type": "code",
   "execution_count": null,
   "id": "e81f9f51",
   "metadata": {
    "colab": {
     "base_uri": "https://localhost:8080/",
     "height": 852
    },
    "id": "e81f9f51",
    "outputId": "a239073c-ebc4-459b-fc9d-b256ea7c6be6"
   },
   "outputs": [],
   "source": [
    "fit_evaluate_model(lda_clf,X_train_prep,y_train_prep)"
   ]
  },
  {
   "cell_type": "markdown",
   "id": "266e10fe",
   "metadata": {
    "id": "266e10fe"
   },
   "source": [
    "#### * K-fold cross-validation "
   ]
  },
  {
   "cell_type": "code",
   "execution_count": null,
   "id": "58a2477a",
   "metadata": {
    "id": "58a2477a",
    "outputId": "36ed6dfd-bb98-47ee-c0df-79e7272bde23"
   },
   "outputs": [],
   "source": [
    "fit_evaluate_model(lda_clf,X_train_prep,y_train_prep,cross_val=True)"
   ]
  },
  {
   "cell_type": "markdown",
   "id": "4cf706ff",
   "metadata": {
    "id": "4cf706ff"
   },
   "source": [
    "#### 1.9. Bagging"
   ]
  },
  {
   "cell_type": "code",
   "execution_count": null,
   "id": "a0a37c10",
   "metadata": {
    "id": "a0a37c10"
   },
   "outputs": [],
   "source": [
    "bgg_clf = BaggingClassifier()"
   ]
  },
  {
   "cell_type": "code",
   "execution_count": null,
   "id": "75922978",
   "metadata": {
    "colab": {
     "base_uri": "https://localhost:8080/",
     "height": 852
    },
    "id": "75922978",
    "outputId": "f0b9ca63-5d38-4368-af53-cef430a49f5a"
   },
   "outputs": [],
   "source": [
    "fit_evaluate_model(bgg_clf,X_train_prep,y_train_prep)"
   ]
  },
  {
   "cell_type": "markdown",
   "id": "66c5e7b5",
   "metadata": {
    "id": "66c5e7b5"
   },
   "source": [
    "#### * K-fold cross validation"
   ]
  },
  {
   "cell_type": "code",
   "execution_count": null,
   "id": "1232d5ed",
   "metadata": {
    "id": "1232d5ed",
    "outputId": "f7324942-c736-45c0-e4e5-481c28a2fa82"
   },
   "outputs": [],
   "source": [
    "fit_evaluate_model(bgg_clf,X_train_prep,y_train_prep,has_overfitted=True)"
   ]
  },
  {
   "cell_type": "markdown",
   "id": "6a42126b",
   "metadata": {
    "id": "6a42126b"
   },
   "source": [
    "#### 1.10. Stochastic Gradient Descent Classifier (SGDC)"
   ]
  },
  {
   "cell_type": "code",
   "execution_count": null,
   "id": "e510b582",
   "metadata": {
    "id": "e510b582"
   },
   "outputs": [],
   "source": [
    "sgdc_clf = SGDClassifier(loss='log')"
   ]
  },
  {
   "cell_type": "code",
   "execution_count": null,
   "id": "2c5d4f09",
   "metadata": {
    "colab": {
     "base_uri": "https://localhost:8080/",
     "height": 852
    },
    "id": "2c5d4f09",
    "outputId": "86f9c076-caae-4de7-ec48-bc813890cb91"
   },
   "outputs": [],
   "source": [
    "fit_evaluate_model(sgdc_clf,X_train_prep,y_train_prep)"
   ]
  },
  {
   "cell_type": "markdown",
   "id": "c6dd1f85",
   "metadata": {
    "id": "c6dd1f85"
   },
   "source": [
    "#### * K-fold cross-validation "
   ]
  },
  {
   "cell_type": "code",
   "execution_count": null,
   "id": "54b9ff64",
   "metadata": {
    "id": "54b9ff64",
    "outputId": "df3c09db-7b3a-42b2-d6db-72d34be76b60"
   },
   "outputs": [],
   "source": [
    "fit_evaluate_model(sgdc_clf,X_train_prep,y_train_prep,cross_val=True)"
   ]
  },
  {
   "cell_type": "markdown",
   "id": "c1a9d426",
   "metadata": {
    "id": "c1a9d426"
   },
   "source": [
    "#### 1.11. Neural network (MLPClassifier)"
   ]
  },
  {
   "cell_type": "code",
   "execution_count": null,
   "id": "387c3df2",
   "metadata": {
    "id": "387c3df2"
   },
   "outputs": [],
   "source": [
    "mlp_clf = MLPClassifier()"
   ]
  },
  {
   "cell_type": "code",
   "execution_count": null,
   "id": "99e69525",
   "metadata": {
    "colab": {
     "base_uri": "https://localhost:8080/",
     "height": 855
    },
    "id": "99e69525",
    "outputId": "153b0872-1e04-4af6-cd97-eac22a7fd2f8"
   },
   "outputs": [],
   "source": [
    "fit_evaluate_model(mlp_clf,X_train_prep,y_train_prep)"
   ]
  },
  {
   "cell_type": "markdown",
   "id": "08c9a89b",
   "metadata": {
    "id": "08c9a89b"
   },
   "source": [
    "#### * K-fold cross validation"
   ]
  },
  {
   "cell_type": "code",
   "execution_count": null,
   "id": "467d97f5",
   "metadata": {
    "id": "467d97f5",
    "outputId": "6137dac8-e574-48c2-807a-5c7cf6f91115"
   },
   "outputs": [],
   "source": [
    "fit_evaluate_model(mlp_clf,X_train_prep,y_train_prep,has_overfitted=True)"
   ]
  },
  {
   "cell_type": "code",
   "execution_count": null,
   "id": "f180d6fd",
   "metadata": {
    "id": "f180d6fd"
   },
   "outputs": [],
   "source": []
  }
 ],
 "metadata": {
  "colab": {
   "collapsed_sections": [
    "ef617426",
    "71feece0",
    "eb6ac952",
    "82b8daa8",
    "43cf4692",
    "e4ef4b64",
    "383a486c",
    "d24b8b90",
    "22b2affe",
    "c9786e58",
    "dae7bc71",
    "62891180",
    "b4837d9f",
    "032271c2",
    "ac1b59bf",
    "750c1952",
    "5d71d8db",
    "bb1b82aa",
    "92fa8814",
    "637435e4",
    "a117639a",
    "4a84ab5f",
    "c96fdc01",
    "dd46cce2",
    "d9f9562a",
    "a53e3e40",
    "b2f11d79",
    "adc52e6f",
    "542165dc",
    "1820631d",
    "fa853213",
    "4802cb32",
    "1bdc73b4",
    "59d18a0f",
    "719010d1",
    "9bfabb3c",
    "f8688612",
    "a341a4d9",
    "bf224df0",
    "e3ef0138",
    "d1bf7741",
    "bb580e40",
    "392a66c6",
    "f3dd9af0",
    "0d3e8cac",
    "f8f3ae43",
    "7e9e0265",
    "bf36a844",
    "e1323b10",
    "e8cdac8a",
    "266e10fe",
    "4cf706ff",
    "66c5e7b5",
    "6a42126b",
    "c6dd1f85",
    "c1a9d426",
    "08c9a89b"
   ],
   "name": "Credit card approval prediction.ipynb",
   "provenance": []
  },
  "kernelspec": {
   "display_name": "Python 3 (ipykernel)",
   "language": "python",
   "name": "python3"
  },
  "language_info": {
   "codemirror_mode": {
    "name": "ipython",
    "version": 3
   },
   "file_extension": ".py",
   "mimetype": "text/x-python",
   "name": "python",
   "nbconvert_exporter": "python",
   "pygments_lexer": "ipython3",
   "version": "3.10.2"
  }
 },
 "nbformat": 4,
 "nbformat_minor": 5
}
