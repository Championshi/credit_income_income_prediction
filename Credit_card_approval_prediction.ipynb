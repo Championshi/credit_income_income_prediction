{
 "cells": [
  {
   "cell_type": "markdown",
   "id": "f4ac461a",
   "metadata": {},
   "source": [
    "# 0. import the necessary packages"
   ]
  },
  {
   "cell_type": "code",
   "execution_count": 2,
   "id": "46deb3b2",
   "metadata": {
    "hidden": true,
    "id": "46deb3b2"
   },
   "outputs": [],
   "source": [
    "import numpy as np\n",
    "import pandas as pd\n",
    "import missingno as msno\n",
    "import matplotlib.pyplot as plt\n",
    "import seaborn as sns\n",
    "import datetime\n",
    "import warnings\n",
    "from pandas.core.common import SettingWithCopyWarning\n",
    "from pandas_profiling import ProfileReport\n",
    "from pathlib import Path\n",
    "from scipy.stats import probplot, chi2_contingency, chi2\n",
    "from sklearn.model_selection import train_test_split, GridSearchCV, RandomizedSearchCV, cross_val_score, cross_val_predict\n",
    "from sklearn.base import BaseEstimator, TransformerMixin\n",
    "from sklearn.pipeline import Pipeline\n",
    "from sklearn.compose import ColumnTransformer\n",
    "from sklearn.preprocessing import OneHotEncoder, MinMaxScaler, OrdinalEncoder\n",
    "from sklearn.inspection import permutation_importance\n",
    "from sklearn.metrics import ConfusionMatrixDisplay, classification_report, roc_curve, roc_auc_score\n",
    "from sklearn.linear_model import SGDClassifier, LogisticRegression\n",
    "from sklearn.svm import SVC\n",
    "from sklearn.tree import DecisionTreeClassifier\n",
    "from sklearn.ensemble import RandomForestClassifier, GradientBoostingClassifier, BaggingClassifier, AdaBoostClassifier, VotingClassifier, ExtraTreesClassifier, StackingClassifier\n",
    "from sklearn.naive_bayes import GaussianNB\n",
    "from sklearn.neighbors import KNeighborsClassifier\n",
    "from sklearn.discriminant_analysis import LinearDiscriminantAnalysis\n",
    "from sklearn.neural_network import MLPClassifier\n",
    "from sklearn.gaussian_process import GaussianProcessClassifier\n",
    "from imblearn.over_sampling import SMOTE\n",
    "import joblib\n",
    "%matplotlib inline"
   ]
  },
  {
   "cell_type": "markdown",
   "id": "1441097c",
   "metadata": {},
   "source": [
    "# 1. Get the data"
   ]
  },
  {
   "cell_type": "code",
   "execution_count": 3,
   "id": "08b89053",
   "metadata": {
    "colab": {
     "base_uri": "https://localhost:8080/"
    },
    "id": "08b89053",
    "outputId": "00881095-43c8-4dbb-c660-f031ef0c5873"
   },
   "outputs": [],
   "source": [
    "cc_data_full_data = pd.read_csv('dataset/application_record.csv')\n",
    "credit_status = pd.read_csv('dataset/credit_record.csv')"
   ]
  },
  {
   "cell_type": "code",
   "execution_count": 4,
   "id": "1efea0f1",
   "metadata": {
    "id": "1efea0f1"
   },
   "outputs": [],
   "source": [
    "# creating the target variable\n",
    "begin_month=pd.DataFrame(credit_status.groupby([\"ID\"])[\"MONTHS_BALANCE\"].agg(min))\n",
    "begin_month=begin_month.rename(columns={'MONTHS_BALANCE':'Account age'})\n",
    "cc_data_full_data=pd.merge(cc_data_full_data,begin_month,how=\"left\",on=\"ID\")\n",
    "credit_status['dep_value'] = None\n",
    "credit_status['dep_value'][credit_status['STATUS'] =='2']='Yes'\n",
    "credit_status['dep_value'][credit_status['STATUS'] =='3']='Yes'\n",
    "credit_status['dep_value'][credit_status['STATUS'] =='4']='Yes'\n",
    "credit_status['dep_value'][credit_status['STATUS'] =='5']='Yes'\n",
    "cpunt=credit_status.groupby('ID').count()\n",
    "cpunt['dep_value'][cpunt['dep_value'] > 0]='Yes'\n",
    "cpunt['dep_value'][cpunt['dep_value'] == 0]='No'\n",
    "cpunt = cpunt[['dep_value']]\n",
    "cc_data_full_data = pd.merge(cc_data_full_data,cpunt,how='inner',on='ID')\n",
    "cc_data_full_data['Is high risk']=cc_data_full_data['dep_value']\n",
    "cc_data_full_data.loc[cc_data_full_data['Is high risk']=='Yes','Is high risk']=1\n",
    "cc_data_full_data.loc[cc_data_full_data['Is high risk']=='No','Is high risk']=0\n",
    "cc_data_full_data.drop('dep_value',axis=1,inplace=True)\n",
    "warnings.simplefilter(action=\"always\", category=SettingWithCopyWarning)"
   ]
  },
  {
   "cell_type": "code",
   "execution_count": 5,
   "id": "09865ddc",
   "metadata": {},
   "outputs": [],
   "source": [
    "# change the account in months\n",
    "cc_data_full_data['Account age'] = np.abs(cc_data_full_data['Account age']).astype('int32')"
   ]
  },
  {
   "cell_type": "code",
   "execution_count": 6,
   "id": "f0f2df32",
   "metadata": {
    "id": "f0f2df32"
   },
   "outputs": [],
   "source": [
    "# rename the columns to a more readable format\n",
    "cc_data_full_data = cc_data_full_data.rename(columns={\n",
    "    'CODE_GENDER':'Gender',\n",
    "    'FLAG_OWN_CAR':'Has a car',\n",
    "    'FLAG_OWN_REALTY':'Has a property',\n",
    "    'CNT_CHILDREN':'Children count',\n",
    "    'AMT_INCOME_TOTAL':'Income',\n",
    "    'NAME_INCOME_TYPE':'Employment',\n",
    "    'NAME_EDUCATION_TYPE':'Education level',\n",
    "    'NAME_FAMILY_STATUS':'Marital status',\n",
    "    'NAME_HOUSING_TYPE':'dwelling',\n",
    "    'DAYS_BIRTH':'Age in days',\n",
    "    'DAYS_EMPLOYED': 'Employment lenght in days',\n",
    "    'FLAG_MOBIL': 'Has a mobile phone',\n",
    "    'FLAG_WORK_PHONE': 'Has a work phone',\n",
    "    'FLAG_PHONE': 'Has a phone',\n",
    "    'FLAG_EMAIL': 'Has an email',\n",
    "    'OCCUPATION_TYPE': 'Job title',\n",
    "    'CNT_FAM_MEMBERS': 'Family member count',\n",
    "    'Account age': 'Account age in months'\n",
    "})"
   ]
  },
  {
   "cell_type": "code",
   "execution_count": 7,
   "id": "d9ed66b5",
   "metadata": {
    "id": "d9ed66b5"
   },
   "outputs": [],
   "source": [
    "# split the data into train and test\n",
    "def data_split(df, test_size):\n",
    "    train_df, test_df = train_test_split(df, test_size=test_size, random_state=42)\n",
    "    return train_df.reset_index(drop=True), test_df.reset_index(drop=True)"
   ]
  },
  {
   "cell_type": "code",
   "execution_count": 8,
   "id": "2a3579a8",
   "metadata": {},
   "outputs": [],
   "source": [
    "cc_train_original, cc_test_original = data_split(cc_data_full_data, 0.2)"
   ]
  },
  {
   "cell_type": "code",
   "execution_count": 9,
   "id": "ceba7729",
   "metadata": {},
   "outputs": [
    {
     "data": {
      "text/plain": [
       "(29165, 20)"
      ]
     },
     "execution_count": 9,
     "metadata": {},
     "output_type": "execute_result"
    }
   ],
   "source": [
    "cc_train_original.shape"
   ]
  },
  {
   "cell_type": "code",
   "execution_count": 10,
   "id": "b94df2f9",
   "metadata": {},
   "outputs": [
    {
     "data": {
      "text/plain": [
       "(7292, 20)"
      ]
     },
     "execution_count": 10,
     "metadata": {},
     "output_type": "execute_result"
    }
   ],
   "source": [
    "cc_test_original.shape"
   ]
  },
  {
   "cell_type": "markdown",
   "id": "715b8321",
   "metadata": {
    "id": "715b8321"
   },
   "source": [
    "# Explore the Data"
   ]
  },
  {
   "cell_type": "code",
   "execution_count": 11,
   "id": "6a02a730",
   "metadata": {},
   "outputs": [],
   "source": [
    "# creating a copy of the dataset so that the original stays untouched\n",
    "cc_train_copy = cc_train_original.copy()\n",
    "cc_test_copy = cc_test_original.copy()"
   ]
  },
  {
   "cell_type": "code",
   "execution_count": 12,
   "id": "0NDJvJIk4DnC",
   "metadata": {
    "id": "0NDJvJIk4DnC"
   },
   "outputs": [
    {
     "data": {
      "text/html": [
       "<div>\n",
       "<style scoped>\n",
       "    .dataframe tbody tr th:only-of-type {\n",
       "        vertical-align: middle;\n",
       "    }\n",
       "\n",
       "    .dataframe tbody tr th {\n",
       "        vertical-align: top;\n",
       "    }\n",
       "\n",
       "    .dataframe thead th {\n",
       "        text-align: right;\n",
       "    }\n",
       "</style>\n",
       "<table border=\"1\" class=\"dataframe\">\n",
       "  <thead>\n",
       "    <tr style=\"text-align: right;\">\n",
       "      <th></th>\n",
       "      <th>ID</th>\n",
       "      <th>Gender</th>\n",
       "      <th>Has a car</th>\n",
       "      <th>Has a property</th>\n",
       "      <th>Children count</th>\n",
       "      <th>Income</th>\n",
       "      <th>Employment</th>\n",
       "      <th>Education level</th>\n",
       "      <th>Marital status</th>\n",
       "      <th>dwelling</th>\n",
       "      <th>Age in days</th>\n",
       "      <th>Employment lenght in days</th>\n",
       "      <th>Has a mobile phone</th>\n",
       "      <th>Has a work phone</th>\n",
       "      <th>Has a phone</th>\n",
       "      <th>Has an email</th>\n",
       "      <th>Job title</th>\n",
       "      <th>Family member count</th>\n",
       "      <th>Account age in months</th>\n",
       "      <th>Is high risk</th>\n",
       "    </tr>\n",
       "  </thead>\n",
       "  <tbody>\n",
       "    <tr>\n",
       "      <th>0</th>\n",
       "      <td>5037048</td>\n",
       "      <td>M</td>\n",
       "      <td>Y</td>\n",
       "      <td>Y</td>\n",
       "      <td>0</td>\n",
       "      <td>135000.0</td>\n",
       "      <td>Working</td>\n",
       "      <td>Secondary / secondary special</td>\n",
       "      <td>Married</td>\n",
       "      <td>With parents</td>\n",
       "      <td>-16271</td>\n",
       "      <td>-3111</td>\n",
       "      <td>1</td>\n",
       "      <td>0</td>\n",
       "      <td>0</td>\n",
       "      <td>0</td>\n",
       "      <td>Core staff</td>\n",
       "      <td>2.0</td>\n",
       "      <td>17</td>\n",
       "      <td>0</td>\n",
       "    </tr>\n",
       "    <tr>\n",
       "      <th>1</th>\n",
       "      <td>5044630</td>\n",
       "      <td>F</td>\n",
       "      <td>Y</td>\n",
       "      <td>N</td>\n",
       "      <td>1</td>\n",
       "      <td>135000.0</td>\n",
       "      <td>Commercial associate</td>\n",
       "      <td>Higher education</td>\n",
       "      <td>Single / not married</td>\n",
       "      <td>House / apartment</td>\n",
       "      <td>-10130</td>\n",
       "      <td>-1651</td>\n",
       "      <td>1</td>\n",
       "      <td>0</td>\n",
       "      <td>0</td>\n",
       "      <td>0</td>\n",
       "      <td>Accountants</td>\n",
       "      <td>2.0</td>\n",
       "      <td>1</td>\n",
       "      <td>0</td>\n",
       "    </tr>\n",
       "    <tr>\n",
       "      <th>2</th>\n",
       "      <td>5079079</td>\n",
       "      <td>F</td>\n",
       "      <td>N</td>\n",
       "      <td>Y</td>\n",
       "      <td>2</td>\n",
       "      <td>180000.0</td>\n",
       "      <td>Commercial associate</td>\n",
       "      <td>Secondary / secondary special</td>\n",
       "      <td>Married</td>\n",
       "      <td>House / apartment</td>\n",
       "      <td>-12821</td>\n",
       "      <td>-5657</td>\n",
       "      <td>1</td>\n",
       "      <td>0</td>\n",
       "      <td>0</td>\n",
       "      <td>0</td>\n",
       "      <td>Laborers</td>\n",
       "      <td>4.0</td>\n",
       "      <td>38</td>\n",
       "      <td>0</td>\n",
       "    </tr>\n",
       "    <tr>\n",
       "      <th>3</th>\n",
       "      <td>5112872</td>\n",
       "      <td>F</td>\n",
       "      <td>Y</td>\n",
       "      <td>Y</td>\n",
       "      <td>0</td>\n",
       "      <td>360000.0</td>\n",
       "      <td>Commercial associate</td>\n",
       "      <td>Higher education</td>\n",
       "      <td>Single / not married</td>\n",
       "      <td>House / apartment</td>\n",
       "      <td>-20929</td>\n",
       "      <td>-2046</td>\n",
       "      <td>1</td>\n",
       "      <td>0</td>\n",
       "      <td>0</td>\n",
       "      <td>1</td>\n",
       "      <td>Managers</td>\n",
       "      <td>1.0</td>\n",
       "      <td>11</td>\n",
       "      <td>0</td>\n",
       "    </tr>\n",
       "    <tr>\n",
       "      <th>4</th>\n",
       "      <td>5105858</td>\n",
       "      <td>F</td>\n",
       "      <td>N</td>\n",
       "      <td>N</td>\n",
       "      <td>0</td>\n",
       "      <td>270000.0</td>\n",
       "      <td>Working</td>\n",
       "      <td>Secondary / secondary special</td>\n",
       "      <td>Separated</td>\n",
       "      <td>House / apartment</td>\n",
       "      <td>-16207</td>\n",
       "      <td>-515</td>\n",
       "      <td>1</td>\n",
       "      <td>0</td>\n",
       "      <td>1</td>\n",
       "      <td>0</td>\n",
       "      <td>NaN</td>\n",
       "      <td>1.0</td>\n",
       "      <td>41</td>\n",
       "      <td>0</td>\n",
       "    </tr>\n",
       "  </tbody>\n",
       "</table>\n",
       "</div>"
      ],
      "text/plain": [
       "        ID Gender Has a car Has a property  Children count    Income  \\\n",
       "0  5037048      M         Y              Y               0  135000.0   \n",
       "1  5044630      F         Y              N               1  135000.0   \n",
       "2  5079079      F         N              Y               2  180000.0   \n",
       "3  5112872      F         Y              Y               0  360000.0   \n",
       "4  5105858      F         N              N               0  270000.0   \n",
       "\n",
       "             Employment                Education level        Marital status  \\\n",
       "0               Working  Secondary / secondary special               Married   \n",
       "1  Commercial associate               Higher education  Single / not married   \n",
       "2  Commercial associate  Secondary / secondary special               Married   \n",
       "3  Commercial associate               Higher education  Single / not married   \n",
       "4               Working  Secondary / secondary special             Separated   \n",
       "\n",
       "            dwelling  Age in days  Employment lenght in days  \\\n",
       "0       With parents       -16271                      -3111   \n",
       "1  House / apartment       -10130                      -1651   \n",
       "2  House / apartment       -12821                      -5657   \n",
       "3  House / apartment       -20929                      -2046   \n",
       "4  House / apartment       -16207                       -515   \n",
       "\n",
       "   Has a mobile phone  Has a work phone  Has a phone  Has an email  \\\n",
       "0                   1                 0            0             0   \n",
       "1                   1                 0            0             0   \n",
       "2                   1                 0            0             0   \n",
       "3                   1                 0            0             1   \n",
       "4                   1                 0            1             0   \n",
       "\n",
       "     Job title  Family member count  Account age in months Is high risk  \n",
       "0   Core staff                  2.0                     17            0  \n",
       "1  Accountants                  2.0                      1            0  \n",
       "2     Laborers                  4.0                     38            0  \n",
       "3     Managers                  1.0                     11            0  \n",
       "4          NaN                  1.0                     41            0  "
      ]
     },
     "execution_count": 12,
     "metadata": {},
     "output_type": "execute_result"
    }
   ],
   "source": [
    "cc_train_copy.head()"
   ]
  },
  {
   "cell_type": "code",
   "execution_count": 13,
   "id": "Tsy-_XPMz4dm",
   "metadata": {
    "colab": {
     "base_uri": "https://localhost:8080/"
    },
    "id": "Tsy-_XPMz4dm",
    "outputId": "06a46cef-223d-42a5-f344-014512c5897c"
   },
   "outputs": [
    {
     "name": "stdout",
     "output_type": "stream",
     "text": [
      "<class 'pandas.core.frame.DataFrame'>\n",
      "RangeIndex: 29165 entries, 0 to 29164\n",
      "Data columns (total 20 columns):\n",
      " #   Column                     Non-Null Count  Dtype  \n",
      "---  ------                     --------------  -----  \n",
      " 0   ID                         29165 non-null  int64  \n",
      " 1   Gender                     29165 non-null  object \n",
      " 2   Has a car                  29165 non-null  object \n",
      " 3   Has a property             29165 non-null  object \n",
      " 4   Children count             29165 non-null  int64  \n",
      " 5   Income                     29165 non-null  float64\n",
      " 6   Employment                 29165 non-null  object \n",
      " 7   Education level            29165 non-null  object \n",
      " 8   Marital status             29165 non-null  object \n",
      " 9   dwelling                   29165 non-null  object \n",
      " 10  Age in days                29165 non-null  int64  \n",
      " 11  Employment lenght in days  29165 non-null  int64  \n",
      " 12  Has a mobile phone         29165 non-null  int64  \n",
      " 13  Has a work phone           29165 non-null  int64  \n",
      " 14  Has a phone                29165 non-null  int64  \n",
      " 15  Has an email               29165 non-null  int64  \n",
      " 16  Job title                  20138 non-null  object \n",
      " 17  Family member count        29165 non-null  float64\n",
      " 18  Account age in months      29165 non-null  int32  \n",
      " 19  Is high risk               29165 non-null  object \n",
      "dtypes: float64(2), int32(1), int64(8), object(9)\n",
      "memory usage: 4.3+ MB\n"
     ]
    }
   ],
   "source": [
    "cc_train_copy.info()"
   ]
  },
  {
   "cell_type": "code",
   "execution_count": 14,
   "id": "8baf6713",
   "metadata": {
    "id": "8baf6713"
   },
   "outputs": [
    {
     "data": {
      "text/html": [
       "<div>\n",
       "<style scoped>\n",
       "    .dataframe tbody tr th:only-of-type {\n",
       "        vertical-align: middle;\n",
       "    }\n",
       "\n",
       "    .dataframe tbody tr th {\n",
       "        vertical-align: top;\n",
       "    }\n",
       "\n",
       "    .dataframe thead th {\n",
       "        text-align: right;\n",
       "    }\n",
       "</style>\n",
       "<table border=\"1\" class=\"dataframe\">\n",
       "  <thead>\n",
       "    <tr style=\"text-align: right;\">\n",
       "      <th></th>\n",
       "      <th>ID</th>\n",
       "      <th>Children count</th>\n",
       "      <th>Income</th>\n",
       "      <th>Age in days</th>\n",
       "      <th>Employment lenght in days</th>\n",
       "      <th>Has a mobile phone</th>\n",
       "      <th>Has a work phone</th>\n",
       "      <th>Has a phone</th>\n",
       "      <th>Has an email</th>\n",
       "      <th>Family member count</th>\n",
       "      <th>Account age in months</th>\n",
       "    </tr>\n",
       "  </thead>\n",
       "  <tbody>\n",
       "    <tr>\n",
       "      <th>count</th>\n",
       "      <td>2.916500e+04</td>\n",
       "      <td>29165.000000</td>\n",
       "      <td>2.916500e+04</td>\n",
       "      <td>29165.000000</td>\n",
       "      <td>29165.000000</td>\n",
       "      <td>29165.0</td>\n",
       "      <td>29165.000000</td>\n",
       "      <td>29165.000000</td>\n",
       "      <td>29165.000000</td>\n",
       "      <td>29165.000000</td>\n",
       "      <td>29165.000000</td>\n",
       "    </tr>\n",
       "    <tr>\n",
       "      <th>mean</th>\n",
       "      <td>5.078232e+06</td>\n",
       "      <td>0.430790</td>\n",
       "      <td>1.868904e+05</td>\n",
       "      <td>-15979.477490</td>\n",
       "      <td>59257.761255</td>\n",
       "      <td>1.0</td>\n",
       "      <td>0.224310</td>\n",
       "      <td>0.294977</td>\n",
       "      <td>0.090279</td>\n",
       "      <td>2.197531</td>\n",
       "      <td>26.137734</td>\n",
       "    </tr>\n",
       "    <tr>\n",
       "      <th>std</th>\n",
       "      <td>4.182400e+04</td>\n",
       "      <td>0.741882</td>\n",
       "      <td>1.014096e+05</td>\n",
       "      <td>4202.997485</td>\n",
       "      <td>137655.883458</td>\n",
       "      <td>0.0</td>\n",
       "      <td>0.417134</td>\n",
       "      <td>0.456040</td>\n",
       "      <td>0.286587</td>\n",
       "      <td>0.912189</td>\n",
       "      <td>16.486702</td>\n",
       "    </tr>\n",
       "    <tr>\n",
       "      <th>min</th>\n",
       "      <td>5.008804e+06</td>\n",
       "      <td>0.000000</td>\n",
       "      <td>2.700000e+04</td>\n",
       "      <td>-25152.000000</td>\n",
       "      <td>-15713.000000</td>\n",
       "      <td>1.0</td>\n",
       "      <td>0.000000</td>\n",
       "      <td>0.000000</td>\n",
       "      <td>0.000000</td>\n",
       "      <td>1.000000</td>\n",
       "      <td>0.000000</td>\n",
       "    </tr>\n",
       "    <tr>\n",
       "      <th>25%</th>\n",
       "      <td>5.042047e+06</td>\n",
       "      <td>0.000000</td>\n",
       "      <td>1.215000e+05</td>\n",
       "      <td>-19444.000000</td>\n",
       "      <td>-3153.000000</td>\n",
       "      <td>1.0</td>\n",
       "      <td>0.000000</td>\n",
       "      <td>0.000000</td>\n",
       "      <td>0.000000</td>\n",
       "      <td>2.000000</td>\n",
       "      <td>12.000000</td>\n",
       "    </tr>\n",
       "    <tr>\n",
       "      <th>50%</th>\n",
       "      <td>5.074666e+06</td>\n",
       "      <td>0.000000</td>\n",
       "      <td>1.575000e+05</td>\n",
       "      <td>-15565.000000</td>\n",
       "      <td>-1557.000000</td>\n",
       "      <td>1.0</td>\n",
       "      <td>0.000000</td>\n",
       "      <td>0.000000</td>\n",
       "      <td>0.000000</td>\n",
       "      <td>2.000000</td>\n",
       "      <td>24.000000</td>\n",
       "    </tr>\n",
       "    <tr>\n",
       "      <th>75%</th>\n",
       "      <td>5.114629e+06</td>\n",
       "      <td>1.000000</td>\n",
       "      <td>2.250000e+05</td>\n",
       "      <td>-12475.000000</td>\n",
       "      <td>-412.000000</td>\n",
       "      <td>1.0</td>\n",
       "      <td>0.000000</td>\n",
       "      <td>1.000000</td>\n",
       "      <td>0.000000</td>\n",
       "      <td>3.000000</td>\n",
       "      <td>39.000000</td>\n",
       "    </tr>\n",
       "    <tr>\n",
       "      <th>max</th>\n",
       "      <td>5.150485e+06</td>\n",
       "      <td>19.000000</td>\n",
       "      <td>1.575000e+06</td>\n",
       "      <td>-7705.000000</td>\n",
       "      <td>365243.000000</td>\n",
       "      <td>1.0</td>\n",
       "      <td>1.000000</td>\n",
       "      <td>1.000000</td>\n",
       "      <td>1.000000</td>\n",
       "      <td>20.000000</td>\n",
       "      <td>60.000000</td>\n",
       "    </tr>\n",
       "  </tbody>\n",
       "</table>\n",
       "</div>"
      ],
      "text/plain": [
       "                 ID  Children count        Income   Age in days  \\\n",
       "count  2.916500e+04    29165.000000  2.916500e+04  29165.000000   \n",
       "mean   5.078232e+06        0.430790  1.868904e+05 -15979.477490   \n",
       "std    4.182400e+04        0.741882  1.014096e+05   4202.997485   \n",
       "min    5.008804e+06        0.000000  2.700000e+04 -25152.000000   \n",
       "25%    5.042047e+06        0.000000  1.215000e+05 -19444.000000   \n",
       "50%    5.074666e+06        0.000000  1.575000e+05 -15565.000000   \n",
       "75%    5.114629e+06        1.000000  2.250000e+05 -12475.000000   \n",
       "max    5.150485e+06       19.000000  1.575000e+06  -7705.000000   \n",
       "\n",
       "       Employment lenght in days  Has a mobile phone  Has a work phone  \\\n",
       "count               29165.000000             29165.0      29165.000000   \n",
       "mean                59257.761255                 1.0          0.224310   \n",
       "std                137655.883458                 0.0          0.417134   \n",
       "min                -15713.000000                 1.0          0.000000   \n",
       "25%                 -3153.000000                 1.0          0.000000   \n",
       "50%                 -1557.000000                 1.0          0.000000   \n",
       "75%                  -412.000000                 1.0          0.000000   \n",
       "max                365243.000000                 1.0          1.000000   \n",
       "\n",
       "        Has a phone  Has an email  Family member count  Account age in months  \n",
       "count  29165.000000  29165.000000         29165.000000           29165.000000  \n",
       "mean       0.294977      0.090279             2.197531              26.137734  \n",
       "std        0.456040      0.286587             0.912189              16.486702  \n",
       "min        0.000000      0.000000             1.000000               0.000000  \n",
       "25%        0.000000      0.000000             2.000000              12.000000  \n",
       "50%        0.000000      0.000000             2.000000              24.000000  \n",
       "75%        1.000000      0.000000             3.000000              39.000000  \n",
       "max        1.000000      1.000000            20.000000              60.000000  "
      ]
     },
     "execution_count": 14,
     "metadata": {},
     "output_type": "execute_result"
    }
   ],
   "source": [
    "cc_train_copy.describe()"
   ]
  },
  {
   "cell_type": "code",
   "execution_count": 15,
   "id": "b4a38813",
   "metadata": {},
   "outputs": [
    {
     "data": {
      "image/png": "[encoded data removed]",
      "text/plain": [
       "<Figure size 1800x720 with 2 Axes>"
      ]
     },
     "metadata": {
      "needs_background": "light"
     },
     "output_type": "display_data"
    }
   ],
   "source": [
    "msno.matrix(cc_train_copy)\n",
    "plt.show()"
   ]
  },
  {
   "cell_type": "code",
   "execution_count": 16,
   "id": "7508e03a",
   "metadata": {},
   "outputs": [
    {
     "data": {
      "image/png": "[encoded data removed]",
      "text/plain": [
       "<Figure size 1728x720 with 3 Axes>"
      ]
     },
     "metadata": {
      "needs_background": "light"
     },
     "output_type": "display_data"
    }
   ],
   "source": [
    "msno.bar(cc_train_copy)\n",
    "plt.show()"
   ]
  },
  {
   "cell_type": "code",
   "execution_count": 17,
   "id": "X2DnChyC8DmH",
   "metadata": {
    "colab": {
     "base_uri": "https://localhost:8080/"
    },
    "id": "X2DnChyC8DmH",
    "outputId": "94024136-79d7-4d2b-b771-c0e52a51f734"
   },
   "outputs": [],
   "source": [
    "#Function that will return the value count and frequency of each observation within a column\n",
    "def value_cnt_norm_cal(df,feature):\n",
    "    ftr_value_cnt = df[feature].value_counts()\n",
    "    ftr_value_cnt_norm = df[feature].value_counts(normalize=True) * 100\n",
    "    ftr_value_cnt_concat = pd.concat([ftr_value_cnt, ftr_value_cnt_norm], axis=1)\n",
    "    ftr_value_cnt_concat.columns = ['Count', 'Frequency (%)']\n",
    "    return ftr_value_cnt_concat"
   ]
  },
  {
   "cell_type": "code",
   "execution_count": 18,
   "id": "0bed72ae",
   "metadata": {},
   "outputs": [
    {
     "data": {
      "text/plain": [
       "9027"
      ]
     },
     "execution_count": 18,
     "metadata": {},
     "output_type": "execute_result"
    }
   ],
   "source": [
    "cc_train_copy['Job title'].isna().sum()"
   ]
  },
  {
   "cell_type": "markdown",
   "id": "a192aab1",
   "metadata": {
    "id": "a192aab1"
   },
   "source": [
    "## 1. Gender"
   ]
  },
  {
   "cell_type": "code",
   "execution_count": 19,
   "id": "579a96d1",
   "metadata": {
    "colab": {
     "base_uri": "https://localhost:8080/"
    },
    "id": "579a96d1",
    "outputId": "e6c0e80f-38f9-4309-b435-9b821a159000"
   },
   "outputs": [
    {
     "data": {
      "text/plain": [
       "count     29165\n",
       "unique        2\n",
       "top           F\n",
       "freq      19549\n",
       "Name: Gender, dtype: object"
      ]
     },
     "execution_count": 19,
     "metadata": {},
     "output_type": "execute_result"
    }
   ],
   "source": [
    "cc_train_copy['Gender'].describe()"
   ]
  },
  {
   "cell_type": "code",
   "execution_count": 20,
   "id": "e7e5a3d7",
   "metadata": {},
   "outputs": [
    {
     "data": {
      "text/plain": [
       "dtype('O')"
      ]
     },
     "execution_count": 20,
     "metadata": {},
     "output_type": "execute_result"
    }
   ],
   "source": [
    "cc_train_copy['Gender'].dtype"
   ]
  },
  {
   "cell_type": "code",
   "execution_count": 21,
   "id": "ef287551",
   "metadata": {
    "colab": {
     "base_uri": "https://localhost:8080/"
    },
    "id": "ef287551",
    "outputId": "b2d8563e-d310-4813-9f40-2ab4077b88f0"
   },
   "outputs": [],
   "source": [
    "male_female_ratio_size = value_cnt_norm_cal(cc_test_copy, 'Gender')"
   ]
  },
  {
   "cell_type": "code",
   "execution_count": 22,
   "id": "5bd50fdf",
   "metadata": {},
   "outputs": [
    {
     "data": {
      "text/html": [
       "<div>\n",
       "<style scoped>\n",
       "    .dataframe tbody tr th:only-of-type {\n",
       "        vertical-align: middle;\n",
       "    }\n",
       "\n",
       "    .dataframe tbody tr th {\n",
       "        vertical-align: top;\n",
       "    }\n",
       "\n",
       "    .dataframe thead th {\n",
       "        text-align: right;\n",
       "    }\n",
       "</style>\n",
       "<table border=\"1\" class=\"dataframe\">\n",
       "  <thead>\n",
       "    <tr style=\"text-align: right;\">\n",
       "      <th></th>\n",
       "      <th>Count</th>\n",
       "      <th>Frequency (%)</th>\n",
       "    </tr>\n",
       "  </thead>\n",
       "  <tbody>\n",
       "    <tr>\n",
       "      <th>F</th>\n",
       "      <td>4881</td>\n",
       "      <td>66.936369</td>\n",
       "    </tr>\n",
       "    <tr>\n",
       "      <th>M</th>\n",
       "      <td>2411</td>\n",
       "      <td>33.063631</td>\n",
       "    </tr>\n",
       "  </tbody>\n",
       "</table>\n",
       "</div>"
      ],
      "text/plain": [
       "   Count  Frequency (%)\n",
       "F   4881      66.936369\n",
       "M   2411      33.063631"
      ]
     },
     "execution_count": 22,
     "metadata": {},
     "output_type": "execute_result"
    }
   ],
   "source": [
    "male_female_ratio_size"
   ]
  },
  {
   "cell_type": "code",
   "execution_count": 23,
   "id": "c6230b19",
   "metadata": {},
   "outputs": [],
   "source": [
    "male_female_ratio = male_female_ratio_size['Frequency (%)'].loc['F'], male_female_ratio_size['Frequency (%)'].loc['M']"
   ]
  },
  {
   "cell_type": "code",
   "execution_count": 78,
   "id": "1f9455f5",
   "metadata": {
    "colab": {
     "base_uri": "https://localhost:8080/",
     "height": 264
    },
    "id": "1f9455f5",
    "outputId": "02aa86e0-b65d-4278-fc5e-b08ece07f510"
   },
   "outputs": [
    {
     "data": {
      "image/png": "[encoded data removed]",
      "text/plain": [
       "<Figure size 1296x720 with 1 Axes>"
      ]
     },
     "metadata": {},
     "output_type": "display_data"
    }
   ],
   "source": [
    "fig, ax = plt.subplots(figsize=(18,10))\n",
    "plt.pie(male_female_ratio,labels=[\"Female\",\"Male\"],autopct='%1.0f%%')\n",
    "plt.title('Male vs Female ratio')\n",
    "plt.legend(loc='upper right')\n",
    "plt.show()"
   ]
  },
  {
   "cell_type": "code",
   "execution_count": 25,
   "id": "c5c15b35",
   "metadata": {},
   "outputs": [],
   "source": [
    "male_female_ratio_ct = male_female_ratio_size['Count'].loc['F'], male_female_ratio_size['Count'].loc['M']"
   ]
  },
  {
   "cell_type": "code",
   "execution_count": 92,
   "id": "bca03f16",
   "metadata": {
    "colab": {
     "base_uri": "https://localhost:8080/",
     "height": 294
    },
    "id": "bca03f16",
    "outputId": "11588ab6-1550-4aa3-a827-c7ab37df1c49"
   },
   "outputs": [
    {
     "data": {
      "image/png": "[encoded data removed]",
      "text/plain": [
       "<Figure size 576x720 with 1 Axes>"
      ]
     },
     "metadata": {
      "needs_background": "light"
     },
     "output_type": "display_data"
    }
   ],
   "source": [
    "# Male vs Female population size\n",
    "fig, ax = plt.subplots(figsize=(8,10))\n",
    "sns.barplot(x=list(cc_train_copy['Gender'].value_counts().index),y=list(male_female_ratio_ct))\n",
    "plt.xlabel(\"Sex\")\n",
    "plt.ylabel(\"Count\")\n",
    "plt.title('Female vs Male population count')\n",
    "plt.show()"
   ]
  },
  {
   "cell_type": "markdown",
   "id": "8c23e10e",
   "metadata": {
    "id": "8c23e10e"
   },
   "source": [
    "## 2. Age"
   ]
  },
  {
   "cell_type": "code",
   "execution_count": 27,
   "id": "e19a8131",
   "metadata": {
    "colab": {
     "base_uri": "https://localhost:8080/"
    },
    "id": "e19a8131",
    "outputId": "2681204d-4eb9-4ade-f49d-35b54fc6d0ca"
   },
   "outputs": [
    {
     "data": {
      "text/plain": [
       "count    29165.000000\n",
       "mean    -15979.477490\n",
       "std       4202.997485\n",
       "min     -25152.000000\n",
       "25%     -19444.000000\n",
       "50%     -15565.000000\n",
       "75%     -12475.000000\n",
       "max      -7705.000000\n",
       "Name: Age in days, dtype: float64"
      ]
     },
     "execution_count": 27,
     "metadata": {},
     "output_type": "execute_result"
    }
   ],
   "source": [
    "cc_train_copy['Age in days'].describe()"
   ]
  },
  {
   "cell_type": "code",
   "execution_count": 28,
   "id": "927742c9",
   "metadata": {},
   "outputs": [
    {
     "data": {
      "text/plain": [
       "dtype('int64')"
      ]
     },
     "execution_count": 28,
     "metadata": {},
     "output_type": "execute_result"
    }
   ],
   "source": [
    "cc_train_copy['Age in days'].dtype"
   ]
  },
  {
   "cell_type": "code",
   "execution_count": 38,
   "id": "83674844",
   "metadata": {},
   "outputs": [],
   "source": [
    "# let's change the age expressed in day into years\n",
    "cc_train_copy['Age'] = np.abs(cc_train_copy['Age in days'])/365.25"
   ]
  },
  {
   "cell_type": "code",
   "execution_count": 42,
   "id": "baf52926",
   "metadata": {},
   "outputs": [
    {
     "data": {
      "text/plain": [
       "7705"
      ]
     },
     "execution_count": 42,
     "metadata": {},
     "output_type": "execute_result"
    }
   ],
   "source": [
    "np.abs(cc_train_copy['Age in days']).min()"
   ]
  },
  {
   "cell_type": "code",
   "execution_count": 108,
   "id": "b264f4fe",
   "metadata": {
    "colab": {
     "base_uri": "https://localhost:8080/",
     "height": 252
    },
    "id": "b264f4fe",
    "outputId": "c5942a99-aea7-426d-d4cf-ffd3be98bd8f"
   },
   "outputs": [
    {
     "data": {
      "image/png": "[encoded data removed]",
      "text/plain": [
       "<Figure size 360x576 with 1 Axes>"
      ]
     },
     "metadata": {
      "needs_background": "light"
     },
     "output_type": "display_data"
    }
   ],
   "source": [
    "fig, ax = plt.subplots(figsize=(5,8))\n",
    "sns.boxplot(y=np.abs(cc_train_copy['Age in days'])/365.25)\n",
    "plt.title('Age distribution(Boxplot)')\n",
    "plt.show()"
   ]
  },
  {
   "cell_type": "code",
   "execution_count": 104,
   "id": "330ea2d2",
   "metadata": {
    "id": "330ea2d2",
    "outputId": "6cdc63ea-0af2-4580-aa11-9928c5443818"
   },
   "outputs": [
    {
     "data": {
      "image/png": "[encoded data removed]",
      "text/plain": [
       "<Figure size 1296x720 with 1 Axes>"
      ]
     },
     "metadata": {
      "needs_background": "light"
     },
     "output_type": "display_data"
    }
   ],
   "source": [
    "fig, ax = plt.subplots(figsize=(18,10))\n",
    "sns.histplot(np.abs(cc_train_copy['Age in days'])/365.25,bins=50,kde=True)\n",
    "plt.title('Age distribution')\n",
    "plt.show()"
   ]
  },
  {
   "cell_type": "code",
   "execution_count": 61,
   "id": "f52d7c4f",
   "metadata": {
    "colab": {
     "base_uri": "https://localhost:8080/"
    },
    "id": "f52d7c4f",
    "outputId": "7d702302-f37d-4378-c138-4194f66c37d9"
   },
   "outputs": [
    {
     "data": {
      "text/plain": [
       "Is high risk\n",
       "0    43.753103\n",
       "1    43.538148\n",
       "Name: Age in days, dtype: float64"
      ]
     },
     "execution_count": 61,
     "metadata": {},
     "output_type": "execute_result"
    }
   ],
   "source": [
    "np.abs(cc_train_copy.groupby(\"Is high risk\")['Age in days'].mean()/365.25)"
   ]
  },
  {
   "cell_type": "code",
   "execution_count": 93,
   "id": "6a66e5ac",
   "metadata": {
    "colab": {
     "base_uri": "https://localhost:8080/",
     "height": 294
    },
    "id": "6a66e5ac",
    "outputId": "b20f3c79-fa32-40bc-f0b9-2e4e49c7e59b",
    "scrolled": true
   },
   "outputs": [
    {
     "data": {
      "image/png": "[encoded data removed]",
      "text/plain": [
       "<Figure size 360x576 with 1 Axes>"
      ]
     },
     "metadata": {
      "needs_background": "light"
     },
     "output_type": "display_data"
    }
   ],
   "source": [
    "# High risk vs low risk applicants compared by age\n",
    "fig, ax = plt.subplots(figsize=(5,8))\n",
    "sns.boxplot(y=np.abs(cc_train_copy['Age in days'])/365.25,x=cc_train_copy[\"Is high risk\"])\n",
    "plt.xticks(ticks=[0,1],labels=[\"no\",\"yes\"])\n",
    "plt.title('High risk individuals grouped by age')\n",
    "plt.show()"
   ]
  },
  {
   "cell_type": "markdown",
   "id": "cb462915",
   "metadata": {
    "id": "cb462915"
   },
   "source": [
    "## 3. Marital status"
   ]
  },
  {
   "cell_type": "code",
   "execution_count": 49,
   "id": "2fd92861",
   "metadata": {
    "colab": {
     "base_uri": "https://localhost:8080/"
    },
    "id": "2fd92861",
    "outputId": "cf041d66-374e-47c1-cca5-238e30295c21"
   },
   "outputs": [
    {
     "data": {
      "text/plain": [
       "count       29165\n",
       "unique          5\n",
       "top       Married\n",
       "freq        20044\n",
       "Name: Marital status, dtype: object"
      ]
     },
     "execution_count": 49,
     "metadata": {},
     "output_type": "execute_result"
    }
   ],
   "source": [
    "cc_train_copy['Marital status'].describe()"
   ]
  },
  {
   "cell_type": "code",
   "execution_count": 50,
   "id": "8796baeb",
   "metadata": {},
   "outputs": [
    {
     "data": {
      "text/plain": [
       "dtype('O')"
      ]
     },
     "execution_count": 50,
     "metadata": {},
     "output_type": "execute_result"
    }
   ],
   "source": [
    "cc_train_copy['Marital status'].dtype"
   ]
  },
  {
   "cell_type": "code",
   "execution_count": 51,
   "id": "d2ce77ff",
   "metadata": {
    "colab": {
     "base_uri": "https://localhost:8080/"
    },
    "id": "d2ce77ff",
    "outputId": "746afd8f-5797-40f0-8ff2-af9ad4a92079"
   },
   "outputs": [
    {
     "data": {
      "text/html": [
       "<div>\n",
       "<style scoped>\n",
       "    .dataframe tbody tr th:only-of-type {\n",
       "        vertical-align: middle;\n",
       "    }\n",
       "\n",
       "    .dataframe tbody tr th {\n",
       "        vertical-align: top;\n",
       "    }\n",
       "\n",
       "    .dataframe thead th {\n",
       "        text-align: right;\n",
       "    }\n",
       "</style>\n",
       "<table border=\"1\" class=\"dataframe\">\n",
       "  <thead>\n",
       "    <tr style=\"text-align: right;\">\n",
       "      <th></th>\n",
       "      <th>Count</th>\n",
       "      <th>Frequency (%)</th>\n",
       "    </tr>\n",
       "  </thead>\n",
       "  <tbody>\n",
       "    <tr>\n",
       "      <th>Married</th>\n",
       "      <td>20044</td>\n",
       "      <td>68.726213</td>\n",
       "    </tr>\n",
       "    <tr>\n",
       "      <th>Single / not married</th>\n",
       "      <td>3864</td>\n",
       "      <td>13.248757</td>\n",
       "    </tr>\n",
       "    <tr>\n",
       "      <th>Civil marriage</th>\n",
       "      <td>2312</td>\n",
       "      <td>7.927310</td>\n",
       "    </tr>\n",
       "    <tr>\n",
       "      <th>Separated</th>\n",
       "      <td>1712</td>\n",
       "      <td>5.870050</td>\n",
       "    </tr>\n",
       "    <tr>\n",
       "      <th>Widow</th>\n",
       "      <td>1233</td>\n",
       "      <td>4.227670</td>\n",
       "    </tr>\n",
       "  </tbody>\n",
       "</table>\n",
       "</div>"
      ],
      "text/plain": [
       "                      Count  Frequency (%)\n",
       "Married               20044      68.726213\n",
       "Single / not married   3864      13.248757\n",
       "Civil marriage         2312       7.927310\n",
       "Separated              1712       5.870050\n",
       "Widow                  1233       4.227670"
      ]
     },
     "execution_count": 51,
     "metadata": {},
     "output_type": "execute_result"
    }
   ],
   "source": [
    "value_cnt_norm_cal(cc_train_copy, 'Marital status')"
   ]
  },
  {
   "cell_type": "code",
   "execution_count": 52,
   "id": "d6ccdccf",
   "metadata": {
    "colab": {
     "base_uri": "https://localhost:8080/"
    },
    "id": "d6ccdccf",
    "outputId": "159b3f18-ba24-4779-9da0-596ff5a92f38"
   },
   "outputs": [
    {
     "data": {
      "text/plain": [
       "array(['Married', 'Single / not married', 'Separated', 'Civil marriage',\n",
       "       'Widow'], dtype=object)"
      ]
     },
     "execution_count": 52,
     "metadata": {},
     "output_type": "execute_result"
    }
   ],
   "source": [
    "cc_train_copy['Marital status'].unique()"
   ]
  },
  {
   "cell_type": "code",
   "execution_count": 111,
   "id": "1a9afc0d",
   "metadata": {
    "colab": {
     "base_uri": "https://localhost:8080/",
     "height": 363
    },
    "id": "1a9afc0d",
    "outputId": "27f62e54-9a09-4a90-cf2f-1b9279d29392"
   },
   "outputs": [
    {
     "data": {
      "image/png": "[encoded data removed]",
      "text/plain": [
       "<Figure size 1296x720 with 1 Axes>"
      ]
     },
     "metadata": {
      "needs_background": "light"
     },
     "output_type": "display_data"
    }
   ],
   "source": [
    "fig, ax = plt.subplots(figsize=(18,10))\n",
    "sns.barplot(x=cc_train_copy['Marital status'].value_counts().index,y=cc_train_copy['Marital status'].value_counts().values,palette=sns.color_palette(\"flare\"))\n",
    "ax.set_xticklabels(labels=['Married', 'Single / not married', 'Civil marriage','Separated', 'Widow'],rotation=45,ha='right')\n",
    "plt.xlabel(\"Marital status\")\n",
    "plt.ylabel(\"Count\")\n",
    "plt.title('Marital status count')\n",
    "plt.show()"
   ]
  },
  {
   "cell_type": "code",
   "execution_count": 66,
   "id": "39587a19",
   "metadata": {
    "colab": {
     "base_uri": "https://localhost:8080/"
    },
    "id": "39587a19",
    "outputId": "3fb1f38d-bb38-4adc-e619-e5c00691288a"
   },
   "outputs": [],
   "source": [
    "# High risk applicants grouped by their marital status\n",
    "is_high_risk_ms_grp = cc_train_copy.groupby('Marital status')['Is high risk'].sum()"
   ]
  },
  {
   "cell_type": "code",
   "execution_count": 72,
   "id": "5b52aff1",
   "metadata": {
    "id": "5b52aff1"
   },
   "outputs": [
    {
     "data": {
      "text/plain": [
       "Marital status\n",
       "Married                 320\n",
       "Single / not married     87\n",
       "Civil marriage           34\n",
       "Widow                    34\n",
       "Separated                24\n",
       "Name: Is high risk, dtype: object"
      ]
     },
     "execution_count": 72,
     "metadata": {},
     "output_type": "execute_result"
    }
   ],
   "source": [
    "is_high_risk_ms_grp = is_high_risk_ms_grp.sort_values(ascending=False)\n",
    "is_high_risk_ms_grp"
   ]
  },
  {
   "cell_type": "code",
   "execution_count": 110,
   "id": "f09a6638",
   "metadata": {
    "colab": {
     "base_uri": "https://localhost:8080/",
     "height": 363
    },
    "id": "f09a6638",
    "outputId": "862b3793-57bc-4e36-a1e9-cddddb9ca3fb",
    "scrolled": true
   },
   "outputs": [
    {
     "data": {
      "image/png": "[encoded data removed]",
      "text/plain": [
       "<Figure size 1296x720 with 1 Axes>"
      ]
     },
     "metadata": {
      "needs_background": "light"
     },
     "output_type": "display_data"
    }
   ],
   "source": [
    "fig, ax = plt.subplots(figsize=(18,10))\n",
    "sns.barplot(x=is_high_risk_ms_grp.index,y=is_high_risk_ms_grp.values,palette=sns.color_palette(\"flare\"))\n",
    "ax.set_xticklabels(labels=['Married','Single / not married','Civil marriage', 'Widow', 'Separated'],rotation=45, ha=\"right\")\n",
    "plt.ylabel('Count')\n",
    "plt.title('High risk applicants count grouped by their marital status')\n",
    "plt.show()"
   ]
  },
  {
   "cell_type": "markdown",
   "id": "79a21789",
   "metadata": {
    "id": "79a21789"
   },
   "source": [
    "#### 4. Family member count"
   ]
  },
  {
   "cell_type": "code",
   "execution_count": 76,
   "id": "6c3443a6",
   "metadata": {
    "colab": {
     "base_uri": "https://localhost:8080/"
    },
    "id": "6c3443a6",
    "outputId": "a5fa4f5c-2eee-40e8-e0e2-5458671f843b"
   },
   "outputs": [
    {
     "data": {
      "text/plain": [
       "count    29165.000000\n",
       "mean         2.197531\n",
       "std          0.912189\n",
       "min          1.000000\n",
       "25%          2.000000\n",
       "50%          2.000000\n",
       "75%          3.000000\n",
       "max         20.000000\n",
       "Name: Family member count, dtype: float64"
      ]
     },
     "execution_count": 76,
     "metadata": {},
     "output_type": "execute_result"
    }
   ],
   "source": [
    "cc_train_copy['Family member count'].describe()"
   ]
  },
  {
   "cell_type": "code",
   "execution_count": 86,
   "id": "7522f4c9",
   "metadata": {},
   "outputs": [
    {
     "data": {
      "text/plain": [
       "dtype('float64')"
      ]
     },
     "execution_count": 86,
     "metadata": {},
     "output_type": "execute_result"
    }
   ],
   "source": [
    "cc_train_copy['Family member count'].dtype"
   ]
  },
  {
   "cell_type": "code",
   "execution_count": 87,
   "metadata": {},
   "outputs": [
    {
     "data": {
      "text/html": [
       "<div>\n",
       "<style scoped>\n",
       "    .dataframe tbody tr th:only-of-type {\n",
       "        vertical-align: middle;\n",
       "    }\n",
       "\n",
       "    .dataframe tbody tr th {\n",
       "        vertical-align: top;\n",
       "    }\n",
       "\n",
       "    .dataframe thead th {\n",
       "        text-align: right;\n",
       "    }\n",
       "</style>\n",
       "<table border=\"1\" class=\"dataframe\">\n",
       "  <thead>\n",
       "    <tr style=\"text-align: right;\">\n",
       "      <th></th>\n",
       "      <th>Count</th>\n",
       "      <th>Frequency (%)</th>\n",
       "    </tr>\n",
       "  </thead>\n",
       "  <tbody>\n",
       "    <tr>\n",
       "      <th>2.0</th>\n",
       "      <td>15552</td>\n",
       "      <td>53.324190</td>\n",
       "    </tr>\n",
       "    <tr>\n",
       "      <th>1.0</th>\n",
       "      <td>5613</td>\n",
       "      <td>19.245671</td>\n",
       "    </tr>\n",
       "    <tr>\n",
       "      <th>3.0</th>\n",
       "      <td>5121</td>\n",
       "      <td>17.558718</td>\n",
       "    </tr>\n",
       "    <tr>\n",
       "      <th>4.0</th>\n",
       "      <td>2503</td>\n",
       "      <td>8.582205</td>\n",
       "    </tr>\n",
       "    <tr>\n",
       "      <th>5.0</th>\n",
       "      <td>309</td>\n",
       "      <td>1.059489</td>\n",
       "    </tr>\n",
       "    <tr>\n",
       "      <th>6.0</th>\n",
       "      <td>48</td>\n",
       "      <td>0.164581</td>\n",
       "    </tr>\n",
       "    <tr>\n",
       "      <th>7.0</th>\n",
       "      <td>14</td>\n",
       "      <td>0.048003</td>\n",
       "    </tr>\n",
       "    <tr>\n",
       "      <th>9.0</th>\n",
       "      <td>2</td>\n",
       "      <td>0.006858</td>\n",
       "    </tr>\n",
       "    <tr>\n",
       "      <th>15.0</th>\n",
       "      <td>2</td>\n",
       "      <td>0.006858</td>\n",
       "    </tr>\n",
       "    <tr>\n",
       "      <th>20.0</th>\n",
       "      <td>1</td>\n",
       "      <td>0.003429</td>\n",
       "    </tr>\n",
       "  </tbody>\n",
       "</table>\n",
       "</div>"
      ],
      "text/plain": [
       "      Count  Frequency (%)\n",
       "2.0   15552      53.324190\n",
       "1.0    5613      19.245671\n",
       "3.0    5121      17.558718\n",
       "4.0    2503       8.582205\n",
       "5.0     309       1.059489\n",
       "6.0      48       0.164581\n",
       "7.0      14       0.048003\n",
       "9.0       2       0.006858\n",
       "15.0      2       0.006858\n",
       "20.0      1       0.003429"
      ]
     },
     "execution_count": 87,
     "metadata": {},
     "output_type": "execute_result"
    }
   ],
   "source": [
    "value_cnt_norm_cal(cc_train_copy, 'Family member count')"
   ]
  },
  {
   "cell_type": "code",
   "execution_count": 107,
   "id": "1b0e0e36",
   "metadata": {
    "colab": {
     "base_uri": "https://localhost:8080/",
     "height": 267
    },
    "id": "1b0e0e36",
    "outputId": "92ac6da1-d70f-466a-b667-d14f27578748"
   },
   "outputs": [
    {
     "data": {
      "image/png": "[encoded data removed]",
      "text/plain": [
       "<Figure size 360x720 with 1 Axes>"
      ]
     },
     "metadata": {
      "needs_background": "light"
     },
     "output_type": "display_data"
    }
   ],
   "source": [
    "fig, ax = plt.subplots(figsize=(5,10))\n",
    "sns.boxplot(y=cc_train_copy['Family member count'])\n",
    "plt.title('Family size distribution(Boxplot)')\n",
    "plt.show()"
   ]
  },
  {
   "cell_type": "code",
   "execution_count": 113,
   "id": "17dc4bb4",
   "metadata": {
    "id": "17dc4bb4"
   },
   "outputs": [
    {
     "data": {
      "image/png": "[encoded data removed]",
      "text/plain": [
       "<Figure size 1296x720 with 1 Axes>"
      ]
     },
     "metadata": {
      "needs_background": "light"
     },
     "output_type": "display_data"
    }
   ],
   "source": [
    "fig, ax = plt.subplots(figsize=(18,10))\n",
    "sns.barplot(x=cc_train_copy['Family member count'].value_counts().index,y=cc_train_copy['Family member count'].value_counts().values,palette=sns.color_palette(\"flare\"))\n",
    "plt.xlabel(\"Family member count\")\n",
    "plt.ylabel(\"Count\")\n",
    "plt.title('Family member count')\n",
    "plt.show()"
   ]
  },
  {
   "cell_type": "markdown",
   "id": "8255ed45",
   "metadata": {
    "id": "8255ed45"
   },
   "source": [
    "#### 5. Children count  "
   ]
  },
  {
   "cell_type": "code",
   "execution_count": null,
   "id": "a49f2144",
   "metadata": {
    "colab": {
     "base_uri": "https://localhost:8080/"
    },
    "id": "a49f2144",
    "outputId": "7ad9a4e7-1a2c-4496-de8f-824e0dba7866"
   },
   "outputs": [],
   "source": [
    "application_train_copy['Children count'].describe()"
   ]
  },
  {
   "cell_type": "code",
   "execution_count": null,
   "id": "035e5a23",
   "metadata": {
    "colab": {
     "base_uri": "https://localhost:8080/",
     "height": 252
    },
    "id": "035e5a23",
    "outputId": "90c315bc-aded-4c00-95a5-d9ad43cc8365"
   },
   "outputs": [],
   "source": [
    "sns.boxplot(y=application_train_copy['Children count'])\n",
    "plt.show()"
   ]
  },
  {
   "cell_type": "markdown",
   "id": "5d3eab0c",
   "metadata": {
    "id": "5d3eab0c"
   },
   "source": [
    "#### High risk individual grouped by children count"
   ]
  },
  {
   "cell_type": "code",
   "execution_count": null,
   "id": "4fa7f77b",
   "metadata": {
    "id": "4fa7f77b"
   },
   "outputs": [],
   "source": [
    "is_high_risk_cc_grp_count = application_train_copy.groupby('Children count')['Is high risk'].sum()"
   ]
  },
  {
   "cell_type": "code",
   "execution_count": null,
   "id": "146a30a0",
   "metadata": {
    "colab": {
     "base_uri": "https://localhost:8080/"
    },
    "id": "146a30a0",
    "outputId": "77d22b4f-e37d-4939-f2d9-9b6b4419b263"
   },
   "outputs": [],
   "source": [
    "is_high_risk_cc_grp_count"
   ]
  },
  {
   "cell_type": "code",
   "execution_count": null,
   "id": "2a51137a",
   "metadata": {
    "colab": {
     "base_uri": "https://localhost:8080/",
     "height": 294
    },
    "id": "2a51137a",
    "outputId": "b0a25694-fee7-414b-fff3-761e1c879931"
   },
   "outputs": [],
   "source": [
    "fig, ax = plt.subplots()\n",
    "sns.barplot(x=is_high_risk_cc_grp_count.index,y=is_high_risk_cc_grp_count.values,palette=\"flare\")\n",
    "plt.ylabel('Count')\n",
    "plt.title('High risk individual grouped by children count')\n",
    "plt.show()"
   ]
  },
  {
   "cell_type": "markdown",
   "id": "5f676d23",
   "metadata": {
    "id": "5f676d23"
   },
   "source": [
    "#### 6. Way of living"
   ]
  },
  {
   "cell_type": "code",
   "execution_count": null,
   "id": "65ca1526",
   "metadata": {
    "colab": {
     "base_uri": "https://localhost:8080/"
    },
    "id": "65ca1526",
    "outputId": "4d17d17b-454b-48bf-967c-59c61b27558f"
   },
   "outputs": [],
   "source": [
    "application_train_copy['Way of living'].describe()"
   ]
  },
  {
   "cell_type": "code",
   "execution_count": null,
   "id": "e8c73f38",
   "metadata": {
    "colab": {
     "base_uri": "https://localhost:8080/"
    },
    "id": "e8c73f38",
    "outputId": "5d608da8-58ee-43f5-a9da-ef1982750306",
    "scrolled": true
   },
   "outputs": [],
   "source": [
    "application_train_copy['Way of living'].unique()"
   ]
  },
  {
   "cell_type": "code",
   "execution_count": null,
   "id": "6327dee9",
   "metadata": {
    "colab": {
     "base_uri": "https://localhost:8080/"
    },
    "id": "6327dee9",
    "outputId": "cc4baded-1372-4c8e-dec2-51f6d6ee62b6"
   },
   "outputs": [],
   "source": [
    "application_train_copy['Way of living'].value_counts()"
   ]
  },
  {
   "cell_type": "code",
   "execution_count": null,
   "id": "8ddf4351",
   "metadata": {
    "colab": {
     "base_uri": "https://localhost:8080/",
     "height": 370
    },
    "id": "8ddf4351",
    "outputId": "c55fcade-5682-41e3-c2da-93d8b816e675"
   },
   "outputs": [],
   "source": [
    "fig, ax = plt.subplots()\n",
    "sns.barplot(x=application_train_copy['Way of living'].value_counts().index,y=application_train_copy['Way of living'].value_counts().values,palette=sns.color_palette('flare'))\n",
    "ax.set_xticklabels(labels=application_train_copy['Way of living'].value_counts().index,rotation=45, ha=\"right\")\n",
    "plt.title('Way of living distribution')\n",
    "plt.ylabel('Count')"
   ]
  },
  {
   "cell_type": "markdown",
   "id": "0601414e",
   "metadata": {
    "id": "0601414e"
   },
   "source": [
    "#### High risk individuals grouped by their way of living"
   ]
  },
  {
   "cell_type": "code",
   "execution_count": null,
   "id": "c6b618fb",
   "metadata": {
    "id": "c6b618fb"
   },
   "outputs": [],
   "source": [
    "is_high_risk_wl_grp_count = application_train_copy.groupby('Way of living')['Is high risk'].sum()"
   ]
  },
  {
   "cell_type": "code",
   "execution_count": null,
   "id": "be132399",
   "metadata": {
    "colab": {
     "base_uri": "https://localhost:8080/"
    },
    "id": "be132399",
    "outputId": "007badc7-f80e-44d7-d396-8183630e1a49"
   },
   "outputs": [],
   "source": [
    "is_high_risk_wl_grp_count"
   ]
  },
  {
   "cell_type": "code",
   "execution_count": null,
   "id": "cf1a3b33",
   "metadata": {
    "colab": {
     "base_uri": "https://localhost:8080/",
     "height": 365
    },
    "id": "cf1a3b33",
    "outputId": "97ae043b-fd62-4861-c9d4-d8fbc09273c0",
    "scrolled": true
   },
   "outputs": [],
   "source": [
    "fig, ax = plt.subplots()\n",
    "sns.barplot(x=is_high_risk_wl_grp_count.index,y=is_high_risk_wl_grp_count.values,palette=\"flare\")\n",
    "plt.ylabel('Count')\n",
    "ax.set_xticklabels(labels=is_high_risk_wl_grp_count.index,rotation=45, ha=\"right\")\n",
    "plt.title('High risk individual grouped by their way of living')\n",
    "plt.show()"
   ]
  },
  {
   "cell_type": "markdown",
   "id": "6d0022c0",
   "metadata": {
    "id": "6d0022c0"
   },
   "source": [
    "#### 7. Income"
   ]
  },
  {
   "cell_type": "code",
   "execution_count": null,
   "id": "ca148c8f",
   "metadata": {
    "colab": {
     "base_uri": "https://localhost:8080/"
    },
    "id": "ca148c8f",
    "outputId": "8ef85046-4e28-4ea8-9d11-32ca85995a94"
   },
   "outputs": [],
   "source": [
    "pd.set_option('display.float_format', lambda x: '%.5f' % x)\n",
    "application_train_copy['Income'].describe()"
   ]
  },
  {
   "cell_type": "code",
   "execution_count": null,
   "id": "ef6f227f",
   "metadata": {
    "colab": {
     "base_uri": "https://localhost:8080/",
     "height": 253
    },
    "id": "ef6f227f",
    "outputId": "5b91c789-f830-489e-b75d-2fea33edfe1b"
   },
   "outputs": [],
   "source": [
    "fig, ax = plt.subplots()\n",
    "sns.boxplot(y=application_train_copy[\"Income\"])\n",
    "ax.ticklabel_format(useOffset=False, style='plain', axis='y')\n",
    "plt.show()"
   ]
  },
  {
   "cell_type": "code",
   "execution_count": null,
   "id": "2fa38e4b",
   "metadata": {
    "colab": {
     "base_uri": "https://localhost:8080/",
     "height": 294
    },
    "id": "2fa38e4b",
    "outputId": "2ff277db-54d1-4834-cbce-7a74932dc870"
   },
   "outputs": [],
   "source": [
    "fig, ax = plt.subplots()\n",
    "sns.histplot(data=application_train_copy[\"Income\"],bins=30,kde=True)\n",
    "plt.title('Income distribution')\n",
    "ax.ticklabel_format(useOffset=False, style='plain', axis='x')\n",
    "plt.show()"
   ]
  },
  {
   "cell_type": "markdown",
   "id": "d4f1e504",
   "metadata": {
    "id": "d4f1e504"
   },
   "source": [
    "#### High risk individuals grouped by income"
   ]
  },
  {
   "cell_type": "code",
   "execution_count": null,
   "id": "29d93375",
   "metadata": {
    "colab": {
     "base_uri": "https://localhost:8080/"
    },
    "id": "29d93375",
    "outputId": "100da27b-4360-435c-cfda-696e611e272e"
   },
   "outputs": [],
   "source": [
    "application_train_copy.groupby(\"Is high risk\")['Income'].mean()"
   ]
  },
  {
   "cell_type": "code",
   "execution_count": null,
   "id": "cd4304c7",
   "metadata": {
    "colab": {
     "base_uri": "https://localhost:8080/",
     "height": 294
    },
    "id": "cd4304c7",
    "outputId": "f6b2204b-836a-4e8d-9bfd-9b9e904cb0bb"
   },
   "outputs": [],
   "source": [
    "fig, ax = plt.subplots()\n",
    "sns.boxplot(y=application_train_copy[\"Income\"],x=application_train_copy[\"Is high risk\"])\n",
    "plt.xticks(ticks=[0,1],labels=[\"no\",\"yes\"])\n",
    "ax.ticklabel_format(useOffset=False, style='plain', axis='y')\n",
    "plt.title('High risk individuals grouped by Income')\n",
    "plt.show()"
   ]
  },
  {
   "cell_type": "markdown",
   "id": "9530b925",
   "metadata": {
    "id": "9530b925"
   },
   "source": [
    "#### 8. Occupation"
   ]
  },
  {
   "cell_type": "code",
   "execution_count": null,
   "id": "67fd0f89",
   "metadata": {
    "colab": {
     "base_uri": "https://localhost:8080/"
    },
    "id": "67fd0f89",
    "outputId": "8c410553-a2fd-418d-baeb-880bf23ed712"
   },
   "outputs": [],
   "source": [
    "occupation_na = application_train_copy['Occupation'].isna().sum() \n",
    "occupation_na "
   ]
  },
  {
   "cell_type": "code",
   "execution_count": null,
   "id": "698d7dbd",
   "metadata": {
    "colab": {
     "base_uri": "https://localhost:8080/"
    },
    "id": "698d7dbd",
    "outputId": "fae71dd8-0427-4813-b6d0-a1e4193906b1"
   },
   "outputs": [],
   "source": [
    "print(\"The percent of missing value is {:.2f}%\".format((occupation_na*100)/len(application_train_copy['Occupation'])))"
   ]
  },
  {
   "cell_type": "code",
   "execution_count": null,
   "id": "37f00171",
   "metadata": {
    "colab": {
     "base_uri": "https://localhost:8080/"
    },
    "id": "37f00171",
    "outputId": "ca52baa5-5490-45e6-d51e-50446801cecc"
   },
   "outputs": [],
   "source": [
    "application_train_copy['Occupation'].value_counts()"
   ]
  },
  {
   "cell_type": "markdown",
   "id": "a81a3bda",
   "metadata": {
    "id": "a81a3bda"
   },
   "source": [
    "#### Occupation vs income"
   ]
  },
  {
   "cell_type": "code",
   "execution_count": null,
   "id": "d11a0d42",
   "metadata": {
    "id": "d11a0d42"
   },
   "outputs": [],
   "source": [
    "app_grouped_occupation_income = application_train_copy.groupby('Occupation')['Income'].mean()"
   ]
  },
  {
   "cell_type": "code",
   "execution_count": null,
   "id": "9cf7de22",
   "metadata": {
    "colab": {
     "base_uri": "https://localhost:8080/",
     "height": 366
    },
    "id": "9cf7de22",
    "outputId": "d934c3e2-73fa-47fb-b49a-6205332a26aa"
   },
   "outputs": [],
   "source": [
    "sns.barplot(x=app_grouped_occupation_income.index.to_list(),y=app_grouped_occupation_income.values)\n",
    "plt.xticks(rotation=45, ha=\"right\")\n",
    "plt.ylabel('Income')\n",
    "plt.xlabel('Occupation')\n",
    "plt.title('Mean income by occupation')\n",
    "plt.show()"
   ]
  },
  {
   "cell_type": "code",
   "execution_count": null,
   "id": "ee459daa",
   "metadata": {
    "id": "ee459daa"
   },
   "outputs": [],
   "source": [
    "income_occ = pd.concat([application_train_copy['Occupation'],application_train_copy['Income']],axis=1)"
   ]
  },
  {
   "cell_type": "code",
   "execution_count": null,
   "id": "54b871c5",
   "metadata": {
    "colab": {
     "base_uri": "https://localhost:8080/",
     "height": 584
    },
    "id": "54b871c5",
    "outputId": "e621439c-b876-4e4d-c2ef-8ff701a515cc"
   },
   "outputs": [],
   "source": [
    "fig, ax = plt.subplots(figsize=(16,8))\n",
    "sns.boxplot(x='Occupation',y='Income',data=income_occ)\n",
    "plt.xticks(rotation=45,ha='right')\n",
    "ax.ticklabel_format(useOffset=False, style='plain', axis='y')\n",
    "plt.title('Occupation vs Income')\n",
    "plt.show()"
   ]
  },
  {
   "cell_type": "markdown",
   "id": "ae68f211",
   "metadata": {
    "id": "ae68f211"
   },
   "source": [
    "#### High risk vs income "
   ]
  },
  {
   "cell_type": "code",
   "execution_count": null,
   "id": "74d46bfa",
   "metadata": {
    "colab": {
     "base_uri": "https://localhost:8080/",
     "height": 264
    },
    "id": "74d46bfa",
    "outputId": "7980e79c-0ccf-4093-b07d-69de57371221"
   },
   "outputs": [],
   "source": [
    "pd.crosstab(index=application_train_copy['Is high risk'],columns=application_train_copy['Occupation'],margins=True,normalize=False)"
   ]
  },
  {
   "cell_type": "code",
   "execution_count": null,
   "id": "b7082534",
   "metadata": {
    "colab": {
     "base_uri": "https://localhost:8080/",
     "height": 233
    },
    "id": "b7082534",
    "outputId": "71cfc67b-498c-49ff-d33a-027f465064dc"
   },
   "outputs": [],
   "source": [
    "pd.crosstab(index=application_train_copy['Is high risk'],columns=application_train_copy['Occupation'],margins=True,normalize='columns') * 100"
   ]
  },
  {
   "cell_type": "markdown",
   "id": "88b67bdf",
   "metadata": {
    "id": "88b67bdf"
   },
   "source": [
    "#### 9. Income category"
   ]
  },
  {
   "cell_type": "code",
   "execution_count": null,
   "id": "e1602108",
   "metadata": {
    "colab": {
     "base_uri": "https://localhost:8080/"
    },
    "id": "e1602108",
    "outputId": "cc712302-2785-4db1-aab5-035303c9abcd"
   },
   "outputs": [],
   "source": [
    "application_train_copy['Income category'].describe()"
   ]
  },
  {
   "cell_type": "code",
   "execution_count": null,
   "id": "095b0bea",
   "metadata": {
    "colab": {
     "base_uri": "https://localhost:8080/"
    },
    "id": "095b0bea",
    "outputId": "2b5f805f-20c9-488b-8872-ac01967f0a56"
   },
   "outputs": [],
   "source": [
    "application_train_copy['Income category'].value_counts()"
   ]
  },
  {
   "cell_type": "code",
   "execution_count": null,
   "id": "98cc9400",
   "metadata": {
    "colab": {
     "base_uri": "https://localhost:8080/"
    },
    "id": "98cc9400",
    "outputId": "10131afe-04ea-44de-e954-2e7c3492eab1"
   },
   "outputs": [],
   "source": [
    "application_train_copy['Income category'].unique() "
   ]
  },
  {
   "cell_type": "code",
   "execution_count": null,
   "id": "221fc6fd",
   "metadata": {
    "colab": {
     "base_uri": "https://localhost:8080/",
     "height": 370
    },
    "id": "221fc6fd",
    "outputId": "5bf0a71b-d7a1-4981-c0e3-dd5e585cb1b3"
   },
   "outputs": [],
   "source": [
    "fig, ax = plt.subplots()\n",
    "sns.barplot(x=application_train_copy['Income category'].value_counts().index,y=application_train_copy['Income category'].value_counts().values,palette=sns.color_palette(\"flare\"))\n",
    "plt.xlabel(\"Income category\")\n",
    "plt.xticks(rotation=45,ha='right')\n",
    "plt.ylabel(\"Count\")\n",
    "plt.title('Income category distribution')\n",
    "plt.show()"
   ]
  },
  {
   "cell_type": "markdown",
   "id": "ac0fb8f6",
   "metadata": {
    "id": "ac0fb8f6"
   },
   "source": [
    "#### High risk individuals grouped by their Income category"
   ]
  },
  {
   "cell_type": "code",
   "execution_count": null,
   "id": "42e5cbf2",
   "metadata": {
    "colab": {
     "base_uri": "https://localhost:8080/"
    },
    "id": "42e5cbf2",
    "outputId": "67a87ece-b1b8-4dbe-948e-b50a0c387301"
   },
   "outputs": [],
   "source": [
    "application_train_copy.groupby('Income category')['Is high risk'].sum()"
   ]
  },
  {
   "cell_type": "code",
   "execution_count": null,
   "id": "2e5f052f",
   "metadata": {
    "id": "2e5f052f"
   },
   "outputs": [],
   "source": [
    "is_high_risk_ic_grp_count = application_train_copy.groupby('Income category')['Is high risk'].sum()"
   ]
  },
  {
   "cell_type": "code",
   "execution_count": null,
   "id": "7ec15a8b",
   "metadata": {
    "colab": {
     "base_uri": "https://localhost:8080/",
     "height": 370
    },
    "id": "7ec15a8b",
    "outputId": "6dc5b276-beb3-458a-a8c5-d2288f00807d",
    "scrolled": true
   },
   "outputs": [],
   "source": [
    "fig, ax = plt.subplots()\n",
    "sns.barplot(x=is_high_risk_ic_grp_count.index,y=is_high_risk_ic_grp_count.values,palette=sns.color_palette(\"flare\"))\n",
    "plt.ylabel('Count')\n",
    "plt.xticks(rotation=45,ha='right')\n",
    "plt.title('High risk individuals grouped by their income category')\n",
    "plt.show()"
   ]
  },
  {
   "cell_type": "markdown",
   "id": "0bef4551",
   "metadata": {
    "id": "0bef4551"
   },
   "source": [
    "#### 10. Education level"
   ]
  },
  {
   "cell_type": "code",
   "execution_count": null,
   "id": "47ebf9c3",
   "metadata": {
    "colab": {
     "base_uri": "https://localhost:8080/"
    },
    "id": "47ebf9c3",
    "outputId": "0bf7d503-bf5c-47de-c2ba-037ccb3a7905"
   },
   "outputs": [],
   "source": [
    "application_train_copy['Education level'].describe()"
   ]
  },
  {
   "cell_type": "code",
   "execution_count": null,
   "id": "559945ef",
   "metadata": {
    "colab": {
     "base_uri": "https://localhost:8080/"
    },
    "id": "559945ef",
    "outputId": "8e4ccacb-db24-4f60-ed72-cdd548c9e55d"
   },
   "outputs": [],
   "source": [
    "application_train_copy['Education level'].unique()"
   ]
  },
  {
   "cell_type": "code",
   "execution_count": null,
   "id": "56b00050",
   "metadata": {
    "colab": {
     "base_uri": "https://localhost:8080/"
    },
    "id": "56b00050",
    "outputId": "21c75025-ed09-4c21-a371-1d554e759a62"
   },
   "outputs": [],
   "source": [
    "application_train_copy['Education level'].value_counts()"
   ]
  },
  {
   "cell_type": "code",
   "execution_count": null,
   "id": "9ca95390",
   "metadata": {
    "colab": {
     "base_uri": "https://localhost:8080/",
     "height": 400
    },
    "id": "9ca95390",
    "outputId": "48ba7262-9dca-4c6c-f131-791922691c3f"
   },
   "outputs": [],
   "source": [
    "fig, ax = plt.subplots()\n",
    "sns.barplot(x=application_train_copy['Education level'].value_counts().index,y=application_train_copy['Education level'].value_counts().values,palette=sns.color_palette(\"flare\"))\n",
    "ax.set_xticklabels(labels=application_train_copy['Education level'].value_counts().index.to_list(),rotation=45,ha='right')\n",
    "plt.xlabel(\"Education level\")\n",
    "plt.ylabel(\"Count\")\n",
    "plt.title('Education level distribution')\n",
    "plt.show()"
   ]
  },
  {
   "cell_type": "markdown",
   "id": "3641315f",
   "metadata": {
    "id": "3641315f"
   },
   "source": [
    "#### 11. Days since employment (positive means unemployed)"
   ]
  },
  {
   "cell_type": "code",
   "execution_count": null,
   "id": "4692fa87",
   "metadata": {
    "colab": {
     "base_uri": "https://localhost:8080/"
    },
    "id": "4692fa87",
    "outputId": "fcad4254-7a57-44f5-bef4-0bdd3be9782d"
   },
   "outputs": [],
   "source": [
    "application_train_copy['Days since employment (positive means unemployed)'].describe()"
   ]
  },
  {
   "cell_type": "markdown",
   "id": "83f5d026",
   "metadata": {
    "id": "83f5d026"
   },
   "source": [
    "#### Days since employment distribution"
   ]
  },
  {
   "cell_type": "code",
   "execution_count": null,
   "id": "fe12962e",
   "metadata": {
    "colab": {
     "base_uri": "https://localhost:8080/",
     "height": 294
    },
    "id": "fe12962e",
    "outputId": "1f9da0c0-681d-4493-f060-817990828d35"
   },
   "outputs": [],
   "source": [
    "sns.histplot(data=application_train_copy[\"Days since employment (positive means unemployed)\"],bins=50,kde=True)\n",
    "plt.title('Days since employment distribution')\n",
    "plt.show()"
   ]
  },
  {
   "cell_type": "code",
   "execution_count": null,
   "id": "fadf166d",
   "metadata": {
    "id": "fadf166d"
   },
   "outputs": [],
   "source": [
    "days_since_employment_no_ret = application_train_copy[\"Days since employment (positive means unemployed)\"][application_train_copy[\"Days since employment (positive means unemployed)\"] != 365243]"
   ]
  },
  {
   "cell_type": "code",
   "execution_count": null,
   "id": "5f1c5836",
   "metadata": {
    "colab": {
     "base_uri": "https://localhost:8080/",
     "height": 294
    },
    "id": "5f1c5836",
    "outputId": "f6bc4bb5-c380-4056-df03-46d72b069e9a"
   },
   "outputs": [],
   "source": [
    "sns.histplot(data=days_since_employment_no_ret,bins=50,kde=True)\n",
    "plt.title('Days since employment distribution (retirement not accounted)')\n",
    "plt.show()"
   ]
  },
  {
   "cell_type": "code",
   "execution_count": null,
   "id": "b11c3779",
   "metadata": {
    "colab": {
     "base_uri": "https://localhost:8080/",
     "height": 303
    },
    "id": "b11c3779",
    "outputId": "fc546b9f-a2df-4072-eecd-78d86c3f2c16"
   },
   "outputs": [],
   "source": [
    "sns.boxplot(y=days_since_employment_no_ret)\n",
    "plt.show()"
   ]
  },
  {
   "cell_type": "markdown",
   "id": "ea91a4b6",
   "metadata": {
    "id": "ea91a4b6"
   },
   "source": [
    "#### 12. Has a car"
   ]
  },
  {
   "cell_type": "code",
   "execution_count": null,
   "id": "16c5bb5f",
   "metadata": {
    "colab": {
     "base_uri": "https://localhost:8080/"
    },
    "id": "16c5bb5f",
    "outputId": "e75f6536-9194-4e72-cde1-eb90c7115395"
   },
   "outputs": [],
   "source": [
    "application_train_copy['Has a car'].describe()"
   ]
  },
  {
   "cell_type": "code",
   "execution_count": null,
   "id": "f94f15ac",
   "metadata": {
    "colab": {
     "base_uri": "https://localhost:8080/"
    },
    "id": "f94f15ac",
    "outputId": "f505acd8-42e3-4226-aa4c-cbb8bfd6222c"
   },
   "outputs": [],
   "source": [
    "application_train_copy['Has a car'].value_counts()"
   ]
  },
  {
   "cell_type": "code",
   "execution_count": null,
   "id": "71fc3577",
   "metadata": {
    "colab": {
     "base_uri": "https://localhost:8080/"
    },
    "id": "71fc3577",
    "outputId": "d74c0dec-cc95-4355-d6e2-40406d80b42d"
   },
   "outputs": [],
   "source": [
    "application_train_copy['Has a car'].value_counts(normalize=True) * 100"
   ]
  },
  {
   "cell_type": "markdown",
   "id": "480a9546",
   "metadata": {
    "id": "480a9546"
   },
   "source": [
    "#### Car ownership ratio"
   ]
  },
  {
   "cell_type": "code",
   "execution_count": null,
   "id": "0472554d",
   "metadata": {
    "colab": {
     "base_uri": "https://localhost:8080/"
    },
    "id": "0472554d",
    "outputId": "875b60e6-837f-4e61-fd84-16a21c48b374"
   },
   "outputs": [],
   "source": [
    "size_car_own = application_train_copy['Has a car'].value_counts().values\n",
    "size_car_own"
   ]
  },
  {
   "cell_type": "code",
   "execution_count": null,
   "id": "aaeadd03",
   "metadata": {
    "colab": {
     "base_uri": "https://localhost:8080/",
     "height": 264
    },
    "id": "aaeadd03",
    "outputId": "fe3a396e-058f-458d-d640-9fc88557ffc5"
   },
   "outputs": [],
   "source": [
    "plt.pie(size_car_own,labels=[\"Does not own a car\",\"Own a car\"],autopct='%1.0f%%')\n",
    "plt.title('Car owner ratio')\n",
    "plt.show()"
   ]
  },
  {
   "cell_type": "markdown",
   "id": "5ec8726a",
   "metadata": {
    "id": "5ec8726a"
   },
   "source": [
    "#### Car ownership count"
   ]
  },
  {
   "cell_type": "code",
   "execution_count": null,
   "id": "a8a4c73d",
   "metadata": {
    "colab": {
     "base_uri": "https://localhost:8080/",
     "height": 294
    },
    "id": "a8a4c73d",
    "outputId": "eee120d3-4b84-49ab-fe35-9433b937dab4"
   },
   "outputs": [],
   "source": [
    "sns.barplot(x=application_train_copy['Has a car'].value_counts().index,y=size_car_own)\n",
    "plt.xlabel(\"Have a car\")\n",
    "plt.ylabel(\"Count\")\n",
    "plt.title('Car owner count')\n",
    "plt.show()"
   ]
  },
  {
   "cell_type": "markdown",
   "id": "a53e3e40",
   "metadata": {
    "id": "a53e3e40"
   },
   "source": [
    "#### 13. Has a property"
   ]
  },
  {
   "cell_type": "code",
   "execution_count": null,
   "id": "75d6eea9",
   "metadata": {
    "colab": {
     "base_uri": "https://localhost:8080/"
    },
    "id": "75d6eea9",
    "outputId": "66b67fc4-cd04-48a9-bb49-29b40a01368d"
   },
   "outputs": [],
   "source": [
    "application_train_copy['Has a property'].describe()"
   ]
  },
  {
   "cell_type": "code",
   "execution_count": null,
   "id": "45e544e6",
   "metadata": {
    "colab": {
     "base_uri": "https://localhost:8080/"
    },
    "id": "45e544e6",
    "outputId": "762d7968-1c6c-466a-cd9f-08019d99e40b"
   },
   "outputs": [],
   "source": [
    "application_train_copy['Has a property'].value_counts()"
   ]
  },
  {
   "cell_type": "code",
   "execution_count": null,
   "id": "a27106ab",
   "metadata": {
    "colab": {
     "base_uri": "https://localhost:8080/"
    },
    "id": "a27106ab",
    "outputId": "9e962898-910e-43e2-cfa7-e8e3154646ef"
   },
   "outputs": [],
   "source": [
    "application_train_copy['Has a property'].value_counts(normalize=True) * 100"
   ]
  },
  {
   "cell_type": "markdown",
   "id": "d78d3dac",
   "metadata": {
    "id": "d78d3dac"
   },
   "source": [
    "#### Property ownership ratio"
   ]
  },
  {
   "cell_type": "code",
   "execution_count": null,
   "id": "798e09aa",
   "metadata": {
    "colab": {
     "base_uri": "https://localhost:8080/"
    },
    "id": "798e09aa",
    "outputId": "e599baa9-6b42-4b19-e0b4-73245b7e8d31"
   },
   "outputs": [],
   "source": [
    "size_prop_own = application_train_copy['Has a property'].value_counts().values\n",
    "size_prop_own"
   ]
  },
  {
   "cell_type": "code",
   "execution_count": null,
   "id": "02851e4d",
   "metadata": {
    "colab": {
     "base_uri": "https://localhost:8080/",
     "height": 264
    },
    "id": "02851e4d",
    "outputId": "29196ed9-78a6-4c58-e213-3e973928ba54"
   },
   "outputs": [],
   "source": [
    "plt.pie(size_prop_own,labels=[\"Own a property\", \"Does not own a property\"],autopct='%1.0f%%')\n",
    "plt.title('Property owner ratio')\n",
    "plt.show()"
   ]
  },
  {
   "cell_type": "markdown",
   "id": "67373c05",
   "metadata": {
    "id": "67373c05"
   },
   "source": [
    "#### Property ownership count"
   ]
  },
  {
   "cell_type": "code",
   "execution_count": null,
   "id": "e6a7c89f",
   "metadata": {
    "colab": {
     "base_uri": "https://localhost:8080/",
     "height": 294
    },
    "id": "e6a7c89f",
    "outputId": "40f1f62b-4a99-4be9-d2b3-132a9785df07"
   },
   "outputs": [],
   "source": [
    "sns.barplot(x=application_train_copy['Has a property'].value_counts().index,y=size_prop_own)\n",
    "plt.xlabel(\"Have a property\")\n",
    "plt.ylabel(\"Count\")\n",
    "plt.title('Property owner count')\n",
    "plt.show()"
   ]
  },
  {
   "cell_type": "markdown",
   "id": "6fba5bd2",
   "metadata": {
    "id": "6fba5bd2"
   },
   "source": [
    "#### 14. Has a work phone"
   ]
  },
  {
   "cell_type": "code",
   "execution_count": null,
   "id": "144512b4",
   "metadata": {
    "colab": {
     "base_uri": "https://localhost:8080/"
    },
    "id": "144512b4",
    "outputId": "1c66967c-ae61-4d8b-b166-4b390cec2d33"
   },
   "outputs": [],
   "source": [
    "application_train_copy['Has a work phone'].describe()"
   ]
  },
  {
   "cell_type": "code",
   "execution_count": null,
   "id": "4d5cc2a6",
   "metadata": {
    "colab": {
     "base_uri": "https://localhost:8080/"
    },
    "id": "4d5cc2a6",
    "outputId": "d47a2d7f-2de9-45ee-e758-3345b4930838"
   },
   "outputs": [],
   "source": [
    "application_train_copy['Has a work phone'].value_counts()"
   ]
  },
  {
   "cell_type": "code",
   "execution_count": null,
   "id": "8aa0e15e",
   "metadata": {
    "colab": {
     "base_uri": "https://localhost:8080/"
    },
    "id": "8aa0e15e",
    "outputId": "e2da754b-6bba-4b64-d3d9-349d91c85690"
   },
   "outputs": [],
   "source": [
    "application_train_copy['Has a work phone'].value_counts(normalize=True) * 100"
   ]
  },
  {
   "cell_type": "markdown",
   "id": "ed6e28a2",
   "metadata": {
    "id": "ed6e28a2"
   },
   "source": [
    "#### Work phone ownership ratio"
   ]
  },
  {
   "cell_type": "code",
   "execution_count": null,
   "id": "610a9223",
   "metadata": {
    "colab": {
     "base_uri": "https://localhost:8080/"
    },
    "id": "610a9223",
    "outputId": "787b76b9-1419-45bc-f8e1-4bb5b387ae35"
   },
   "outputs": [],
   "source": [
    "size_work_phone = application_train_copy['Has a work phone'].value_counts().values\n",
    "size_work_phone"
   ]
  },
  {
   "cell_type": "code",
   "execution_count": null,
   "id": "092786b7",
   "metadata": {
    "colab": {
     "base_uri": "https://localhost:8080/",
     "height": 264
    },
    "id": "092786b7",
    "outputId": "2722ca45-30c4-4bfa-e37a-5051c759b0b2"
   },
   "outputs": [],
   "source": [
    "plt.pie(size_work_phone,labels=[\"Does not own a work phone\",\"Own a work phone\"],autopct='%1.0f%%')\n",
    "plt.title('Work phone owner ratio')\n",
    "plt.show()"
   ]
  },
  {
   "cell_type": "markdown",
   "id": "ace76566",
   "metadata": {
    "id": "ace76566"
   },
   "source": [
    "#### Work phone  ownership count"
   ]
  },
  {
   "cell_type": "code",
   "execution_count": null,
   "id": "410a3275",
   "metadata": {
    "colab": {
     "base_uri": "https://localhost:8080/",
     "height": 294
    },
    "id": "410a3275",
    "outputId": "0283e20d-906a-4855-fafa-76ce175760ac"
   },
   "outputs": [],
   "source": [
    "sns.barplot(x=application_train_copy['Has a work phone'].value_counts().index,y=size_work_phone)\n",
    "plt.xlabel(\"Has a work phone\")\n",
    "plt.ylabel(\"Count\")\n",
    "plt.title('Work phone owner count')\n",
    "plt.show()"
   ]
  },
  {
   "cell_type": "markdown",
   "id": "cb1645b2",
   "metadata": {
    "id": "cb1645b2"
   },
   "source": [
    "#### 15. Has a mobile phone"
   ]
  },
  {
   "cell_type": "code",
   "execution_count": null,
   "id": "47945ebf",
   "metadata": {
    "colab": {
     "base_uri": "https://localhost:8080/"
    },
    "id": "47945ebf",
    "outputId": "8e82dbcc-b5cc-4c9a-c9fb-3c553e9eef94"
   },
   "outputs": [],
   "source": [
    "application_train_copy['Has a mobile phone']"
   ]
  },
  {
   "cell_type": "code",
   "execution_count": null,
   "id": "b1f78292",
   "metadata": {
    "colab": {
     "base_uri": "https://localhost:8080/"
    },
    "id": "b1f78292",
    "outputId": "5fe7ecd0-653f-45d8-c8b1-9e20e94f021d"
   },
   "outputs": [],
   "source": [
    "application_train_copy['Has a mobile phone'].unique()"
   ]
  },
  {
   "cell_type": "code",
   "execution_count": null,
   "id": "19f466eb",
   "metadata": {
    "colab": {
     "base_uri": "https://localhost:8080/"
    },
    "id": "19f466eb",
    "outputId": "2d864f8d-be7f-41af-fd7b-3f766565cfa2"
   },
   "outputs": [],
   "source": [
    "application_train_copy['Has a mobile phone'].value_counts()"
   ]
  },
  {
   "cell_type": "code",
   "execution_count": null,
   "id": "126743b9",
   "metadata": {
    "colab": {
     "base_uri": "https://localhost:8080/",
     "height": 264
    },
    "id": "126743b9",
    "outputId": "c5ca2a48-c07d-4777-fd27-8fdddedc671f"
   },
   "outputs": [],
   "source": [
    "size_mobile_own = application_train_copy['Has a mobile phone'].value_counts().values\n",
    "size_mobile_own\n",
    "plt.pie(size_mobile_own,labels=[\"Own a mobile phone\"],autopct='%1.0f%%')\n",
    "plt.title('Mobile owner ratio')\n",
    "plt.show()"
   ]
  },
  {
   "cell_type": "markdown",
   "id": "9f450bf4",
   "metadata": {
    "id": "9f450bf4"
   },
   "source": [
    "#### 16. Has a phone"
   ]
  },
  {
   "cell_type": "code",
   "execution_count": null,
   "id": "e38bb77d",
   "metadata": {
    "colab": {
     "base_uri": "https://localhost:8080/"
    },
    "id": "e38bb77d",
    "outputId": "0b91a895-290f-4368-e3b2-ac8eac93bc14"
   },
   "outputs": [],
   "source": [
    "application_train_copy['Has a phone'].value_counts(normalize=True) * 100"
   ]
  },
  {
   "cell_type": "markdown",
   "id": "f555dc4e",
   "metadata": {
    "id": "f555dc4e"
   },
   "source": [
    "#### Phone ownership ratio"
   ]
  },
  {
   "cell_type": "code",
   "execution_count": null,
   "id": "936e3546",
   "metadata": {
    "colab": {
     "base_uri": "https://localhost:8080/"
    },
    "id": "936e3546",
    "outputId": "7d8c25c0-003a-4493-d394-d31f2d73efc7"
   },
   "outputs": [],
   "source": [
    "size_phone_own = application_train_copy['Has a phone'].value_counts().values\n",
    "size_phone_own"
   ]
  },
  {
   "cell_type": "code",
   "execution_count": null,
   "id": "68b6d19f",
   "metadata": {
    "colab": {
     "base_uri": "https://localhost:8080/",
     "height": 264
    },
    "id": "68b6d19f",
    "outputId": "1c36179c-3ee9-4be7-97ba-523a198b2776"
   },
   "outputs": [],
   "source": [
    "plt.pie(size_phone_own,labels=[\"Does not own a phone\",\"Own a phone\"],autopct='%1.0f%%')\n",
    "plt.title('Phone owner ratio')\n",
    "plt.show()"
   ]
  },
  {
   "cell_type": "markdown",
   "id": "eb806e61",
   "metadata": {
    "id": "eb806e61"
   },
   "source": [
    "#### Phone ownership count"
   ]
  },
  {
   "cell_type": "code",
   "execution_count": null,
   "id": "5dbb1a6e",
   "metadata": {
    "colab": {
     "base_uri": "https://localhost:8080/",
     "height": 294
    },
    "id": "5dbb1a6e",
    "outputId": "e8767bd7-4239-4f9c-8a34-d63a21368b0d"
   },
   "outputs": [],
   "source": [
    "sns.barplot(x=application_train_copy['Has a phone'].value_counts().index,y=size_phone_own)\n",
    "plt.xlabel(\"Has a phone\")\n",
    "plt.ylabel(\"Count\")\n",
    "plt.title('Phone owner count')\n",
    "plt.show()"
   ]
  },
  {
   "cell_type": "markdown",
   "id": "d1748834",
   "metadata": {
    "id": "d1748834",
    "scrolled": false
   },
   "source": [
    "#### 17. Has an email"
   ]
  },
  {
   "cell_type": "code",
   "execution_count": null,
   "id": "d109a1de",
   "metadata": {
    "colab": {
     "base_uri": "https://localhost:8080/"
    },
    "id": "d109a1de",
    "outputId": "aec84aa2-8029-4fca-ba8b-0c9f22e3c7e0"
   },
   "outputs": [],
   "source": [
    "application_train_copy['Has an email'].value_counts()"
   ]
  },
  {
   "cell_type": "code",
   "execution_count": null,
   "id": "63cf64ee",
   "metadata": {
    "colab": {
     "base_uri": "https://localhost:8080/"
    },
    "id": "63cf64ee",
    "outputId": "d4a1112c-9414-4220-a69b-80023f8eb7c8"
   },
   "outputs": [],
   "source": [
    "application_train_copy['Has an email'].value_counts()"
   ]
  },
  {
   "cell_type": "code",
   "execution_count": null,
   "id": "c2798a6e",
   "metadata": {
    "colab": {
     "base_uri": "https://localhost:8080/"
    },
    "id": "c2798a6e",
    "outputId": "4e3928db-5b7e-444f-cf3e-79957a88c0df"
   },
   "outputs": [],
   "source": [
    "application_train_copy['Has an email'].value_counts(normalize=True) * 100"
   ]
  },
  {
   "cell_type": "markdown",
   "id": "f63b875d",
   "metadata": {
    "id": "f63b875d"
   },
   "source": [
    "#### Email ownership ratio"
   ]
  },
  {
   "cell_type": "code",
   "execution_count": null,
   "id": "95f1ed5d",
   "metadata": {
    "colab": {
     "base_uri": "https://localhost:8080/"
    },
    "id": "95f1ed5d",
    "outputId": "48506733-34b4-4632-d67f-8a3812c227df"
   },
   "outputs": [],
   "source": [
    "size_email_own = application_train_copy['Has an email'].value_counts().values\n",
    "size_email_own"
   ]
  },
  {
   "cell_type": "code",
   "execution_count": null,
   "id": "ca0afc51",
   "metadata": {
    "colab": {
     "base_uri": "https://localhost:8080/",
     "height": 264
    },
    "id": "ca0afc51",
    "outputId": "cf136d71-06d2-4ea8-e7c8-13478da72d9b"
   },
   "outputs": [],
   "source": [
    "plt.pie(size_email_own,labels=[\"Does not have an email\",\"Have an email\"],autopct='%1.0f%%')\n",
    "plt.title('Email owner ratio')\n",
    "plt.show()"
   ]
  },
  {
   "cell_type": "markdown",
   "id": "6332ec87",
   "metadata": {
    "id": "6332ec87"
   },
   "source": [
    "#### Email ownership count"
   ]
  },
  {
   "cell_type": "code",
   "execution_count": null,
   "id": "bc6c8ecb",
   "metadata": {
    "colab": {
     "base_uri": "https://localhost:8080/",
     "height": 294
    },
    "id": "bc6c8ecb",
    "outputId": "eeeafc9c-c0a8-411a-d826-387cdc7bdc29"
   },
   "outputs": [],
   "source": [
    "sns.barplot(x=application_train_copy['Has an email'].value_counts().index,y=size_email_own)\n",
    "plt.xlabel(\"Has an email\")\n",
    "plt.ylabel(\"Count\")\n",
    "plt.title('Car owner count')\n",
    "plt.show()"
   ]
  },
  {
   "cell_type": "markdown",
   "id": "c0aa8747",
   "metadata": {
    "id": "c0aa8747"
   },
   "source": [
    "#### 4. For supervised learning tasks, identify the target attribute(s)."
   ]
  },
  {
   "cell_type": "markdown",
   "id": "cf156842",
   "metadata": {
    "id": "cf156842"
   },
   "source": [
    "The target 'Is high risk'"
   ]
  },
  {
   "cell_type": "markdown",
   "id": "8bb847e2",
   "metadata": {
    "id": "8bb847e2"
   },
   "source": [
    "#### Target analysis"
   ]
  },
  {
   "cell_type": "code",
   "execution_count": null,
   "id": "ad3ebc02",
   "metadata": {
    "colab": {
     "base_uri": "https://localhost:8080/"
    },
    "id": "ad3ebc02",
    "outputId": "5a071f1a-937d-4f23-a1a5-7bf56affc767"
   },
   "outputs": [],
   "source": [
    "high_risk_count = application_train_copy['Is high risk'].value_counts()\n",
    "high_risk_count "
   ]
  },
  {
   "cell_type": "code",
   "execution_count": null,
   "id": "0b7a59e8",
   "metadata": {
    "colab": {
     "base_uri": "https://localhost:8080/"
    },
    "id": "0b7a59e8",
    "outputId": "24340f01-4ce4-4542-9b5d-49765eea1b9b"
   },
   "outputs": [],
   "source": [
    "high_risk_ratio = application_train_copy['Is high risk'].value_counts(normalize=True) * 100\n",
    "high_risk_ratio "
   ]
  },
  {
   "cell_type": "code",
   "execution_count": null,
   "id": "e69670d9",
   "metadata": {
    "colab": {
     "base_uri": "https://localhost:8080/",
     "height": 264
    },
    "id": "e69670d9",
    "outputId": "223fb634-00e2-4ffd-867e-f9cbff2604f6"
   },
   "outputs": [],
   "source": [
    "plt.pie(high_risk_ratio,labels=[\"No\",\"Yes\"],autopct='%1.0f%%')\n",
    "plt.title('High risk ratio')\n",
    "plt.show()"
   ]
  },
  {
   "cell_type": "code",
   "execution_count": null,
   "id": "b0fc4bdf",
   "metadata": {
    "colab": {
     "base_uri": "https://localhost:8080/",
     "height": 294
    },
    "id": "b0fc4bdf",
    "outputId": "9ea7c383-8967-4449-e076-5d99aacbffc1"
   },
   "outputs": [],
   "source": [
    "fig, ax = plt.subplots()\n",
    "sns.barplot(x=high_risk_count.index,y=high_risk_count.values)\n",
    "ax.set_xticklabels(['No','Yes'])\n",
    "plt.xlabel(\"High risk\")\n",
    "plt.ylabel(\"Count\")\n",
    "plt.title('High risk count')\n",
    "plt.show()"
   ]
  },
  {
   "cell_type": "markdown",
   "id": "22d23e86",
   "metadata": {
    "id": "22d23e86"
   },
   "source": [
    "#### 5. Visualize the correlation within the data."
   ]
  },
  {
   "cell_type": "code",
   "execution_count": null,
   "id": "b105f54f",
   "metadata": {
    "colab": {
     "base_uri": "https://localhost:8080/",
     "height": 1000
    },
    "id": "b105f54f",
    "outputId": "7385ef0a-46f5-4d16-b66f-c43513b2225c"
   },
   "outputs": [],
   "source": [
    "sns.pairplot(application_train_copy[['Days since birth','Family size','Children count','Income','Days since employment (positive means unemployed)','Is high risk']],corner=True)\n",
    "plt.show()"
   ]
  },
  {
   "cell_type": "code",
   "execution_count": null,
   "id": "e44c0417",
   "metadata": {
    "colab": {
     "base_uri": "https://localhost:8080/",
     "height": 450
    },
    "id": "e44c0417",
    "outputId": "7b3be2fb-2568-4899-dc01-4b977cc074f2"
   },
   "outputs": [],
   "source": [
    "app_corr_matrix = application_train_copy.corr()\n",
    "app_corr_matrix"
   ]
  },
  {
   "cell_type": "code",
   "execution_count": null,
   "id": "082369a7",
   "metadata": {
    "colab": {
     "base_uri": "https://localhost:8080/",
     "height": 466
    },
    "id": "082369a7",
    "outputId": "da1206d2-5195-42ea-bb55-926cebc579e9"
   },
   "outputs": [],
   "source": [
    "mask = np.zeros_like(app_corr_matrix, dtype=bool)\n",
    "mask[np.triu_indices_from(mask)] = True\n",
    "app_corr_matrix[mask] = np.nan\n",
    "(app_corr_matrix\n",
    " .style\n",
    " .background_gradient(cmap='bwr', axis=None, vmin=-1, vmax=1)\n",
    " .highlight_null(null_color='#f1f1f1')  \n",
    ")"
   ]
  },
  {
   "cell_type": "markdown",
   "id": "b2f11d79",
   "metadata": {
    "id": "b2f11d79"
   },
   "source": [
    "#### 6. Study the correlations between attributes."
   ]
  },
  {
   "cell_type": "markdown",
   "id": "9f3b29fe",
   "metadata": {
    "id": "9f3b29fe"
   },
   "source": [
    "#### 6.1 Family size vs Children count"
   ]
  },
  {
   "cell_type": "code",
   "execution_count": null,
   "id": "6a901a29",
   "metadata": {
    "colab": {
     "base_uri": "https://localhost:8080/",
     "height": 278
    },
    "id": "6a901a29",
    "outputId": "1bf1ea26-e606-4556-cda6-1c214fa403c0"
   },
   "outputs": [],
   "source": [
    "sns.regplot(x=application_train_copy['Family size'],y=application_train_copy['Children count'],line_kws={\"color\": \"red\"})\n",
    "plt.show()"
   ]
  },
  {
   "cell_type": "markdown",
   "id": "829c1a9c",
   "metadata": {
    "id": "829c1a9c"
   },
   "source": [
    "#### Days since birth vs Days since employment"
   ]
  },
  {
   "cell_type": "code",
   "execution_count": null,
   "id": "5030cd12",
   "metadata": {
    "colab": {
     "base_uri": "https://localhost:8080/",
     "height": 278
    },
    "id": "5030cd12",
    "outputId": "b8b22b3e-4e1c-4497-98ea-dc1aee2da16d"
   },
   "outputs": [],
   "source": [
    "sns.scatterplot(x=application_train_copy['Days since employment (positive means unemployed)'][application_train_copy['Days since employment (positive means unemployed)'] != 365243],y=application_train_copy['Days since birth'],alpha=.1)\n",
    "plt.show()"
   ]
  },
  {
   "cell_type": "markdown",
   "id": "2e536aa3",
   "metadata": {
    "id": "2e536aa3"
   },
   "source": [
    "#### 7. Study how you would solve the problem manually."
   ]
  },
  {
   "cell_type": "markdown",
   "id": "89f858c9",
   "metadata": {
    "id": "89f858c9"
   },
   "source": [
    "Consult expert subject matter in credit scoring"
   ]
  },
  {
   "cell_type": "markdown",
   "id": "fc69fb6a",
   "metadata": {
    "id": "fc69fb6a"
   },
   "source": [
    "#### 8. Identify the promising transformations you may want to apply."
   ]
  },
  {
   "cell_type": "markdown",
   "id": "d2dec737",
   "metadata": {
    "id": "d2dec737"
   },
   "source": [
    "Transformation to do:\n",
    "\n",
    "    - Encoding: Label encoding for sex\n",
    "    - Encoding: Label encoding for Marital Status\n",
    "    - Encoding: Label encoding for Way of living\n",
    "    - Encoding: Label encoding for Occupation\n",
    "    - Encoding: Label encoding for Has a car\n",
    "    - Encoding: Label encoding for Has a property\n",
    "    - Encoding: Label encoding for Income Category\n",
    "    - Encoding: Label encoding for Education\n",
    "    \n",
    "    - Custom Transformation: Detect and remove outliers\n",
    "    - Custom Transformation: Remove missing data\n",
    "    - Custom Transformation: Balance the data in pipeline\n",
    "    - Custom Transformation: Change to absolute value and divide the Days since birth by 365.25\n",
    "    - Custom Transformation: Change name Days since birth to Age\n",
    "    - Custom Transformation: Change to absolute value and divide the Days since employment by 365.25\n",
    "    - Custom Transformation: Change name Days since employment to Experience length\n",
    "    - Custom Transformation: Drop has mobile phone\n",
    "    - Customer Transformation: Balance the skewed data income column, age, experience length\n",
    "   \n",
    "        ** Toggle and check with model perfomance\n",
    "    - Custom Transformation: Keep Family size and drop Children count \n",
    "    - Custom Transformation: Keep Children count and drop Family size\n",
    "    - Custom Transformation: Keep/drop the occupation column\n",
    "    - Custom Transformation: Use Days of employment as part of the outliers column\n",
    "    \n",
    "    \n",
    "    - Scalling: Min-max for Age\n",
    "    - Scalling: Min-max for income\n",
    "    - Scalling: Min-max for Experience   \n",
    "    \n",
    "    \n",
    "    - Imputation: Impute Occupation\n",
    "   \n",
    "    - Oversample with SMOTE after encoding before modelling  "
   ]
  },
  {
   "cell_type": "markdown",
   "id": "adc52e6f",
   "metadata": {
    "id": "adc52e6f"
   },
   "source": [
    "#### 9. Identify extra data that would be useful (go back to “Get the Data”)."
   ]
  },
  {
   "cell_type": "markdown",
   "id": "8682e3a6",
   "metadata": {
    "id": "8682e3a6"
   },
   "source": [
    "Not applicable"
   ]
  },
  {
   "cell_type": "markdown",
   "id": "542165dc",
   "metadata": {
    "id": "542165dc"
   },
   "source": [
    "#### 10. Document what you have learned."
   ]
  },
  {
   "cell_type": "markdown",
   "id": "4e09be2f",
   "metadata": {
    "id": "4e09be2f"
   },
   "source": [
    "Refer to the report"
   ]
  },
  {
   "cell_type": "markdown",
   "id": "c68a5f50",
   "metadata": {
    "id": "c68a5f50"
   },
   "source": [
    "### Prepare the Data"
   ]
  },
  {
   "cell_type": "markdown",
   "id": "1820631d",
   "metadata": {
    "id": "1820631d"
   },
   "source": [
    "#### 1. Data Cleaning"
   ]
  },
  {
   "cell_type": "markdown",
   "id": "fa853213",
   "metadata": {
    "id": "fa853213"
   },
   "source": [
    "#### 1.1 Custom transformer to handle outliers"
   ]
  },
  {
   "cell_type": "code",
   "execution_count": null,
   "id": "0e2d1e14",
   "metadata": {
    "id": "0e2d1e14"
   },
   "outputs": [],
   "source": [
    "class OutlierExtractor(BaseEstimator, TransformerMixin):\n",
    "    def __init__(self,add_days_employed_to_col=False,outlier_col = ['Family size','Children count','Income']):\n",
    "        self.outlier_col = outlier_col\n",
    "        self.add_days_employed_to_col = add_days_employed_to_col\n",
    "    def fit(self,X,y=None):\n",
    "        return self\n",
    "    def transform(self,X,y=None):\n",
    "        outlier_col = []\n",
    "        def outlier_cal(outlier_col):\n",
    "            Q1 = X[self.outlier_col].quantile(.25)\n",
    "            Q3 = X[self.outlier_col].quantile(.75)\n",
    "            IQR = Q3 - Q1\n",
    "            outlier_condition = (X[self.outlier_col] < (Q1 - 1.5 * IQR)) | (X[self.outlier_col] > (Q3 + 1.5 * IQR))\n",
    "            index_to_keep = X[~outlier_condition.any(axis=1)].index\n",
    "            return X.loc[index_to_keep]\n",
    "        if self.add_days_employed_to_col:\n",
    "            self.outlier_col.append('Days since employment (positive means unemployed)')\n",
    "            return outlier_cal(self.outlier_col)\n",
    "        else:\n",
    "            if len(self.outlier_col) == 3:\n",
    "                return outlier_cal(self.outlier_col)\n",
    "            else:\n",
    "                self.outlier_col.remove('Days since employment (positive means unemployed)')\n",
    "                return outlier_cal(self.outlier_col)"
   ]
  },
  {
   "cell_type": "code",
   "execution_count": null,
   "id": "508b6a10",
   "metadata": {
    "id": "508b6a10"
   },
   "outputs": [],
   "source": [
    "outlier_remover = OutlierExtractor()"
   ]
  },
  {
   "cell_type": "markdown",
   "id": "4802cb32",
   "metadata": {
    "id": "4802cb32"
   },
   "source": [
    "#### 1.2 Custom transformer to handle missing value"
   ]
  },
  {
   "cell_type": "code",
   "execution_count": null,
   "id": "22322f27",
   "metadata": {
    "colab": {
     "base_uri": "https://localhost:8080/"
    },
    "id": "22322f27",
    "outputId": "4d763c83-304f-45fe-d5ec-7e56a01de9a7"
   },
   "outputs": [],
   "source": [
    "application_train_copy[application_train_copy['Days since employment (positive means unemployed)'] == 365243]['Occupation']"
   ]
  },
  {
   "cell_type": "code",
   "execution_count": null,
   "id": "25ca027d",
   "metadata": {
    "colab": {
     "base_uri": "https://localhost:8080/"
    },
    "id": "25ca027d",
    "outputId": "61dd5b8e-0383-43c7-f0e5-00c30eb01a38"
   },
   "outputs": [],
   "source": [
    "application_train[\"Occupation\"].value_counts()"
   ]
  },
  {
   "cell_type": "code",
   "execution_count": null,
   "id": "5b8f387a",
   "metadata": {
    "id": "5b8f387a"
   },
   "outputs": [],
   "source": [
    "class MissingValHandler(BaseEstimator, TransformerMixin):\n",
    "    def __init__(self,drop_occupation=False):\n",
    "        self.drop_occupation = drop_occupation\n",
    "    def fit(self,X,y=None):\n",
    "        return self\n",
    "    def transform(self,X,y=None):\n",
    "        if self.drop_occupation:\n",
    "            X_no_occ = X.drop(\"Occupation\",axis=1)\n",
    "            return X_no_occ\n",
    "        else:\n",
    "            nan_pensioner = X[X['Days since employment (positive means unemployed)'] == 365243]['Occupation']\n",
    "            nan_pensioner_idx = X.loc[nan_pensioner.index.to_list()]['Occupation'].index.to_list()\n",
    "            X.at[nan_pensioner_idx,'Occupation'] = 'Retired'\n",
    "            #rest of nan other than the ones related to the retiment situation\n",
    "            rest_nan_idx = X['Occupation'][X['Occupation'].isna()].index.to_list()\n",
    "            most_freq_occ = X['Occupation'].value_counts().index[0]\n",
    "            X['Occupation'].loc[rest_nan_idx] = most_freq_occ\n",
    "            return X"
   ]
  },
  {
   "cell_type": "markdown",
   "id": "1bdc73b4",
   "metadata": {
    "id": "1bdc73b4"
   },
   "source": [
    "#### 2. Feature selection"
   ]
  },
  {
   "cell_type": "code",
   "execution_count": null,
   "id": "ae90dd37",
   "metadata": {
    "id": "ae90dd37"
   },
   "outputs": [],
   "source": [
    "application_train_copy = application_train.copy()"
   ]
  },
  {
   "cell_type": "code",
   "execution_count": null,
   "id": "7fa64ed8",
   "metadata": {
    "id": "7fa64ed8"
   },
   "outputs": [],
   "source": [
    "class ColumnsToDrop(BaseEstimator,TransformerMixin):\n",
    "    def __init__(self,column_to_drop = []):\n",
    "        self.column_to_drop = column_to_drop\n",
    "    def fit(self,X,y=None):\n",
    "        return self\n",
    "    def transform(self,X,y=None):\n",
    "        if (set(self.column_to_drop).issubset(X.columns)):\n",
    "                self.column_to_drop.append('Has a mobile phone')\n",
    "                X.drop(self.column_to_drop,axis=1,inplace=True)\n",
    "                return X\n",
    "        else:\n",
    "            if (set('Has a mobile phone').issubset(X.columns)):\n",
    "                X.drop('Has a mobile phone',axis=1,inplace=True)\n",
    "                return X\n",
    "            else:\n",
    "                return X"
   ]
  },
  {
   "cell_type": "code",
   "execution_count": null,
   "id": "bb7a89a6",
   "metadata": {
    "id": "bb7a89a6"
   },
   "outputs": [],
   "source": [
    "feat_selector = ColumnsToDrop()"
   ]
  },
  {
   "cell_type": "markdown",
   "id": "59d18a0f",
   "metadata": {
    "id": "59d18a0f"
   },
   "source": [
    "#### 3. Feature engineering"
   ]
  },
  {
   "cell_type": "markdown",
   "id": "719010d1",
   "metadata": {
    "id": "719010d1"
   },
   "source": [
    "#### 3.1 Days transformation"
   ]
  },
  {
   "cell_type": "code",
   "execution_count": null,
   "id": "ab21b226",
   "metadata": {
    "id": "ab21b226"
   },
   "outputs": [],
   "source": [
    "class DaysTransformation(BaseEstimator,TransformerMixin):\n",
    "    def __init__(self):\n",
    "        self.days_col = ['Days since birth','Days since employment (positive means unemployed)']\n",
    "    def fit(self,X,y=None):\n",
    "        return self\n",
    "    def transform(self,X,y=None):\n",
    "        if (set(self.days_col).issubset(X.columns)):\n",
    "            for col in self.days_col:\n",
    "                if col == 'Days since birth':\n",
    "                    X['Age'] = np.abs(X[col])/365.25\n",
    "                    X.drop(col,axis=1,inplace=True)\n",
    "                elif col == 'Days since employment (positive means unemployed)':\n",
    "                    X[col] = np.abs(X[col])/365.25\n",
    "                    X[X[col] == 999.980][col] = -1\n",
    "                    X['Employment lenght (in years)'] = X[col]\n",
    "                    X.drop(col,axis=1,inplace=True)\n",
    "            return X\n",
    "        else:\n",
    "            return X"
   ]
  },
  {
   "cell_type": "code",
   "execution_count": null,
   "id": "4084aab8",
   "metadata": {
    "id": "4084aab8"
   },
   "outputs": [],
   "source": [
    "day_col_est = DaysTransformation()"
   ]
  },
  {
   "cell_type": "markdown",
   "id": "9bfabb3c",
   "metadata": {
    "id": "9bfabb3c"
   },
   "source": [
    "#### 3.2 Family children column drop"
   ]
  },
  {
   "cell_type": "code",
   "execution_count": null,
   "id": "7b83b6bb",
   "metadata": {
    "id": "7b83b6bb"
   },
   "outputs": [],
   "source": [
    "class FamilyChildrenColToggle(BaseEstimator,TransformerMixin):\n",
    "    def __init__(self, drop_family_col = False, drop_child_col = False):\n",
    "        self.drop_family_col = drop_family_col\n",
    "        self.drop_child_col = drop_child_col\n",
    "    def fit(self,X,y=None):\n",
    "        return self\n",
    "    def transform(self,X,y=None):\n",
    "        if self.drop_family_col & ('Family size' in X.columns):\n",
    "            X.drop('Family size',axis=1,inplace=True) \n",
    "            return X \n",
    "        elif self.drop_child_col & ('Children count' in X.columns):\n",
    "            X.drop('Children count',axis=1,inplace=True) \n",
    "            return X\n",
    "        else:\n",
    "            return X        "
   ]
  },
  {
   "cell_type": "markdown",
   "id": "f8688612",
   "metadata": {
    "id": "f8688612"
   },
   "source": [
    "#### 3.3 Oversampling with SMOTE"
   ]
  },
  {
   "cell_type": "code",
   "execution_count": null,
   "id": "007ecb0a",
   "metadata": {
    "id": "007ecb0a"
   },
   "outputs": [],
   "source": [
    "class OversampleSMOTE(BaseEstimator,TransformerMixin):\n",
    "    def __init__(self, perform_oversampling = True):\n",
    "        self.perform_oversampling = perform_oversampling\n",
    "    def fit(self,X,y=None):\n",
    "        return self\n",
    "    def transform(self,X,y=None):\n",
    "        if self.perform_oversampling:\n",
    "            smote = SMOTE()\n",
    "            X_bal, y_bal = smote.fit_resample(X[:,:-1],X[:,-1])\n",
    "            X_y_bal = np.concatenate((X_bal,y_bal[:,None]),axis=1)\n",
    "            return X_y_bal\n",
    "\n",
    "        else:\n",
    "            return X"
   ]
  },
  {
   "cell_type": "markdown",
   "id": "f03e31ec",
   "metadata": {
    "id": "f03e31ec"
   },
   "source": [
    "#### 3.4 Target transformation column "
   ]
  },
  {
   "cell_type": "code",
   "execution_count": null,
   "id": "00d3195c",
   "metadata": {
    "id": "00d3195c"
   },
   "outputs": [],
   "source": [
    "class TargetColTransformation(BaseEstimator,TransformerMixin):\n",
    "    def __init__(self,target_pos_change = False,target_drop = False):\n",
    "        self.target_pos_change = target_pos_change\n",
    "        self.target_drop = target_drop\n",
    "    def fit(self,X,y=None):\n",
    "        return self\n",
    "    def transform(self,X,y=None):\n",
    "        if self.target_drop:\n",
    "            if self.target_pos_change == False:\n",
    "                X_col_list = X.columns.to_list()\n",
    "                X_col_list.remove('Is high risk')\n",
    "                X = X[X_col_list]\n",
    "                return X\n",
    "            else:\n",
    "                print('Cant change the position of the target while it was dropped')\n",
    "                return X\n",
    "        else:\n",
    "            if self.target_pos_change:\n",
    "                X_col_list = X.columns.to_list()\n",
    "                X_col_list.remove('Is high risk')\n",
    "                X_col_list.append('Is high risk')\n",
    "                X = X[X_col_list]\n",
    "                return X\n",
    "            else:\n",
    "                return X"
   ]
  },
  {
   "cell_type": "markdown",
   "id": "a341a4d9",
   "metadata": {
    "id": "a341a4d9"
   },
   "source": [
    "#### 4. Feature scaling"
   ]
  },
  {
   "cell_type": "markdown",
   "id": "890c78f8",
   "metadata": {
    "id": "890c78f8"
   },
   "source": [
    "Implemented with Column Transformer, but we will create a feature selector for selection the column to be scaled"
   ]
  },
  {
   "cell_type": "markdown",
   "id": "bf224df0",
   "metadata": {
    "id": "bf224df0"
   },
   "source": [
    "#### 5. Put everything together in a column transformer/pipeline"
   ]
  },
  {
   "cell_type": "code",
   "execution_count": null,
   "id": "79d93251",
   "metadata": {
    "id": "79d93251"
   },
   "outputs": [],
   "source": [
    "application_train_copy = application_train.copy()\n",
    "application_test_copy = application_test.copy()"
   ]
  },
  {
   "cell_type": "code",
   "execution_count": null,
   "id": "5d8dbff9",
   "metadata": {
    "id": "5d8dbff9"
   },
   "outputs": [],
   "source": [
    "def full_pipeline(df,type_dataframe):\n",
    "    #columns to use in the column transformer\n",
    "    enc_columns = ['Sex','Marital status','Way of living','Occupation','Has a car','Has a property','Income category','Education level']\n",
    "    scale_columns = ['Age','Income','Employment lenght (in years)']\n",
    "\n",
    "    #pipeline \n",
    "    if type_dataframe == 'Train':\n",
    "        pipeline = Pipeline([\n",
    "        ('imputer_missing',MissingValHandler()), #Has toggle option\n",
    "         ('outlier',OutlierExtractor()), #Has toggle option\n",
    "         ('feat_select',ColumnsToDrop()), #Has toggle option\n",
    "         ('day_trans',DaysTransformation()),\n",
    "         ('family_chil_trans',FamilyChildrenColToggle()), #Has toggle option\n",
    "         ('y_trans',TargetColTransformation(target_pos_change = True))\n",
    "        ])\n",
    "        #Column transformer\n",
    "        col_transformer = ColumnTransformer([\n",
    "         ('encoder',OrdinalEncoder(),enc_columns),\n",
    "         ('scaler',MinMaxScaler(),scale_columns),], remainder='passthrough')\n",
    "\n",
    "    #     #pipeline for SMOTE\n",
    "        pipeline_smote = Pipeline([\n",
    "         ('smote',OversampleSMOTE())\n",
    "         ])\n",
    "    elif type_dataframe == 'Test':\n",
    "        pipeline = Pipeline([\n",
    "        ('imputer_missing',MissingValHandler()), #Has toggle option\n",
    "        ('outlier',OutlierExtractor()), #Has toggle option\n",
    "        ('feat_select',ColumnsToDrop()), #Has toggle option\n",
    "        ('day_trans',DaysTransformation()),\n",
    "        ('family_chil_trans',FamilyChildrenColToggle()), #Has toggle option\n",
    "        # drop the target to avoid data snooping\n",
    "        ('y_trans',TargetColTransformation(target_drop=True))\n",
    "        ])\n",
    "              #Column transformer\n",
    "        col_transformer = ColumnTransformer([\n",
    "        ('encoder',OrdinalEncoder(),enc_columns),\n",
    "        ('scaler',MinMaxScaler(),scale_columns),], remainder='passthrough')\n",
    "\n",
    "        #pipeline for SMOTE\n",
    "        pipeline_smote = Pipeline([\n",
    "        ('smote',OversampleSMOTE())\n",
    "        ])\n",
    "\n",
    "    \n",
    "    \n",
    "    if type_dataframe == 'Train':\n",
    "        df_pip = pipeline.fit_transform(df)\n",
    "        df_prepared = col_transformer.fit_transform(df_pip)\n",
    "        df_bal = pipeline_smote.fit_transform(df_prepared)\n",
    "        X_prep = df_bal[:,:-1]\n",
    "        y_prep = df_bal[:,-1]\n",
    "        return X_prep, y_prep\n",
    "    # ToDo: Finish the test \n",
    "    elif type_dataframe == 'Test':\n",
    "        df_pip = pipeline.transform(df)\n",
    "        print(df_pip.columns)\n",
    "        df_prepared = col_transformer.transform(df_pip)\n",
    "        print(df_prepared.shape)\n",
    "#         df_bal = pipeline_smote.transform(df_prepared)\n",
    "#         print(df_bal.shape)\n",
    "    else:\n",
    "        print('Please select \"Train\" or \"Test\" for type_dataframe')"
   ]
  },
  {
   "cell_type": "code",
   "execution_count": null,
   "id": "6c1af9e4",
   "metadata": {
    "colab": {
     "base_uri": "https://localhost:8080/"
    },
    "id": "6c1af9e4",
    "outputId": "9a1dd706-c934-403b-aff6-ffd6b8248a0e"
   },
   "outputs": [],
   "source": [
    "X_train_prep, y_train_prep = full_pipeline(application_train_copy, 'Train')"
   ]
  },
  {
   "cell_type": "code",
   "execution_count": null,
   "id": "3f0fc946",
   "metadata": {
    "colab": {
     "base_uri": "https://localhost:8080/"
    },
    "id": "3f0fc946",
    "outputId": "e29c1f8d-4d14-4f0b-9372-ba04a108a258"
   },
   "outputs": [],
   "source": [
    "X_train_prep.shape"
   ]
  },
  {
   "cell_type": "code",
   "execution_count": null,
   "id": "8ed7eded",
   "metadata": {
    "colab": {
     "base_uri": "https://localhost:8080/"
    },
    "id": "8ed7eded",
    "outputId": "c81509f5-c973-4861-bb8b-f2fbbee5e758"
   },
   "outputs": [],
   "source": [
    "y_train_prep.shape"
   ]
  },
  {
   "cell_type": "markdown",
   "id": "a58cd98a",
   "metadata": {
    "id": "a58cd98a"
   },
   "source": [
    "### Shortlist Promising Models"
   ]
  },
  {
   "cell_type": "code",
   "execution_count": null,
   "id": "5decc47a",
   "metadata": {
    "code_folding": [],
    "id": "5decc47a"
   },
   "outputs": [],
   "source": [
    "def fit_evaluate_model(model,X_train_prep,y_train_prep,cross_val = False):\n",
    "    \n",
    "    if cross_val:\n",
    "        score_list = ['precision','recall','f1','accuracy','roc_auc']\n",
    "        for score in score_list:\n",
    "            scores = cross_val_score(model,X_train_prep,y_train_prep,scoring=score,cv=10)\n",
    "            print('\\n                        {} Score\\n'.format(score))\n",
    "            print('All the scores: {}'.format(scores))\n",
    "            print('Mean of the scores: {}'.format(scores.mean()))\n",
    "            print('Standard deviation: {}'.format(scores.std()))\n",
    "            print('\\n*****************************************************\\n')\n",
    "        \n",
    "    else:\n",
    "        model.fit(X_train_prep, y_train_prep)\n",
    "        y_train_prediction = model.predict(X_train_prep)\n",
    "\n",
    "        print('                        Classification Report')\n",
    "        print(classification_report(y_train_prep,y_train_prediction))\n",
    "        print('*****************************************************')\n",
    "\n",
    "        print('Accuracy score {}'.format(accuracy_score(y_train_prep,y_train_prediction)))\n",
    "        print('Confusion Matrix')\n",
    "        plot_confusion_matrix(model,X_train_prep,y_train_prep)\n",
    "        plt.show()\n",
    "        print('*****************************************************')\n",
    "\n",
    "        no_risk_probs = [0 for _ in range(len(y_train_prep))]\n",
    "        risk_probs = model.predict_proba(X_train_prep)\n",
    "        risk_probs_pos_outcome = risk_probs[:,1]\n",
    "        no_risk_auc = roc_auc_score(y_train_prep,no_risk_probs)\n",
    "        risk_auc = roc_auc_score(y_train_prep,risk_probs_pos_outcome)\n",
    "        print('No risk: ROC AUC=%.3f' % (no_risk_auc))\n",
    "        print('High risk: ROC AUC=%.3f' % (risk_auc))\n",
    "        no_risk_false_pos_rate, no_risk_true_pos_rate, _ = roc_curve(y_train_prep,no_risk_probs)\n",
    "        risk_false_pos_rate, risk_true_pos_rate, _ = roc_curve(y_train_prep,risk_probs_pos_outcome)\n",
    "        plt.plot(no_risk_false_pos_rate, no_risk_true_pos_rate, linestyle='--', label='No risk')\n",
    "        plt.plot(risk_false_pos_rate, risk_true_pos_rate, marker='.', label='High risk')\n",
    "        # axis labels\n",
    "        plt.xlabel('False Positive Rate')\n",
    "        plt.ylabel('True Positive Rate')\n",
    "        plt.title('ROC curve')\n",
    "        # show the legend\n",
    "        plt.legend()\n",
    "        # show the plot\n",
    "        plt.show()"
   ]
  },
  {
   "cell_type": "markdown",
   "id": "e3ef0138",
   "metadata": {
    "id": "e3ef0138"
   },
   "source": [
    "#### 1. Quick models comparison"
   ]
  },
  {
   "cell_type": "markdown",
   "id": "53427e88",
   "metadata": {
    "id": "53427e88"
   },
   "source": [
    "#### 1.1 Logistic Regression"
   ]
  },
  {
   "cell_type": "code",
   "execution_count": null,
   "id": "951d165f",
   "metadata": {
    "id": "951d165f"
   },
   "outputs": [],
   "source": [
    "log_reg = LogisticRegression(max_iter=1000)"
   ]
  },
  {
   "cell_type": "code",
   "execution_count": null,
   "id": "c4683466",
   "metadata": {
    "colab": {
     "base_uri": "https://localhost:8080/",
     "height": 852
    },
    "id": "c4683466",
    "outputId": "abc6ec59-9650-4292-b404-9076607482a0"
   },
   "outputs": [],
   "source": [
    "fit_evaluate_model(log_reg,X_train_prep,y_train_prep)\n",
    "warnings.filterwarnings(\"ignore\", category=DeprecationWarning) "
   ]
  },
  {
   "cell_type": "markdown",
   "id": "b56f934f",
   "metadata": {
    "id": "b56f934f"
   },
   "source": [
    "#### 1.2. Support Vector Machines"
   ]
  },
  {
   "cell_type": "code",
   "execution_count": null,
   "id": "501364c5",
   "metadata": {
    "id": "501364c5"
   },
   "outputs": [],
   "source": [
    "svc_model = SVC(probability=True)"
   ]
  },
  {
   "cell_type": "code",
   "execution_count": null,
   "id": "4fc20d69",
   "metadata": {
    "colab": {
     "base_uri": "https://localhost:8080/",
     "height": 852
    },
    "id": "4fc20d69",
    "outputId": "9849e0bf-2927-415f-f208-e2b54ff458c8"
   },
   "outputs": [],
   "source": [
    "fit_evaluate_model(svc_model,X_train_prep,y_train_prep)"
   ]
  },
  {
   "cell_type": "markdown",
   "id": "DFC_XDwiKC6-",
   "metadata": {
    "id": "DFC_XDwiKC6-"
   },
   "source": [
    "#### Hyperparameter tuning SVM"
   ]
  },
  {
   "cell_type": "code",
   "execution_count": null,
   "id": "8ec01a54",
   "metadata": {
    "id": "8ec01a54"
   },
   "outputs": [],
   "source": [
    "param_grid = {'C': [0.1,1, 10, 100,1000], 'gamma': [1,0.1,0.01,0.001,0.0001],'kernel': ['rbf', 'poly', 'sigmoid']}"
   ]
  },
  {
   "cell_type": "code",
   "execution_count": null,
   "id": "e5d388fe",
   "metadata": {
    "id": "e5d388fe"
   },
   "outputs": [],
   "source": [
    "rand_search = RandomizedSearchCV(svc_model,param_grid, refit=True,cv=5,scoring='accuracy',n_jobs=-1,return_train_score=True,verbose=2)"
   ]
  },
  {
   "cell_type": "code",
   "execution_count": null,
   "id": "75b705de",
   "metadata": {
    "colab": {
     "base_uri": "https://localhost:8080/"
    },
    "id": "75b705de",
    "outputId": "6061e8db-1fde-4fab-a75d-07f227689eef"
   },
   "outputs": [],
   "source": [
    "rand_search.fit(X_train_prep,y_train_prep)"
   ]
  },
  {
   "cell_type": "code",
   "execution_count": null,
   "id": "kRhs9xdHVLEo",
   "metadata": {
    "colab": {
     "base_uri": "https://localhost:8080/"
    },
    "id": "kRhs9xdHVLEo",
    "outputId": "5485ef27-5fad-40fe-b103-0f278c41a90e"
   },
   "outputs": [],
   "source": [
    "rand_search.best_estimator_"
   ]
  },
  {
   "cell_type": "code",
   "execution_count": null,
   "id": "Ll4qX82aVUg0",
   "metadata": {
    "colab": {
     "base_uri": "https://localhost:8080/"
    },
    "id": "Ll4qX82aVUg0",
    "outputId": "3254a382-a2ed-49ac-dd30-bf9224409052"
   },
   "outputs": [],
   "source": [
    "rand_search.best_params_"
   ]
  },
  {
   "cell_type": "markdown",
   "id": "bd228d2c",
   "metadata": {
    "id": "bd228d2c"
   },
   "source": [
    "#### 1.3. Decision Tree"
   ]
  },
  {
   "cell_type": "code",
   "execution_count": null,
   "id": "994b3fec",
   "metadata": {
    "id": "994b3fec"
   },
   "outputs": [],
   "source": [
    "dt_clf = DecisionTreeClassifier()"
   ]
  },
  {
   "cell_type": "code",
   "execution_count": null,
   "id": "24c836aa",
   "metadata": {
    "colab": {
     "base_uri": "https://localhost:8080/",
     "height": 852
    },
    "id": "24c836aa",
    "outputId": "133311b4-c8f6-4685-a45c-3d1cd70f3512"
   },
   "outputs": [],
   "source": [
    "fit_evaluate_model(dt_clf,X_train_prep,y_train_prep)"
   ]
  },
  {
   "cell_type": "markdown",
   "id": "d1bf7741",
   "metadata": {
    "id": "d1bf7741"
   },
   "source": [
    "#### * K-fold cross-validation "
   ]
  },
  {
   "cell_type": "code",
   "execution_count": null,
   "id": "c7b1a71c",
   "metadata": {
    "id": "c7b1a71c",
    "outputId": "f9eda65e-1cb3-4c32-9953-623624921482"
   },
   "outputs": [],
   "source": [
    "fit_evaluate_model(dt_clf,X_train_prep,y_train_prep,has_overfitted=True)"
   ]
  },
  {
   "cell_type": "markdown",
   "id": "bb580e40",
   "metadata": {
    "id": "bb580e40"
   },
   "source": [
    "#### * Hyperparameters tuning"
   ]
  },
  {
   "cell_type": "code",
   "execution_count": null,
   "id": "9b9902f4",
   "metadata": {
    "id": "9b9902f4"
   },
   "outputs": [],
   "source": [
    "param_grid = [\n",
    "    {\n",
    "    'max_depth':[2,3,4,6,8,10,12,15,20], \n",
    "    'min_samples_leaf':[1,2,4,6,8,10,20,30],\n",
    "    'min_samples_split':[1,2,3,4,5,6,8,10]\n",
    "    }\n",
    "]"
   ]
  },
  {
   "cell_type": "code",
   "execution_count": null,
   "id": "3f8ed6ae",
   "metadata": {
    "id": "3f8ed6ae"
   },
   "outputs": [],
   "source": [
    "grid_search = GridSearchCV(dt_clf,param_grid,cv=10,scoring='accuracy',n_jobs=-1,return_train_score=True)"
   ]
  },
  {
   "cell_type": "markdown",
   "id": "392a66c6",
   "metadata": {
    "id": "392a66c6"
   },
   "source": [
    "#### * Cost-complexity pruning"
   ]
  },
  {
   "cell_type": "code",
   "execution_count": null,
   "id": "d9f561db",
   "metadata": {
    "id": "d9f561db",
    "outputId": "776e821e-10dc-4a3e-d76f-44fa5ee8ae7d"
   },
   "outputs": [],
   "source": [
    "path = dt_clf.cost_complexity_pruning_path(X_train_prep, y_train_prep)\n",
    "ccp_alphas = path.ccp_alphas\n",
    "ccp_alphas"
   ]
  },
  {
   "cell_type": "code",
   "execution_count": null,
   "id": "a2215bb7",
   "metadata": {
    "id": "a2215bb7"
   },
   "outputs": [],
   "source": [
    "acc_train = []\n",
    "acc_test = []\n",
    "\n",
    "for val in ccp_alphas:\n",
    "  dt_clf = DecisionTreeClassifier(ccp_alpha=val, random_state=42)\n",
    "  dt_clf.fit(X_train_prep, y_train_prep)\n",
    "  y_train_pred = dt_clf.predict(X_train_prep) # Predictions\n",
    "  y_true = y_test # True values\n",
    "  acc_train.append(accuracy_score(y_train, dtclf.predict(X_train)))\n",
    "  acc_test.append(accuracy_score(y_true, y_pred))"
   ]
  },
  {
   "cell_type": "markdown",
   "id": "afa27246",
   "metadata": {
    "id": "afa27246"
   },
   "source": [
    "#### 1.4. Random Forests"
   ]
  },
  {
   "cell_type": "code",
   "execution_count": null,
   "id": "ddc0a6af",
   "metadata": {
    "id": "ddc0a6af"
   },
   "outputs": [],
   "source": [
    "rf_clf = RandomForestClassifier()"
   ]
  },
  {
   "cell_type": "code",
   "execution_count": null,
   "id": "45590e84",
   "metadata": {
    "colab": {
     "base_uri": "https://localhost:8080/",
     "height": 852
    },
    "id": "45590e84",
    "outputId": "40fd1d61-1451-4139-db08-3a9595a9ca73"
   },
   "outputs": [],
   "source": [
    "fit_evaluate_model(rf_clf,X_train_prep,y_train_prep)"
   ]
  },
  {
   "cell_type": "markdown",
   "id": "f3dd9af0",
   "metadata": {
    "id": "f3dd9af0"
   },
   "source": [
    "#### * K-fold cross validation"
   ]
  },
  {
   "cell_type": "code",
   "execution_count": null,
   "id": "2ef7f835",
   "metadata": {
    "id": "2ef7f835",
    "outputId": "93af9823-2b23-45c5-e9bb-3238588eedd9"
   },
   "outputs": [],
   "source": [
    "fit_evaluate_model(rf_clf,X_train_prep,y_train_prep,has_overfitted=True)"
   ]
  },
  {
   "cell_type": "markdown",
   "id": "2b4750da",
   "metadata": {
    "id": "2b4750da"
   },
   "source": [
    "#### 1.5. Gaussian Naive Bayes"
   ]
  },
  {
   "cell_type": "code",
   "execution_count": null,
   "id": "6519090d",
   "metadata": {
    "id": "6519090d"
   },
   "outputs": [],
   "source": [
    "GaussianNB_clf = GaussianNB()"
   ]
  },
  {
   "cell_type": "code",
   "execution_count": null,
   "id": "23cc5174",
   "metadata": {
    "colab": {
     "base_uri": "https://localhost:8080/",
     "height": 852
    },
    "id": "23cc5174",
    "outputId": "00137bf5-60b9-40aa-ae72-ffaf4d63c81e"
   },
   "outputs": [],
   "source": [
    "fit_evaluate_model(GaussianNB_clf,X_train_prep,y_train_prep)"
   ]
  },
  {
   "cell_type": "markdown",
   "id": "0d3e8cac",
   "metadata": {
    "id": "0d3e8cac"
   },
   "source": [
    "#### * K-fold cross-validation "
   ]
  },
  {
   "cell_type": "code",
   "execution_count": null,
   "id": "69673c32",
   "metadata": {
    "id": "69673c32",
    "outputId": "5619103b-846e-4be5-fadc-9546b6e056e8"
   },
   "outputs": [],
   "source": [
    "fit_evaluate_model(GaussianNB_clf,X_train_prep,y_train_prep,cross_val=True)"
   ]
  },
  {
   "cell_type": "markdown",
   "id": "f8f3ae43",
   "metadata": {
    "id": "f8f3ae43"
   },
   "source": [
    "#### 1.6. KNN"
   ]
  },
  {
   "cell_type": "code",
   "execution_count": null,
   "id": "39699f69",
   "metadata": {
    "id": "39699f69"
   },
   "outputs": [],
   "source": [
    "knn_clf = KNeighborsClassifier()"
   ]
  },
  {
   "cell_type": "code",
   "execution_count": null,
   "id": "c706fe27",
   "metadata": {
    "colab": {
     "base_uri": "https://localhost:8080/",
     "height": 852
    },
    "id": "c706fe27",
    "outputId": "bb293009-63f5-4b2d-adda-57a292566ecf"
   },
   "outputs": [],
   "source": [
    "fit_evaluate_model(knn_clf,X_train_prep,y_train_prep)"
   ]
  },
  {
   "cell_type": "markdown",
   "id": "7e9e0265",
   "metadata": {
    "id": "7e9e0265"
   },
   "source": [
    "#### * K-fold cross-validation "
   ]
  },
  {
   "cell_type": "code",
   "execution_count": null,
   "id": "c4376b99",
   "metadata": {
    "id": "c4376b99",
    "outputId": "6fb37640-4552-4e1f-86d9-66123b14051a"
   },
   "outputs": [],
   "source": [
    "fit_evaluate_model(knn_clf,X_train_prep,y_train_prep,cross_val=True)"
   ]
  },
  {
   "cell_type": "markdown",
   "id": "bf36a844",
   "metadata": {
    "id": "bf36a844"
   },
   "source": [
    "#### 1.7. Gradient Boosting"
   ]
  },
  {
   "cell_type": "code",
   "execution_count": null,
   "id": "e0ff20fe",
   "metadata": {
    "id": "e0ff20fe"
   },
   "outputs": [],
   "source": [
    "gboost_clf = GradientBoostingClassifier()"
   ]
  },
  {
   "cell_type": "code",
   "execution_count": null,
   "id": "c812a9c5",
   "metadata": {
    "colab": {
     "base_uri": "https://localhost:8080/",
     "height": 852
    },
    "id": "c812a9c5",
    "outputId": "9936fb32-9fc0-47d4-dc69-1bf288b80afe"
   },
   "outputs": [],
   "source": [
    "fit_evaluate_model(gboost_clf,X_train_prep,y_train_prep)"
   ]
  },
  {
   "cell_type": "markdown",
   "id": "e1323b10",
   "metadata": {
    "id": "e1323b10"
   },
   "source": [
    "#### * K-fold cross validation"
   ]
  },
  {
   "cell_type": "code",
   "execution_count": null,
   "id": "81200b17",
   "metadata": {
    "id": "81200b17",
    "outputId": "bf3b7ab3-dd73-46ca-fc25-795ca2732d89"
   },
   "outputs": [],
   "source": [
    "fit_evaluate_model(gboost_clf,X_train_prep,y_train_prep,has_overfitted=True)"
   ]
  },
  {
   "cell_type": "markdown",
   "id": "e8cdac8a",
   "metadata": {
    "id": "e8cdac8a"
   },
   "source": [
    "#### 1.8. Linear Discriminant Analysis"
   ]
  },
  {
   "cell_type": "code",
   "execution_count": null,
   "id": "f0cc01ed",
   "metadata": {
    "id": "f0cc01ed"
   },
   "outputs": [],
   "source": [
    "lda_clf = LinearDiscriminantAnalysis()"
   ]
  },
  {
   "cell_type": "code",
   "execution_count": null,
   "id": "e81f9f51",
   "metadata": {
    "colab": {
     "base_uri": "https://localhost:8080/",
     "height": 852
    },
    "id": "e81f9f51",
    "outputId": "a239073c-ebc4-459b-fc9d-b256ea7c6be6"
   },
   "outputs": [],
   "source": [
    "fit_evaluate_model(lda_clf,X_train_prep,y_train_prep)"
   ]
  },
  {
   "cell_type": "markdown",
   "id": "266e10fe",
   "metadata": {
    "id": "266e10fe"
   },
   "source": [
    "#### * K-fold cross-validation "
   ]
  },
  {
   "cell_type": "code",
   "execution_count": null,
   "id": "58a2477a",
   "metadata": {
    "id": "58a2477a",
    "outputId": "36ed6dfd-bb98-47ee-c0df-79e7272bde23"
   },
   "outputs": [],
   "source": [
    "fit_evaluate_model(lda_clf,X_train_prep,y_train_prep,cross_val=True)"
   ]
  },
  {
   "cell_type": "markdown",
   "id": "4cf706ff",
   "metadata": {
    "id": "4cf706ff"
   },
   "source": [
    "#### 1.9. Bagging"
   ]
  },
  {
   "cell_type": "code",
   "execution_count": null,
   "id": "a0a37c10",
   "metadata": {
    "id": "a0a37c10"
   },
   "outputs": [],
   "source": [
    "bgg_clf = BaggingClassifier()"
   ]
  },
  {
   "cell_type": "code",
   "execution_count": null,
   "id": "75922978",
   "metadata": {
    "colab": {
     "base_uri": "https://localhost:8080/",
     "height": 852
    },
    "id": "75922978",
    "outputId": "f0b9ca63-5d38-4368-af53-cef430a49f5a"
   },
   "outputs": [],
   "source": [
    "fit_evaluate_model(bgg_clf,X_train_prep,y_train_prep)"
   ]
  },
  {
   "cell_type": "markdown",
   "id": "66c5e7b5",
   "metadata": {
    "id": "66c5e7b5"
   },
   "source": [
    "#### * K-fold cross validation"
   ]
  },
  {
   "cell_type": "code",
   "execution_count": null,
   "id": "1232d5ed",
   "metadata": {
    "id": "1232d5ed",
    "outputId": "f7324942-c736-45c0-e4e5-481c28a2fa82"
   },
   "outputs": [],
   "source": [
    "fit_evaluate_model(bgg_clf,X_train_prep,y_train_prep,has_overfitted=True)"
   ]
  },
  {
   "cell_type": "markdown",
   "id": "6a42126b",
   "metadata": {
    "id": "6a42126b"
   },
   "source": [
    "#### 1.10. Stochastic Gradient Descent Classifier (SGDC)"
   ]
  },
  {
   "cell_type": "code",
   "execution_count": null,
   "id": "e510b582",
   "metadata": {
    "id": "e510b582"
   },
   "outputs": [],
   "source": [
    "sgdc_clf = SGDClassifier(loss='log')"
   ]
  },
  {
   "cell_type": "code",
   "execution_count": null,
   "id": "2c5d4f09",
   "metadata": {
    "colab": {
     "base_uri": "https://localhost:8080/",
     "height": 852
    },
    "id": "2c5d4f09",
    "outputId": "86f9c076-caae-4de7-ec48-bc813890cb91"
   },
   "outputs": [],
   "source": [
    "fit_evaluate_model(sgdc_clf,X_train_prep,y_train_prep)"
   ]
  },
  {
   "cell_type": "markdown",
   "id": "c6dd1f85",
   "metadata": {
    "id": "c6dd1f85"
   },
   "source": [
    "#### * K-fold cross-validation "
   ]
  },
  {
   "cell_type": "code",
   "execution_count": null,
   "id": "54b9ff64",
   "metadata": {
    "id": "54b9ff64",
    "outputId": "df3c09db-7b3a-42b2-d6db-72d34be76b60"
   },
   "outputs": [],
   "source": [
    "fit_evaluate_model(sgdc_clf,X_train_prep,y_train_prep,cross_val=True)"
   ]
  },
  {
   "cell_type": "markdown",
   "id": "c1a9d426",
   "metadata": {
    "id": "c1a9d426"
   },
   "source": [
    "#### 1.11. Neural network (MLPClassifier)"
   ]
  },
  {
   "cell_type": "code",
   "execution_count": null,
   "id": "387c3df2",
   "metadata": {
    "id": "387c3df2"
   },
   "outputs": [],
   "source": [
    "mlp_clf = MLPClassifier()"
   ]
  },
  {
   "cell_type": "code",
   "execution_count": null,
   "id": "99e69525",
   "metadata": {
    "colab": {
     "base_uri": "https://localhost:8080/",
     "height": 855
    },
    "id": "99e69525",
    "outputId": "153b0872-1e04-4af6-cd97-eac22a7fd2f8"
   },
   "outputs": [],
   "source": [
    "fit_evaluate_model(mlp_clf,X_train_prep,y_train_prep)"
   ]
  },
  {
   "cell_type": "markdown",
   "id": "08c9a89b",
   "metadata": {
    "id": "08c9a89b"
   },
   "source": [
    "#### * K-fold cross validation"
   ]
  },
  {
   "cell_type": "code",
   "execution_count": null,
   "id": "467d97f5",
   "metadata": {
    "id": "467d97f5",
    "outputId": "6137dac8-e574-48c2-807a-5c7cf6f91115"
   },
   "outputs": [],
   "source": [
    "fit_evaluate_model(mlp_clf,X_train_prep,y_train_prep,has_overfitted=True)"
   ]
  },
  {
   "cell_type": "code",
   "execution_count": null,
   "id": "f180d6fd",
   "metadata": {
    "id": "f180d6fd"
   },
   "outputs": [],
   "source": []
  }
 ],
 "metadata": {
  "colab": {
   "collapsed_sections": [
    "ef617426",
    "71feece0",
    "eb6ac952",
    "82b8daa8",
    "43cf4692",
    "e4ef4b64",
    "383a486c",
    "d24b8b90",
    "22b2affe",
    "c9786e58",
    "dae7bc71",
    "62891180",
    "b4837d9f",
    "032271c2",
    "ac1b59bf",
    "750c1952",
    "5d71d8db",
    "bb1b82aa",
    "92fa8814",
    "637435e4",
    "a117639a",
    "4a84ab5f",
    "c96fdc01",
    "dd46cce2",
    "d9f9562a",
    "a53e3e40",
    "b2f11d79",
    "adc52e6f",
    "542165dc",
    "1820631d",
    "fa853213",
    "4802cb32",
    "1bdc73b4",
    "59d18a0f",
    "719010d1",
    "9bfabb3c",
    "f8688612",
    "a341a4d9",
    "bf224df0",
    "e3ef0138",
    "d1bf7741",
    "bb580e40",
    "392a66c6",
    "f3dd9af0",
    "0d3e8cac",
    "f8f3ae43",
    "7e9e0265",
    "bf36a844",
    "e1323b10",
    "e8cdac8a",
    "266e10fe",
    "4cf706ff",
    "66c5e7b5",
    "6a42126b",
    "c6dd1f85",
    "c1a9d426",
    "08c9a89b"
   ],
   "name": "Credit card approval prediction.ipynb",
   "provenance": []
  },
  "kernelspec": {
   "display_name": "Python 3 (ipykernel)",
   "language": "python",
   "name": "python3"
  },
  "language_info": {
   "codemirror_mode": {
    "name": "ipython",
    "version": 3
   },
   "file_extension": ".py",
   "mimetype": "text/x-python",
   "name": "python",
   "nbconvert_exporter": "python",
   "pygments_lexer": "ipython3",
   "version": "3.10.2"
  }
 },
 "nbformat": 4,
 "nbformat_minor": 5
}
